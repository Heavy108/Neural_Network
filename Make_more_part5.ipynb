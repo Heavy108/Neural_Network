{
 "cells": [
  {
   "cell_type": "code",
   "execution_count": 1,
   "metadata": {},
   "outputs": [],
   "source": [
    "import torch\n",
    "import torch.nn.functional as F\n",
    "import matplotlib.pyplot as plt # for making figures\n",
    "%matplotlib inline"
   ]
  },
  {
   "cell_type": "code",
   "execution_count": 2,
   "metadata": {},
   "outputs": [
    {
     "name": "stdout",
     "output_type": "stream",
     "text": [
      "2845\n",
      "54381\n",
      "['पीटर लीवर जन्म सितंबर टोडमॉर्डन यॉर्कशायर इंग्लैंड एक पूर्व अंग्रेजी क्रिकेटर हैं जो से तक सत्रह टेस्ट और इंग्लैंड के लिए दस वनडे खेले। वह एक सफल विकेट लेने वाला खिलाड़ी था जिसने सत्रह टेस्ट मैचों में शिकार किए और रन के सर्वोच्च स्कोर के साथ एक आसान बल्लेबाज था। अपने करियर के अंत में न्यूजीलैंड के खिलाफ एक टेस्ट मैच के दौरान उन्होंने बाउंसर से डेब्यू करने वाले इवेन चैटफील्ड को लगभग मार डाला। सन्दर्भ श्रेणीइंग्लैंड के क्रिकेट खिलाड़ी श्रेणीइंग्लैंड के वनडे क्रिकेट खिलाड़ी श्रेणीजीवित लोग श्रेणी में जन्मे लोग', 'यह गुफा शिवपुर के निकट अम्बिकापुर से एक घण्टे की दूरी पर है इसमें अनेक प्राचीन मूर्तियां हैं इसमें महान नामक एक नदी का पानी निकलता रहता है वहीं इस नदी का उद्गम भी है इस गुफा का दूसरा छोर महामाया मंदिर के निकट निकलता है', 'प्रगतिशील कर्मिक और कृषक संघ सूरीनाम का एक राजनैतिक दल है। पिछ्ले विधायी चुनावों २५ मई २००५ में इसे १० मत मिले थे और राष्ट्रीय विधानसभा की किसी भी सीट पर विजय प्राप्त नहीं हुई। बाहरी कड़ियाँ सूरीनाम के राजनैतिक दल। श्रेणीसूरीनाम के राजनैतिक दल', 'बैजनाथपुर बिहार स्थित एक गाँव है। श्रेणीभागलपुर जिला के गाँव', 'क़त्तारा द्रोणी मुनख़फ़थ़ अलक़त्ताराह उत्तरपश्चिमी मिस्र के में लीबयाई रेगिस्तान में स्थित एक रागिस्तानी द्रोणी बेसिन है। इस द्रोणी में अफ़्रीका का दूसरा सब से निचला ज़मीनी क्षेत्र आता है जो समुद्री सतह से मीटर फ़ुट नीचे है। इस द्रोणी का क्षेत्रफल लगभग वर्ग किमी वग मील है यानि भारत के मिज़ोरम राज्य से थोड़ा छोटा। क़त्तारा द्रोणी के बीच के सबसे नीचले भाग में एक नमक का मैदान है। इसके किमी पश्चिम पर क़त्तारा से छोटी एक और द्रोणी में ओएसिस है। इस द्रोणी में केवल एक स्थाई आबादी वाला क़स्बा है जिसका नाम क़रा नख़लिस्तान है और जिसमें बर्बर जाति के लगभग लोग रहते हैं। इन्हें भी देखें मिस्र सन्दर्भ श्रेणीद्रोणियाँ श्रेणीमत्रूह मुहाफ़ज़ाह श्रेणीमिस्र श्रेणीहिन्दी विकि डीवीडी परियोजना', 'तल्लाबर्धो बेतालघाट तहसील में भारत के उत्तराखण्ड राज्य के अन्तर्गत कुमाऊँ मण्डल के नैनीताल जिले का एक गाँव है। इन्हें भी देखें उत्तराखण्ड के जिले उत्तराखण्ड के नगर कुमाऊँ मण्डल गढ़वाल मण्डल बाहरी कड़ियाँ उत्तराखण्ड भारत सरकार के आधिकारिक पोर्टल पर उत्तराखण्ड सरकार का आधिकारिक जालपृष्ठ उत्तराखण्डउत्तराखण्ड के बारे में विस्तृत एवं प्रामाणिक जानकारी उत्तरा कृषि प्रभा', 'लिली क्लोई निंएट थॉमसन जन्म अप्रैल जिन्हें लिली जेम्स के रूप में पेशेवर रूप से जाना जाता है एक अंग्रेजी अभिनेत्री और गायिका हैं। उन्होंने लंदन में गिल्डहॉल स्कूल ऑफ म्यूजिक एंड ड्रामा में अभिनय का अध्ययन किया और ब्रिटिश टेलीविजन श्रृंखला जस्ट विलियम में अपने अभिनय करियर की शुरुआत की। पीरियड ड्रामा सीरीज़ डाउटन एबे में उनकी सहायक भूमिका के बाद उन्हें रोमांस फैंटसी फिल्म सिंड्रेला में शीर्षक भूमिका के रूप में उन्हें सफलता मिली। प्रारंभिक जीवन लिली जेम्स का जन्म अप्रैल को एशर सरे में हुआ था जो निनेट मैटल एक अभिनेत्री और जेम्स जेमी थॉमसन एक संगीतकार की बेटी थी। उनके दो भाई हैं एक बड़ा और एक छोटा। उनकी नानी हेलेन हॉर्टन एक अमेरिकी अभिनेत्री थीं। उन्होंने प्रदर्शन कला के लिए ट्रिंग पार्क स्कूलमें भाग लिया और बाद में लंदन में गिल्डहॉल स्कूल ऑफ़ म्यूज़िक एंड ड्रामा में अभिनय की पढ़ाई करने के लिए चली गईं में स्नातक की उपाधि प्राप्त की। इसके बाद उसने लंदन में टैविस्टॉक वुड प्रबंधन के साथ हस्ताक्षर किए। कैरियर उनके टेलीविजन क्रेडिट में रिचेल क्रॉम्पटन के जस्ट विलियम के के बीबीसी प्रोडक्शन में एटेल ब्राउन आईटीवी की सीक्रेट डायरी ऑफ ए कॉल गर्ल की चौथी श्रृंखला में पॉपी और डाउटन एबे में लेडी रोज शामिल हैं। लेडी रोज़ बाद में कार्यक्रम की चौथी और पाँचवीं श्रृंखला में एक मुख्य पात्र बन गईं। जेम्स श्रृंखला के समापन में लेडी रोज के रूप में भी दिखाई दी । नवंबर में जेम्स को डेफेन डु मौरियर के गोथिक रोमांस रेबेका के एक नए रूपांतर में दूसरी मिसेज डी विंटर के रूप में चुना गया था। इसका निर्देशन बेन व्हीटले और सहकलाकार अर्मी हैमर करेंगे । सन्दर्भ बाहरी कड़ियाँ श्रेणीअंग्रेजी अभिनेत्री श्रेणी में जन्मे लोग श्रेणीजीवित लोग', 'पूर्णिया बिहार का एक प्रखण्ड। श्रेणीबिहार के प्रखण्ड श्रेणीबिहार']\n"
     ]
    }
   ],
   "source": [
    "# read in all the words\n",
    "words = open('hindi.txt', 'r').read().splitlines()\n",
    "print(len(words))\n",
    "print(max(len(w) for w in words))\n",
    "print(words[:8])"
   ]
  },
  {
   "cell_type": "code",
   "execution_count": 3,
   "metadata": {},
   "outputs": [
    {
     "name": "stdout",
     "output_type": "stream",
     "text": [
      "{1: ' ', 2: 'ँ', 3: 'ं', 4: 'ः', 5: 'अ', 6: 'आ', 7: 'इ', 8: 'ई', 9: 'उ', 10: 'ऊ', 11: 'ऋ', 12: 'ऍ', 13: 'ऎ', 14: 'ए', 15: 'ऐ', 16: 'ऑ', 17: 'ऒ', 18: 'ओ', 19: 'औ', 20: 'क', 21: 'ख', 22: 'ग', 23: 'घ', 24: 'ङ', 25: 'च', 26: 'छ', 27: 'ज', 28: 'झ', 29: 'ञ', 30: 'ट', 31: 'ठ', 32: 'ड', 33: 'ढ', 34: 'ण', 35: 'त', 36: 'थ', 37: 'द', 38: 'ध', 39: 'न', 40: 'ऩ', 41: 'प', 42: 'फ', 43: 'ब', 44: 'भ', 45: 'म', 46: 'य', 47: 'र', 48: 'ऱ', 49: 'ल', 50: 'ळ', 51: 'ऴ', 52: 'व', 53: 'श', 54: 'ष', 55: 'स', 56: 'ह', 57: '़', 58: 'ऽ', 59: 'ा', 60: 'ि', 61: 'ी', 62: 'ु', 63: 'ू', 64: 'ृ', 65: 'ॄ', 66: 'ॅ', 67: 'ॆ', 68: 'े', 69: 'ै', 70: 'ॉ', 71: 'ॊ', 72: 'ो', 73: 'ौ', 74: '्', 75: 'ॐ', 76: '॑', 77: '॒', 78: '॓', 79: '॔', 80: 'ॠ', 81: '।', 82: '॥', 83: '०', 84: '१', 85: '२', 86: '३', 87: '४', 88: '५', 89: '६', 90: '७', 91: '८', 92: '९', 93: '॰', 0: '.'}\n",
      "94\n"
     ]
    }
   ],
   "source": [
    "# build the vocabulary of characters and mappings to/from integers\n",
    "chars = sorted(list(set(''.join(words))))\n",
    "stoi = {s:i+1 for i,s in enumerate(chars)}\n",
    "stoi['.'] = 0\n",
    "itos = {i:s for s,i in stoi.items()}\n",
    "vocab_size = len(itos)\n",
    "print(itos)\n",
    "print(vocab_size)"
   ]
  },
  {
   "cell_type": "code",
   "execution_count": 4,
   "metadata": {},
   "outputs": [],
   "source": [
    "# shuffle up the words\n",
    "import random\n",
    "random.seed(42)\n",
    "random.shuffle(words)"
   ]
  },
  {
   "cell_type": "code",
   "execution_count": 5,
   "metadata": {},
   "outputs": [
    {
     "name": "stdout",
     "output_type": "stream",
     "text": [
      "torch.Size([2972828, 3]) torch.Size([2972828])\n",
      "torch.Size([412615, 3]) torch.Size([412615])\n",
      "torch.Size([334578, 3]) torch.Size([334578])\n"
     ]
    }
   ],
   "source": [
    "# build the dataset\n",
    "block_size = 3 # context length: how many characters do we take to predict the next one?\n",
    "\n",
    "def build_dataset(words):  \n",
    "  X, Y = [], []\n",
    "  \n",
    "  for w in words:\n",
    "    context = [0] * block_size\n",
    "    for ch in w + '.':\n",
    "      ix = stoi[ch]\n",
    "      X.append(context)\n",
    "      Y.append(ix)\n",
    "      context = context[1:] + [ix] # crop and append\n",
    "\n",
    "  X = torch.tensor(X)\n",
    "  Y = torch.tensor(Y)\n",
    "  print(X.shape, Y.shape)\n",
    "  return X, Y\n",
    "\n",
    "n1 = int(0.8*len(words))\n",
    "n2 = int(0.9*len(words))\n",
    "Xtr,  Ytr  = build_dataset(words[:n1])     # 80%\n",
    "Xdev, Ydev = build_dataset(words[n1:n2])   # 10%\n",
    "Xte,  Yte  = build_dataset(words[n2:])     # 10%"
   ]
  },
  {
   "cell_type": "code",
   "execution_count": 6,
   "metadata": {},
   "outputs": [
    {
     "name": "stdout",
     "output_type": "stream",
     "text": [
      "... --> क\n",
      "..क --> ु\n",
      ".कु --> श\n",
      "कुश --> ी\n",
      "ुशी -->  \n",
      "शी  --> स\n",
      "ी स --> न\n",
      " सन --> ्\n",
      "सन् -->  \n",
      "न्  --> क\n",
      "् क --> ी\n",
      " की -->  \n",
      "की  --> भ\n",
      "ी भ --> ा\n",
      " भा --> र\n",
      "भार --> त\n",
      "ारत --> ी\n",
      "रती --> य\n",
      "तीय -->  \n",
      "ीय  --> क\n"
     ]
    }
   ],
   "source": [
    "for x,y in zip(Xtr[:20], Ytr[:20]):\n",
    "  print(''.join(itos[ix.item()] for ix in x), '-->', itos[y.item()])"
   ]
  },
  {
   "cell_type": "code",
   "execution_count": 7,
   "metadata": {},
   "outputs": [],
   "source": [
    "# Near copy paste of the layers we have developed in Part 3\n",
    "\n",
    "# -----------------------------------------------------------------------------------------------\n",
    "class Linear:\n",
    "  \n",
    "  def __init__(self, fan_in, fan_out, bias=True):\n",
    "    self.weight = torch.randn((fan_in, fan_out)) / fan_in**0.5 # note: kaiming init\n",
    "    self.bias = torch.zeros(fan_out) if bias else None\n",
    "  \n",
    "  def __call__(self, x):\n",
    "    self.out = x @ self.weight\n",
    "    if self.bias is not None:\n",
    "      self.out += self.bias\n",
    "    return self.out\n",
    "  \n",
    "  def parameters(self):\n",
    "    return [self.weight] + ([] if self.bias is None else [self.bias])\n",
    "\n",
    "# -----------------------------------------------------------------------------------------------\n",
    "\n",
    "class BatchNorm1d:\n",
    "  \n",
    "  def __init__(self, dim, eps=1e-5, momentum=0.1):\n",
    "    self.eps = eps\n",
    "    self.momentum = momentum\n",
    "    self.training = True\n",
    "    # parameters (trained with backprop)\n",
    "    self.gamma = torch.ones(dim)\n",
    "    self.beta = torch.zeros(dim)\n",
    "    # buffers (trained with a running 'momentum update')\n",
    "    self.running_mean = torch.zeros(dim)\n",
    "    self.running_var = torch.ones(dim)\n",
    "  \n",
    "  def __call__(self, x):\n",
    "    # calculate the forward pass\n",
    "    # if self.training:\n",
    "    #   if x.ndim == 2:\n",
    "    #     dim = 0\n",
    "    #   elif x.ndim == 3:\n",
    "    #     dim = (0,1)\n",
    "    #   xmean = x.mean(dim, keepdim=True) # batch mean\n",
    "    #   xvar = x.var(dim, keepdim=True) # batch variance\n",
    "    # else:\n",
    "    #   xmean = self.running_mean\n",
    "    #   xvar = self.running_var\n",
    "    # xhat = (x - xmean) / torch.sqrt(xvar + self.eps) # normalize to unit variance\n",
    "    # self.out = self.gamma * xhat + self.beta\n",
    "    if self.training:\n",
    "      xmean =x.mean(0 , keepdim=True) #batch mean\n",
    "      xvar =x.var(0,keepdim=True) #batch variance\n",
    "    else:\n",
    "      xmean =self.running_mean\n",
    "      xvar = self.running_var\n",
    "    xhat =(x-xmean)/torch.sqrt(xvar +self.eps) #normailze to get unit variance\n",
    "    self.out =self.gamma *xhat +self.beta\n",
    "    # update the buffers\n",
    "    if self.training:\n",
    "      with torch.no_grad():\n",
    "        self.running_mean = (1 - self.momentum) * self.running_mean + self.momentum * xmean\n",
    "        self.running_var = (1 - self.momentum) * self.running_var + self.momentum * xvar\n",
    "    return self.out\n",
    "  \n",
    "  def parameters(self):\n",
    "    return [self.gamma, self.beta]\n",
    "\n",
    "# -----------------------------------------------------------------------------------------------\n",
    "class Tanh:\n",
    "  def __call__(self, x):\n",
    "    self.out = torch.tanh(x)\n",
    "    return self.out\n",
    "  def parameters(self):\n",
    "    return []\n"
   ]
  },
  {
   "cell_type": "code",
   "execution_count": 8,
   "metadata": {},
   "outputs": [],
   "source": [
    "torch.manual_seed(42); # seed rng for reproducibility"
   ]
  },
  {
   "cell_type": "code",
   "execution_count": 9,
   "metadata": {},
   "outputs": [
    {
     "name": "stdout",
     "output_type": "stream",
     "text": [
      "26234\n"
     ]
    }
   ],
   "source": [
    "# original network\n",
    "n_embd = 10 # the dimensionality of the character embedding vectors\n",
    "n_hidden = 200 # the number of neurons in the hidden layer of the MLP\n",
    "C=torch.randn((vocab_size,n_embd))\n",
    "layers =[\n",
    "  Linear(n_embd*block_size,n_hidden,bias=False),BatchNorm1d(n_hidden),Tanh(),\n",
    "  Linear(n_hidden,vocab_size),\n",
    "]\n",
    "# model = Sequential([\n",
    "#   Embedding(vocab_size, n_embd),\n",
    "#   FlattenConsecutive(8), Linear(n_embd * 8, n_hidden, bias=False), BatchNorm1d(n_hidden), Tanh(),\n",
    "#   Linear(n_hidden, vocab_size),\n",
    "# ])\n",
    "\n",
    "# hierarchical network\n",
    "# n_embd = 24 # the dimensionality of the character embedding vectors\n",
    "# n_hidden = 128 # the number of neurons in the hidden layer of the MLP\n",
    "# model = Sequential([\n",
    "#   Embedding(vocab_size, n_embd),\n",
    "#   FlattenConsecutive(2), Linear(n_embd * 2, n_hidden, bias=False), BatchNorm1d(n_hidden), Tanh(),\n",
    "#   FlattenConsecutive(2), Linear(n_hidden*2, n_hidden, bias=False), BatchNorm1d(n_hidden), Tanh(),\n",
    "#   FlattenConsecutive(2), Linear(n_hidden*2, n_hidden, bias=False), BatchNorm1d(n_hidden), Tanh(),\n",
    "#   Linear(n_hidden, vocab_size),\n",
    "# ])\n",
    "\n",
    "# parameter init\n",
    "with torch.no_grad():\n",
    "  layers[-1].weight *= 0.1 # last layer make less confident\n",
    "\n",
    "parameters = [C] + [p for layer in layers for p in layer.parameters()]\n",
    "print(sum(p.nelement() for p in parameters)) # number of parameters in total\n",
    "for p in parameters:\n",
    "  p.requires_grad = True"
   ]
  },
  {
   "cell_type": "code",
   "execution_count": 10,
   "metadata": {},
   "outputs": [
    {
     "name": "stdout",
     "output_type": "stream",
     "text": [
      "      0/ 200000: 4.5472\n",
      "  10000/ 200000: 2.1161\n",
      "  20000/ 200000: 2.7569\n",
      "  30000/ 200000: 2.2446\n",
      "  40000/ 200000: 2.3785\n",
      "  50000/ 200000: 2.3498\n",
      "  60000/ 200000: 2.1531\n",
      "  70000/ 200000: 2.2194\n",
      "  80000/ 200000: 1.7893\n",
      "  90000/ 200000: 2.1616\n",
      " 100000/ 200000: 2.4116\n",
      " 110000/ 200000: 2.4792\n",
      " 120000/ 200000: 1.9201\n",
      " 130000/ 200000: 1.8912\n",
      " 140000/ 200000: 2.0006\n",
      " 150000/ 200000: 1.8484\n",
      " 160000/ 200000: 2.4590\n",
      " 170000/ 200000: 2.2547\n",
      " 180000/ 200000: 2.5327\n",
      " 190000/ 200000: 2.1863\n"
     ]
    }
   ],
   "source": [
    "# same optimization as last time\n",
    "max_steps = 200000\n",
    "batch_size = 32\n",
    "lossi = []\n",
    "\n",
    "for i in range(max_steps):\n",
    "  \n",
    "  # minibatch construct\n",
    "  ix = torch.randint(0, Xtr.shape[0], (batch_size,))\n",
    "  Xb, Yb = Xtr[ix], Ytr[ix] # batch X,Y\n",
    "  \n",
    "  # forward pass\n",
    "  emb = C[Xb] # embed the characters into vectors\n",
    "  x = emb.view(emb.shape[0], -1) # concatenate the vectors\n",
    "  for layer in layers:\n",
    "    x=layer(x)\n",
    "  loss =F.cross_entropy(x,Yb) #loss function\n",
    "  #backward pass\n",
    "  for p in parameters:\n",
    "    p.grad=None\n",
    "  loss.backward()\n",
    "  # update\n",
    "  lr = 0.1 if i < 150000 else 0.01 # step learning rate decay\n",
    "  for p in parameters:\n",
    "    p.data += -lr * p.grad\n",
    "\n",
    "  # track stats\n",
    "  if i % 10000 == 0: # print every once in a while\n",
    "    print(f'{i:7d}/{max_steps:7d}: {loss.item():.4f}')\n",
    "  lossi.append(loss.log10().item())"
   ]
  },
  {
   "cell_type": "code",
   "execution_count": 11,
   "metadata": {},
   "outputs": [
    {
     "data": {
      "text/plain": [
       "[<matplotlib.lines.Line2D at 0x7f0cfda07820>]"
      ]
     },
     "execution_count": 11,
     "metadata": {},
     "output_type": "execute_result"
    },
    {
     "data": {
      "image/png": "[encoded data removed]",
      "text/plain": [
       "<Figure size 640x480 with 1 Axes>"
      ]
     },
     "metadata": {},
     "output_type": "display_data"
    }
   ],
   "source": [
    "plt.plot(torch.tensor(lossi).view(-1, 1000).mean(1))"
   ]
  },
  {
   "cell_type": "code",
   "execution_count": 12,
   "metadata": {},
   "outputs": [],
   "source": [
    "for layer in layers:\n",
    "    layer.training =False"
   ]
  },
  {
   "cell_type": "code",
   "execution_count": 13,
   "metadata": {},
   "outputs": [],
   "source": [
    "# @torch.no_grad() # this decorator disables gradient tracking\n",
    "# def split_loss(split):\n",
    "#   x,y = {\n",
    "#     'train': (Xtr, Ytr),\n",
    "#     'val': (Xdev, Ydev),\n",
    "#     'test': (Xte, Yte),\n",
    "#   }[split]\n",
    "#   emb = C[x] # (N, block_size, n_embd)\n",
    "#   x = emb.view(emb.shape[0], -1) # concat into (N, block_size * n_embd)\n",
    "#   for layer in layers:\n",
    "#     x=layer(x)\n",
    "\n",
    "#   loss=F.cross_entropy(x,y)\n",
    "#   print(split ,loss.item())\n",
    "\n",
    "# split_loss('train')\n",
    "# split_loss('val')"
   ]
  },
  {
   "cell_type": "code",
   "execution_count": 1,
   "metadata": {},
   "outputs": [
    {
     "ename": "NameError",
     "evalue": "name 'block_size' is not defined",
     "output_type": "error",
     "traceback": [
      "\u001b[0;31m---------------------------------------------------------------------------\u001b[0m",
      "\u001b[0;31mNameError\u001b[0m                                 Traceback (most recent call last)",
      "Cell \u001b[0;32mIn[1], line 5\u001b[0m\n\u001b[1;32m      2\u001b[0m \u001b[38;5;28;01mfor\u001b[39;00m _ \u001b[38;5;129;01min\u001b[39;00m \u001b[38;5;28mrange\u001b[39m(\u001b[38;5;241m10\u001b[39m):\n\u001b[1;32m      4\u001b[0m     out \u001b[38;5;241m=\u001b[39m []\n\u001b[0;32m----> 5\u001b[0m     context \u001b[38;5;241m=\u001b[39m [\u001b[38;5;241m0\u001b[39m] \u001b[38;5;241m*\u001b[39m \u001b[43mblock_size\u001b[49m \u001b[38;5;66;03m# initialize with all ...\u001b[39;00m\n\u001b[1;32m      6\u001b[0m     \u001b[38;5;28;01mwhile\u001b[39;00m \u001b[38;5;28;01mTrue\u001b[39;00m:\n\u001b[1;32m      7\u001b[0m         emb \u001b[38;5;241m=\u001b[39mC[torch\u001b[38;5;241m.\u001b[39mtensor([context])]\n",
      "\u001b[0;31mNameError\u001b[0m: name 'block_size' is not defined"
     ]
    }
   ],
   "source": [
    "# sample from the model\n",
    "for _ in range(10):\n",
    "    \n",
    "    out = []\n",
    "    context = [0] * block_size # initialize with all ...\n",
    "    while True:\n",
    "        emb =C[torch.tensor([context])]\n",
    "        x =emb.view(emb.shape[0] ,-1)\n",
    "        for layer in layers:\n",
    "            x=layer(x)\n",
    "        logits=x\n",
    "        probs =F.softmax(logits,dim=1)\n",
    "        #sample from the distribution\n",
    "        ix =torch.multinomial(probs ,num_samples= 1).item()\n",
    "        context =context[1:] +[ix]\n",
    "        out.append(ix)\n",
    "        if ix==0:\n",
    "            break\n",
    "\n",
    "     \n",
    "    \n",
    "    print(''.join(itos[i] for i in out)) # decode and print the generated word"
   ]
  }
 ],
 "metadata": {
  "kernelspec": {
   "display_name": "env",
   "language": "python",
   "name": "python3"
  },
  "language_info": {
   "codemirror_mode": {
    "name": "ipython",
    "version": 3
   },
   "file_extension": ".py",
   "mimetype": "text/x-python",
   "name": "python",
   "nbconvert_exporter": "python",
   "pygments_lexer": "ipython3",
   "version": "3.10.12"
  }
 },
 "nbformat": 4,
 "nbformat_minor": 2
}
