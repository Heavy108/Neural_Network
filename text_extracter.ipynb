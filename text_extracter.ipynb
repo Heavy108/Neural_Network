{
 "cells": [
  {
   "cell_type": "code",
   "execution_count": 10,
   "metadata": {},
   "outputs": [
    {
     "name": "stdout",
     "output_type": "stream",
     "text": [
      "Requirement already satisfied: bs4 in ./env/lib/python3.10/site-packages (0.0.2)\n",
      "Requirement already satisfied: beautifulsoup4 in ./env/lib/python3.10/site-packages (from bs4) (4.12.3)\n",
      "Requirement already satisfied: soupsieve>1.2 in ./env/lib/python3.10/site-packages (from beautifulsoup4->bs4) (2.6)\n",
      "Requirement already satisfied: requests in ./env/lib/python3.10/site-packages (2.32.3)\n",
      "Requirement already satisfied: urllib3<3,>=1.21.1 in ./env/lib/python3.10/site-packages (from requests) (2.2.2)\n",
      "Requirement already satisfied: charset-normalizer<4,>=2 in ./env/lib/python3.10/site-packages (from requests) (3.3.2)\n",
      "Requirement already satisfied: idna<4,>=2.5 in ./env/lib/python3.10/site-packages (from requests) (3.8)\n",
      "Requirement already satisfied: certifi>=2017.4.17 in ./env/lib/python3.10/site-packages (from requests) (2024.8.30)\n"
     ]
    }
   ],
   "source": [
    "!pip install bs4\n",
    "!pip install requests"
   ]
  },
  {
   "cell_type": "code",
   "execution_count": 14,
   "metadata": {},
   "outputs": [
    {
     "name": "stdout",
     "output_type": "stream",
     "text": [
      "Text from all links has been extracted and saved to extracted_text.txt.\n"
     ]
    }
   ],
   "source": [
    "import requests\n",
    "from bs4 import BeautifulSoup\n",
    "import re\n",
    "\n",
    "# Path to the .links file\n",
    "links_file = 'hi_86.links'\n",
    "\n",
    "# Output file for the extracted text\n",
    "output_file = 'extracted_text.txt'\n",
    "\n",
    "# Function to extract text from a URL and filter it to contain only Hindi text\n",
    "def extract_text_from_url(url):\n",
    "    try:\n",
    "        # Check if the URL is valid\n",
    "        if not url.startswith('http'):\n",
    "            return f\"Invalid URL: {url}\"\n",
    "        \n",
    "        # Send a GET request to the URL\n",
    "        response = requests.get(url, timeout=10)\n",
    "        response.raise_for_status()\n",
    "        \n",
    "        # Parse the content with BeautifulSoup\n",
    "        soup = BeautifulSoup(response.content, 'html.parser')\n",
    "        \n",
    "        # Extract the text\n",
    "        raw_text = soup.get_text(separator='\\n', strip=True)\n",
    "        \n",
    "        # Filter the text to keep only Hindi characters\n",
    "        hindi_text = re.findall(r'[\\u0900-\\u097F\\s]+', raw_text)\n",
    "        hindi_text = ''.join(hindi_text)\n",
    "        \n",
    "        # Remove any unwanted characters (numbers, links, etc.)\n",
    "        hindi_text_cleaned = re.sub(r'\\d+|http\\S+|www\\S+|[a-zA-Z]', '', hindi_text)\n",
    "        \n",
    "        return hindi_text_cleaned\n",
    "    except requests.exceptions.RequestException as e:\n",
    "        return f\"Failed to retrieve {url}: {e}\"\n",
    "\n",
    "# Open the .links file and read the URLs\n",
    "with open(links_file, 'r') as file:\n",
    "    links = file.readlines()\n",
    "\n",
    "# Open the output file in write mode\n",
    "with open(output_file, 'w') as out_file:\n",
    "    for link in links:\n",
    "        link = link.strip()\n",
    "        if link:\n",
    "            # out_file.write(f\"Extracting text from: {link}\\n\\n\")\n",
    "            text = extract_text_from_url(link)\n",
    "            out_file.write(text + \"\\n\\n\")\n",
    "            # out_file.write(\"=\"*50 + \"\\n\\n\")\n",
    "\n",
    "print(f\"Text from all links has been extracted and saved to {output_file}.\")\n"
   ]
  }
 ],
 "metadata": {
  "kernelspec": {
   "display_name": "env",
   "language": "python",
   "name": "python3"
  },
  "language_info": {
   "codemirror_mode": {
    "name": "ipython",
    "version": 3
   },
   "file_extension": ".py",
   "mimetype": "text/x-python",
   "name": "python",
   "nbconvert_exporter": "python",
   "pygments_lexer": "ipython3",
   "version": "3.10.12"
  }
 },
 "nbformat": 4,
 "nbformat_minor": 2
}
