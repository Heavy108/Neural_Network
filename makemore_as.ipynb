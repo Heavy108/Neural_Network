{
 "cells": [
  {
   "cell_type": "markdown",
   "metadata": {},
   "source": [
    "### Makemore but with MLP\n",
    "\n",
    "based on this paper: https://www.jmlr.org/papers/volume3/bengio03a/bengio03a.pdf"
   ]
  },
  {
   "cell_type": "code",
   "execution_count": 1,
   "metadata": {},
   "outputs": [],
   "source": [
    "import torch\n",
    "import torch.nn.functional as F\n",
    "import matplotlib.pyplot as plt\n",
    "\n",
    "%matplotlib inline\n",
    "\n",
    "device = \"cuda:0\" if torch.cuda.is_available() else \"cpu\"\n",
    "torch.set_default_device(device)"
   ]
  },
  {
   "cell_type": "code",
   "execution_count": 2,
   "metadata": {},
   "outputs": [],
   "source": [
    "words = open(\"assamese.txt\", \"r\").read().split()\n",
    "words = [\n",
    "    w\n",
    "    for w in words\n",
    "    if \"১\"\n",
    "    and \"২\"\n",
    "    and \"৩\"\n",
    "    and \"৪\"\n",
    "    and \"৫\"\n",
    "    and \"৬\"\n",
    "    and \"৭\"\n",
    "    and \"৮\"\n",
    "    and \"৯\"\n",
    "    and \"০\" not in w\n",
    "]"
   ]
  },
  {
   "cell_type": "code",
   "execution_count": 3,
   "metadata": {},
   "outputs": [
    {
     "data": {
      "text/plain": [
       "'’হিছট’ৰি'"
      ]
     },
     "execution_count": 3,
     "metadata": {},
     "output_type": "execute_result"
    }
   ],
   "source": [
    "max(words)"
   ]
  },
  {
   "cell_type": "code",
   "execution_count": 4,
   "metadata": {},
   "outputs": [],
   "source": [
    "characters = sorted(list((set(\"\".join(words)))))\n",
    "stoi = {s: i + 1 for i, s in enumerate(characters)}\n",
    "stoi[\"~\"] = 0\n",
    "itos = {i: s for s, i in stoi.items()}"
   ]
  },
  {
   "cell_type": "code",
   "execution_count": 5,
   "metadata": {},
   "outputs": [
    {
     "data": {
      "text/plain": [
       "93"
      ]
     },
     "execution_count": 5,
     "metadata": {},
     "output_type": "execute_result"
    }
   ],
   "source": [
    "len(itos)"
   ]
  },
  {
   "cell_type": "code",
   "execution_count": 6,
   "metadata": {},
   "outputs": [],
   "source": [
    "vocab = len(characters) + 1"
   ]
  },
  {
   "cell_type": "code",
   "execution_count": 7,
   "metadata": {},
   "outputs": [
    {
     "name": "stdout",
     "output_type": "stream",
     "text": [
      "মলিনা\n",
      "~~~ --> ম\n",
      "~~ম --> ল\n",
      "~মল --> ি\n",
      "মলি --> ন\n",
      "লিন --> া\n",
      "িনা --> ~\n",
      "দেৱী\n",
      "~~~ --> দ\n",
      "~~দ --> ে\n",
      "~দে --> ৱ\n",
      "দেৱ --> ী\n",
      "েৱী --> ~\n"
     ]
    }
   ],
   "source": [
    "# building the dataset\n",
    "\n",
    "block_size = 3  # context length: how many characters do we need to predict the next one\n",
    "X, Y = [], []\n",
    "for w in words[:2]:\n",
    "    print(w)\n",
    "    context = [0] * block_size\n",
    "    for ch in w + \"~\":\n",
    "        ix = stoi[ch]\n",
    "        X.append(context)\n",
    "        Y.append(ix)\n",
    "        print(\"\".join(itos[i] for i in context), \"-->\", itos[ix])\n",
    "        context = context[1:] + [ix]  # crop and append\n",
    "\n",
    "X = torch.tensor(X)\n",
    "Y = torch.tensor(Y)"
   ]
  },
  {
   "cell_type": "code",
   "execution_count": 8,
   "metadata": {},
   "outputs": [
    {
     "data": {
      "text/plain": [
       "(torch.Size([11, 3]), torch.int64, torch.Size([11]), torch.int64)"
      ]
     },
     "execution_count": 8,
     "metadata": {},
     "output_type": "execute_result"
    }
   ],
   "source": [
    "X.shape, X.dtype, Y.shape, Y.dtype"
   ]
  },
  {
   "cell_type": "code",
   "execution_count": 9,
   "metadata": {},
   "outputs": [],
   "source": [
    "C = torch.randn((vocab, 2))"
   ]
  },
  {
   "cell_type": "code",
   "execution_count": 10,
   "metadata": {},
   "outputs": [
    {
     "data": {
      "text/plain": [
       "tensor([0.3732, 0.9108], device='cuda:0')"
      ]
     },
     "execution_count": 10,
     "metadata": {},
     "output_type": "execute_result"
    }
   ],
   "source": [
    "F.one_hot(torch.tensor(5), num_classes=vocab).float() @ C"
   ]
  },
  {
   "cell_type": "markdown",
   "metadata": {},
   "source": [
    "### The Neural Net 🥁"
   ]
  },
  {
   "cell_type": "code",
   "execution_count": 11,
   "metadata": {},
   "outputs": [],
   "source": [
    "# building the dataset\n",
    "\n",
    "block_size = 3  # context length: how many characters do we need to predict the next one\n",
    "X, Y = [], []\n",
    "for w in words:\n",
    "    context = [0] * block_size\n",
    "    for ch in w + \".\":\n",
    "        ix = stoi[ch]\n",
    "        X.append(context)\n",
    "        Y.append(ix)\n",
    "        context = context[1:] + [ix]  # crop and append\n",
    "\n",
    "X = torch.tensor(X)\n",
    "Y = torch.tensor(Y)\n"
   ]
  },
  {
   "cell_type": "code",
   "execution_count": 12,
   "metadata": {},
   "outputs": [
    {
     "data": {
      "text/plain": [
       "torch.Size([165189, 3])"
      ]
     },
     "execution_count": 12,
     "metadata": {},
     "output_type": "execute_result"
    }
   ],
   "source": [
    "X.shape"
   ]
  },
  {
   "cell_type": "code",
   "execution_count": 13,
   "metadata": {},
   "outputs": [
    {
     "name": "stdout",
     "output_type": "stream",
     "text": [
      "Final Loss = 11.799991607666016\n"
     ]
    },
    {
     "data": {
      "image/png": "[encoded data removed]",
      "text/plain": [
       "<Figure size 640x480 with 1 Axes>"
      ]
     },
     "metadata": {},
     "output_type": "display_data"
    }
   ],
   "source": [
    "C = torch.randn((vocab, 2))\n",
    "W1 = torch.randn((6, 100))\n",
    "b1 = torch.randn(100)\n",
    "W2 = torch.randn((100, vocab))\n",
    "b2 = torch.randn(vocab)\n",
    "parameters = [C, W1, b1, W2, b2]\n",
    "\n",
    "for p in parameters:\n",
    "    p.requires_grad = True\n",
    "\n",
    "losses = []\n",
    "iters = 20\n",
    "for _ in range(iters):\n",
    "    # forward pass\n",
    "    emb = C[X]\n",
    "    h = torch.tanh(emb.view(-1, 6) @ W1 + b1)\n",
    "    logits = h @ W2 + b2\n",
    "    loss = F.cross_entropy(logits, Y)\n",
    "    losses.append(loss.item())\n",
    "    # backward pass\n",
    "    for p in parameters:\n",
    "        p.grad = None\n",
    "    loss.backward()\n",
    "    # update\n",
    "    for p in parameters:\n",
    "        p.data += -0.1 * p.grad\n",
    "\n",
    "\n",
    "plt.plot(range(iters), losses)\n",
    "plt.title(\"Change in loss with each iteration\")\n",
    "plt.ylabel(\"loss\")\n",
    "plt.xlabel(\"iterations\")\n",
    "print(f\"Final Loss = {losses.pop()}\")"
   ]
  },
  {
   "cell_type": "markdown",
   "metadata": {},
   "source": [
    "this took up way too much time. so let's do this in batches, or rather ✨*mini-batches*✨"
   ]
  },
  {
   "cell_type": "code",
   "execution_count": 14,
   "metadata": {},
   "outputs": [
    {
     "data": {
      "text/plain": [
       "tensor([ 16333,  35860,  86392,  53200,  60761,  29016, 111787, 104836,  88786,\n",
       "         21697, 125343,  55235, 134786,  10046,  68873,  10416, 119387, 150115,\n",
       "         75899,  90481, 139181,   4050,  91907, 156547,  82554, 116465,  26411,\n",
       "        145387,  57993, 163655, 123382,  26686], device='cuda:0')"
      ]
     },
     "execution_count": 14,
     "metadata": {},
     "output_type": "execute_result"
    }
   ],
   "source": [
    "torch.randint(0, X.size(0), (32,))"
   ]
  },
  {
   "cell_type": "code",
   "execution_count": 15,
   "metadata": {},
   "outputs": [],
   "source": [
    "C = torch.randn((vocab, 2))\n",
    "W1 = torch.randn((6, 100))\n",
    "b1 = torch.randn(100)\n",
    "W2 = torch.randn((100, vocab))\n",
    "b2 = torch.randn(vocab)\n",
    "parameters = [C, W1, b1, W2, b2]\n",
    "\n",
    "for p in parameters:\n",
    "    p.requires_grad = True\n"
   ]
  },
  {
   "cell_type": "code",
   "execution_count": 16,
   "metadata": {},
   "outputs": [],
   "source": [
    "iters = 10000\n",
    "losses = []\n",
    "for _ in range(iters):\n",
    "    # mini batch\n",
    "    ix = torch.randint(0, X.size(0), (200,))\n",
    "    # forward pass\n",
    "    emb = C[X[ix]]\n",
    "    h = torch.tanh(emb.view(-1, 6) @ W1 + b1)\n",
    "    logits = h @ W2 + b2\n",
    "    loss = F.cross_entropy(logits, Y[ix])\n",
    "    # losses.append(loss.item())\n",
    "    # backward pass\n",
    "    for p in parameters:\n",
    "        p.grad = None\n",
    "    loss.backward()\n",
    "    # update\n",
    "    for p in parameters:\n",
    "        p.data += -0.013 * p.grad\n",
    "\n",
    "\n",
    "# plt.plot(range(iters), losses)\n",
    "# plt.title(\"Change in loss with each iteration (for the mini-batch)\")\n",
    "# plt.ylabel(\"loss\")\n",
    "# plt.xlabel(\"iterations\")\n",
    "# print(f\"Final Loss = {losses.pop()}\")\n"
   ]
  },
  {
   "cell_type": "code",
   "execution_count": 17,
   "metadata": {},
   "outputs": [
    {
     "data": {
      "text/plain": [
       "3.0631165504455566"
      ]
     },
     "execution_count": 17,
     "metadata": {},
     "output_type": "execute_result"
    }
   ],
   "source": [
    "emb = C[X]\n",
    "h = torch.tanh(emb.view(-1, 6) @ W1 + b1)\n",
    "logits = h @ W2 + b2\n",
    "loss = F.cross_entropy(logits, Y)\n",
    "loss.item()"
   ]
  },
  {
   "cell_type": "markdown",
   "metadata": {},
   "source": [
    "#### Well, but how do you find the optimal learning rate?\n",
    "\n",
    "We experiment a bit to find out the range in which the rate is not cringe. Then we start from the big number of that range and slide into the lower bound with each iteration. We then finally choose the learning rate that gives the best result.\n",
    "\n",
    "![](https://media.tenor.com/A6yz-HeOGIgAAAAM/leonardo-dicaprio-leonardo-dicaprio-meme.gif)\n",
    "\n",
    "### Learning rate decay\n",
    "\n",
    "We often lower the learning rate in the later stages of learning. This is called learning rate decay."
   ]
  },
  {
   "cell_type": "code",
   "execution_count": 18,
   "metadata": {},
   "outputs": [],
   "source": [
    "lre = torch.linspace(-3, 0, 1000)\n",
    "lrs = 10**lre"
   ]
  },
  {
   "cell_type": "code",
   "execution_count": 19,
   "metadata": {},
   "outputs": [],
   "source": [
    "C = torch.randn((vocab, 2))\n",
    "W1 = torch.randn((6, 100))\n",
    "b1 = torch.randn(100)\n",
    "W2 = torch.randn((100, vocab))\n",
    "b2 = torch.randn(vocab)\n",
    "parameters = [C, W1, b1, W2, b2]\n",
    "\n",
    "for p in parameters:\n",
    "    p.requires_grad = True\n"
   ]
  },
  {
   "cell_type": "code",
   "execution_count": 20,
   "metadata": {},
   "outputs": [
    {
     "name": "stdout",
     "output_type": "stream",
     "text": [
      "Final Loss = 3.571967124938965\n"
     ]
    },
    {
     "data": {
      "image/png": "[encoded data removed]",
      "text/plain": [
       "<Figure size 640x480 with 1 Axes>"
      ]
     },
     "metadata": {},
     "output_type": "display_data"
    }
   ],
   "source": [
    "iters = 1000\n",
    "losses = []\n",
    "lrs = torch.linspace(0.01, 0.15, 1000)\n",
    "for i in range(iters):\n",
    "    # mini batch\n",
    "    ix = torch.randint(0, X.size(0), (200,))\n",
    "    # forward pass\n",
    "    emb = C[X[ix]]\n",
    "    h = torch.tanh(emb.view(-1, 6) @ W1 + b1)\n",
    "    logits = h @ W2 + b2\n",
    "    loss = F.cross_entropy(logits, Y[ix])\n",
    "    losses.append(loss.item())\n",
    "    # backward pass\n",
    "    for p in parameters:\n",
    "        p.grad = None\n",
    "    loss.backward()\n",
    "    # update\n",
    "    for p in parameters:\n",
    "        p.data += -lrs[i] * p.grad\n",
    "\n",
    "\n",
    "plt.plot(lrs.tolist(), losses)\n",
    "plt.title(\"Change in loss with learing rate\")\n",
    "plt.ylabel(\"loss\")\n",
    "plt.xlabel(\"learing rate\")\n",
    "plt.grid()\n",
    "print(f\"Final Loss = {losses.pop()}\")\n"
   ]
  },
  {
   "cell_type": "markdown",
   "metadata": {},
   "source": [
    "How many parameters do we have?"
   ]
  },
  {
   "cell_type": "code",
   "execution_count": 21,
   "metadata": {},
   "outputs": [
    {
     "data": {
      "text/plain": [
       "10279"
      ]
     },
     "execution_count": 21,
     "metadata": {},
     "output_type": "execute_result"
    }
   ],
   "source": [
    "sum(p.nelement() for p in parameters)"
   ]
  },
  {
   "cell_type": "markdown",
   "metadata": {},
   "source": [
    "### Let's get real\n",
    "\n",
    "It shoud come at no surprise that this not how we do shit in prod. Irl, we have several splits/phases for preparing our neural net for the real world.\n",
    "\n",
    "| ➡️ | training split | dev/validation split | test split |\n",
    "|--------|----------------|----------------------|------------|\n",
    "| shares | 80%            | 10%                  | 10%        |\n"
   ]
  },
  {
   "cell_type": "code",
   "execution_count": 22,
   "metadata": {},
   "outputs": [
    {
     "name": "stdout",
     "output_type": "stream",
     "text": [
      "X.shape=torch.Size([131912, 3]), Y.shape=torch.Size([131912])\n",
      "X.shape=torch.Size([16617, 3]), Y.shape=torch.Size([16617])\n",
      "X.shape=torch.Size([16660, 3]), Y.shape=torch.Size([16660])\n"
     ]
    }
   ],
   "source": [
    "import random\n",
    "\n",
    "\n",
    "def build_dataset(words):\n",
    "    block_size = 3\n",
    "    X, Y = [], []\n",
    "    for w in words:\n",
    "        context = [0] * block_size\n",
    "        for ch in w + \"~\":\n",
    "            ix = stoi[ch]\n",
    "            X.append(context)\n",
    "            Y.append(ix)\n",
    "            context = context[1:] + [ix]  # crop and append\n",
    "    X = torch.tensor(X)\n",
    "    Y = torch.tensor(Y)\n",
    "    print(f\"{X.shape=}, {Y.shape=}\")\n",
    "    return X, Y\n",
    "\n",
    "\n",
    "random.seed(2002)\n",
    "random.shuffle(words)\n",
    "n1 = int(0.8 * len(words))\n",
    "n2 = int(0.9 * len(words))\n",
    "\n",
    "Xtr, Ytr = build_dataset(words[:n1])\n",
    "Xdev, Ydev = build_dataset(words[n1:n2])\n",
    "Xtest, Ytest = build_dataset(words[n2:])"
   ]
  },
  {
   "cell_type": "code",
   "execution_count": 23,
   "metadata": {},
   "outputs": [],
   "source": [
    "C = torch.randn((vocab, 2))\n",
    "W1 = torch.randn((6, 100))\n",
    "b1 = torch.randn(100)\n",
    "W2 = torch.randn((100, vocab))\n",
    "b2 = torch.randn(vocab)\n",
    "parameters = [C, W1, b1, W2, b2]\n",
    "\n",
    "for p in parameters:\n",
    "    p.requires_grad = True\n"
   ]
  },
  {
   "cell_type": "code",
   "execution_count": 24,
   "metadata": {},
   "outputs": [],
   "source": [
    "loss = None\n",
    "for i in range(40000):\n",
    "    # mini batch\n",
    "    ix = torch.randint(0, Xtr.size(0), (200,))\n",
    "    # forward pass\n",
    "    emb = C[Xtr[ix]]\n",
    "    h = torch.tanh(emb.view(-1, 6) @ W1 + b1)\n",
    "    logits = h @ W2 + b2\n",
    "    loss = F.cross_entropy(logits, Ytr[ix])\n",
    "    # backward pass\n",
    "    for p in parameters:\n",
    "        p.grad = None\n",
    "    loss.backward()\n",
    "    # update\n",
    "    for p in parameters:\n",
    "        p.data += -0.1 * p.grad"
   ]
  },
  {
   "cell_type": "code",
   "execution_count": 25,
   "metadata": {},
   "outputs": [
    {
     "name": "stdout",
     "output_type": "stream",
     "text": [
      "2.4480342864990234\n"
     ]
    }
   ],
   "source": [
    "print(loss.item())"
   ]
  },
  {
   "cell_type": "markdown",
   "metadata": {},
   "source": [
    "We evaluate the performance of the neural net on our dev split. Keep in mind that these are the data that the neural net has not seen and is not trained on."
   ]
  },
  {
   "cell_type": "code",
   "execution_count": 26,
   "metadata": {},
   "outputs": [
    {
     "data": {
      "text/plain": [
       "2.45489239692688"
      ]
     },
     "execution_count": 26,
     "metadata": {},
     "output_type": "execute_result"
    }
   ],
   "source": [
    "# Evaluating the loss\n",
    "emb = C[Xdev]\n",
    "h = torch.tanh(emb.view(-1, 6) @ W1 + b1)\n",
    "logits = h @ W2 + b2\n",
    "loss = F.cross_entropy(logits, Ydev)\n",
    "loss.item()"
   ]
  },
  {
   "cell_type": "markdown",
   "metadata": {},
   "source": [
    "Let's check what is the loss for the training set itself."
   ]
  },
  {
   "cell_type": "code",
   "execution_count": 27,
   "metadata": {},
   "outputs": [
    {
     "data": {
      "text/plain": [
       "2.465719699859619"
      ]
     },
     "execution_count": 27,
     "metadata": {},
     "output_type": "execute_result"
    }
   ],
   "source": [
    "# Evaluating the loss\n",
    "emb = C[Xtr]\n",
    "h = torch.tanh(emb.view(-1, 6) @ W1 + b1)\n",
    "logits = h @ W2 + b2\n",
    "loss = F.cross_entropy(logits, Ytr)\n",
    "loss.item()"
   ]
  },
  {
   "cell_type": "markdown",
   "metadata": {},
   "source": [
    "The training set and dev set losses are not equal. This means the model is not overfitted. That implies the model is not 'memorizing' the training data.\n",
    "\n",
    "But, since the training and dev dataset losses are roughly equal, this means that the model is underfitted. This is a good hint that our network is very tiny and we need to expand our network.\n"
   ]
  },
  {
   "cell_type": "code",
   "execution_count": 28,
   "metadata": {},
   "outputs": [
    {
     "data": {
      "text/plain": [
       "30279"
      ]
     },
     "execution_count": 28,
     "metadata": {},
     "output_type": "execute_result"
    }
   ],
   "source": [
    "C = torch.randn((vocab, 2))\n",
    "W1 = torch.randn((6, 300))\n",
    "b1 = torch.randn(300)\n",
    "W2 = torch.randn((300, vocab))\n",
    "b2 = torch.randn(vocab)\n",
    "parameters = [C, W1, b1, W2, b2]\n",
    "\n",
    "for p in parameters:\n",
    "    p.requires_grad = True\n",
    "\n",
    "sum(p.nelement() for p in parameters)"
   ]
  },
  {
   "cell_type": "code",
   "execution_count": 29,
   "metadata": {},
   "outputs": [],
   "source": [
    "steps = []\n",
    "losses = []\n",
    "\n",
    "for i in range(40000):\n",
    "    # mini batch\n",
    "    ix = torch.randint(0, Xtr.size(0), (32,))\n",
    "    # forward pass\n",
    "    emb = C[Xtr[ix]]\n",
    "    h = torch.tanh(emb.view(-1, 6) @ W1 + b1)\n",
    "    logits = h @ W2 + b2\n",
    "    loss = F.cross_entropy(logits, Ytr[ix])\n",
    "    # backward pass\n",
    "    for p in parameters:\n",
    "        p.grad = None\n",
    "    loss.backward()\n",
    "    # update\n",
    "    for p in parameters:\n",
    "        p.data += -0.01 * p.grad\n",
    "    steps.append(i)\n",
    "    losses.append(loss.item())\n"
   ]
  },
  {
   "cell_type": "code",
   "execution_count": 30,
   "metadata": {},
   "outputs": [
    {
     "data": {
      "text/plain": [
       "[<matplotlib.lines.Line2D at 0x7ff5317f6500>]"
      ]
     },
     "execution_count": 30,
     "metadata": {},
     "output_type": "execute_result"
    },
    {
     "data": {
      "image/png": "[encoded data removed]",
      "text/plain": [
       "<Figure size 640x480 with 1 Axes>"
      ]
     },
     "metadata": {},
     "output_type": "display_data"
    }
   ],
   "source": [
    "plt.plot(steps, losses)"
   ]
  },
  {
   "cell_type": "code",
   "execution_count": 31,
   "metadata": {},
   "outputs": [
    {
     "data": {
      "text/plain": [
       "2.7647974491119385"
      ]
     },
     "execution_count": 31,
     "metadata": {},
     "output_type": "execute_result"
    }
   ],
   "source": [
    "# Evaluating the loss\n",
    "emb = C[Xdev]\n",
    "h = torch.tanh(emb.view(-1, 6) @ W1 + b1)\n",
    "logits = h @ W2 + b2\n",
    "loss = F.cross_entropy(logits, Ydev)\n",
    "loss.item()"
   ]
  },
  {
   "cell_type": "code",
   "execution_count": 32,
   "metadata": {},
   "outputs": [
    {
     "data": {
      "text/plain": [
       "2.7722747325897217"
      ]
     },
     "execution_count": 32,
     "metadata": {},
     "output_type": "execute_result"
    }
   ],
   "source": [
    "# Evaluating the loss\n",
    "emb = C[Xtr]\n",
    "h = torch.tanh(emb.view(-1, 6) @ W1 + b1)\n",
    "logits = h @ W2 + b2\n",
    "loss = F.cross_entropy(logits, Ytr)\n",
    "loss.item()"
   ]
  },
  {
   "cell_type": "markdown",
   "metadata": {},
   "source": [
    "Visualizing the embeddings"
   ]
  },
  {
   "cell_type": "code",
   "execution_count": 33,
   "metadata": {},
   "outputs": [
    {
     "name": "stderr",
     "output_type": "stream",
     "text": [
      "/mnt/d/PROJECTS/Neural_Network/env/lib/python3.10/site-packages/IPython/core/events.py:82: UserWarning: Glyph 2404 (\\N{DEVANAGARI DANDA}) missing from font(s) DejaVu Sans.\n",
      "  func(*args, **kwargs)\n",
      "/mnt/d/PROJECTS/Neural_Network/env/lib/python3.10/site-packages/IPython/core/events.py:82: UserWarning: Matplotlib currently does not support Devanagari natively.\n",
      "  func(*args, **kwargs)\n",
      "/mnt/d/PROJECTS/Neural_Network/env/lib/python3.10/site-packages/IPython/core/events.py:82: UserWarning: Glyph 2416 (\\N{DEVANAGARI ABBREVIATION SIGN}) missing from font(s) DejaVu Sans.\n",
      "  func(*args, **kwargs)\n",
      "/mnt/d/PROJECTS/Neural_Network/env/lib/python3.10/site-packages/IPython/core/events.py:82: UserWarning: Glyph 2433 (\\N{BENGALI SIGN CANDRABINDU}) missing from font(s) DejaVu Sans.\n",
      "  func(*args, **kwargs)\n",
      "/mnt/d/PROJECTS/Neural_Network/env/lib/python3.10/site-packages/IPython/core/events.py:82: UserWarning: Matplotlib currently does not support Bengali natively.\n",
      "  func(*args, **kwargs)\n",
      "/mnt/d/PROJECTS/Neural_Network/env/lib/python3.10/site-packages/IPython/core/events.py:82: UserWarning: Glyph 2434 (\\N{BENGALI SIGN ANUSVARA}) missing from font(s) DejaVu Sans.\n",
      "  func(*args, **kwargs)\n",
      "/mnt/d/PROJECTS/Neural_Network/env/lib/python3.10/site-packages/IPython/core/events.py:82: UserWarning: Glyph 2435 (\\N{BENGALI SIGN VISARGA}) missing from font(s) DejaVu Sans.\n",
      "  func(*args, **kwargs)\n",
      "/mnt/d/PROJECTS/Neural_Network/env/lib/python3.10/site-packages/IPython/core/events.py:82: UserWarning: Glyph 2437 (\\N{BENGALI LETTER A}) missing from font(s) DejaVu Sans.\n",
      "  func(*args, **kwargs)\n",
      "/mnt/d/PROJECTS/Neural_Network/env/lib/python3.10/site-packages/IPython/core/events.py:82: UserWarning: Glyph 2438 (\\N{BENGALI LETTER AA}) missing from font(s) DejaVu Sans.\n",
      "  func(*args, **kwargs)\n",
      "/mnt/d/PROJECTS/Neural_Network/env/lib/python3.10/site-packages/IPython/core/events.py:82: UserWarning: Glyph 2439 (\\N{BENGALI LETTER I}) missing from font(s) DejaVu Sans.\n",
      "  func(*args, **kwargs)\n",
      "/mnt/d/PROJECTS/Neural_Network/env/lib/python3.10/site-packages/IPython/core/events.py:82: UserWarning: Glyph 2440 (\\N{BENGALI LETTER II}) missing from font(s) DejaVu Sans.\n",
      "  func(*args, **kwargs)\n",
      "/mnt/d/PROJECTS/Neural_Network/env/lib/python3.10/site-packages/IPython/core/events.py:82: UserWarning: Glyph 2441 (\\N{BENGALI LETTER U}) missing from font(s) DejaVu Sans.\n",
      "  func(*args, **kwargs)\n",
      "/mnt/d/PROJECTS/Neural_Network/env/lib/python3.10/site-packages/IPython/core/events.py:82: UserWarning: Glyph 2442 (\\N{BENGALI LETTER UU}) missing from font(s) DejaVu Sans.\n",
      "  func(*args, **kwargs)\n",
      "/mnt/d/PROJECTS/Neural_Network/env/lib/python3.10/site-packages/IPython/core/events.py:82: UserWarning: Glyph 2443 (\\N{BENGALI LETTER VOCALIC R}) missing from font(s) DejaVu Sans.\n",
      "  func(*args, **kwargs)\n",
      "/mnt/d/PROJECTS/Neural_Network/env/lib/python3.10/site-packages/IPython/core/events.py:82: UserWarning: Glyph 2447 (\\N{BENGALI LETTER E}) missing from font(s) DejaVu Sans.\n",
      "  func(*args, **kwargs)\n",
      "/mnt/d/PROJECTS/Neural_Network/env/lib/python3.10/site-packages/IPython/core/events.py:82: UserWarning: Glyph 2448 (\\N{BENGALI LETTER AI}) missing from font(s) DejaVu Sans.\n",
      "  func(*args, **kwargs)\n",
      "/mnt/d/PROJECTS/Neural_Network/env/lib/python3.10/site-packages/IPython/core/events.py:82: UserWarning: Glyph 2451 (\\N{BENGALI LETTER O}) missing from font(s) DejaVu Sans.\n",
      "  func(*args, **kwargs)\n",
      "/mnt/d/PROJECTS/Neural_Network/env/lib/python3.10/site-packages/IPython/core/events.py:82: UserWarning: Glyph 2452 (\\N{BENGALI LETTER AU}) missing from font(s) DejaVu Sans.\n",
      "  func(*args, **kwargs)\n",
      "/mnt/d/PROJECTS/Neural_Network/env/lib/python3.10/site-packages/IPython/core/events.py:82: UserWarning: Glyph 2453 (\\N{BENGALI LETTER KA}) missing from font(s) DejaVu Sans.\n",
      "  func(*args, **kwargs)\n",
      "/mnt/d/PROJECTS/Neural_Network/env/lib/python3.10/site-packages/IPython/core/events.py:82: UserWarning: Glyph 2454 (\\N{BENGALI LETTER KHA}) missing from font(s) DejaVu Sans.\n",
      "  func(*args, **kwargs)\n",
      "/mnt/d/PROJECTS/Neural_Network/env/lib/python3.10/site-packages/IPython/core/events.py:82: UserWarning: Glyph 2455 (\\N{BENGALI LETTER GA}) missing from font(s) DejaVu Sans.\n",
      "  func(*args, **kwargs)\n",
      "/mnt/d/PROJECTS/Neural_Network/env/lib/python3.10/site-packages/IPython/core/events.py:82: UserWarning: Glyph 2456 (\\N{BENGALI LETTER GHA}) missing from font(s) DejaVu Sans.\n",
      "  func(*args, **kwargs)\n",
      "/mnt/d/PROJECTS/Neural_Network/env/lib/python3.10/site-packages/IPython/core/events.py:82: UserWarning: Glyph 2457 (\\N{BENGALI LETTER NGA}) missing from font(s) DejaVu Sans.\n",
      "  func(*args, **kwargs)\n",
      "/mnt/d/PROJECTS/Neural_Network/env/lib/python3.10/site-packages/IPython/core/events.py:82: UserWarning: Glyph 2458 (\\N{BENGALI LETTER CA}) missing from font(s) DejaVu Sans.\n",
      "  func(*args, **kwargs)\n",
      "/mnt/d/PROJECTS/Neural_Network/env/lib/python3.10/site-packages/IPython/core/events.py:82: UserWarning: Glyph 2459 (\\N{BENGALI LETTER CHA}) missing from font(s) DejaVu Sans.\n",
      "  func(*args, **kwargs)\n",
      "/mnt/d/PROJECTS/Neural_Network/env/lib/python3.10/site-packages/IPython/core/events.py:82: UserWarning: Glyph 2460 (\\N{BENGALI LETTER JA}) missing from font(s) DejaVu Sans.\n",
      "  func(*args, **kwargs)\n",
      "/mnt/d/PROJECTS/Neural_Network/env/lib/python3.10/site-packages/IPython/core/events.py:82: UserWarning: Glyph 2461 (\\N{BENGALI LETTER JHA}) missing from font(s) DejaVu Sans.\n",
      "  func(*args, **kwargs)\n",
      "/mnt/d/PROJECTS/Neural_Network/env/lib/python3.10/site-packages/IPython/core/events.py:82: UserWarning: Glyph 2462 (\\N{BENGALI LETTER NYA}) missing from font(s) DejaVu Sans.\n",
      "  func(*args, **kwargs)\n",
      "/mnt/d/PROJECTS/Neural_Network/env/lib/python3.10/site-packages/IPython/core/events.py:82: UserWarning: Glyph 2463 (\\N{BENGALI LETTER TTA}) missing from font(s) DejaVu Sans.\n",
      "  func(*args, **kwargs)\n",
      "/mnt/d/PROJECTS/Neural_Network/env/lib/python3.10/site-packages/IPython/core/events.py:82: UserWarning: Glyph 2464 (\\N{BENGALI LETTER TTHA}) missing from font(s) DejaVu Sans.\n",
      "  func(*args, **kwargs)\n",
      "/mnt/d/PROJECTS/Neural_Network/env/lib/python3.10/site-packages/IPython/core/events.py:82: UserWarning: Glyph 2465 (\\N{BENGALI LETTER DDA}) missing from font(s) DejaVu Sans.\n",
      "  func(*args, **kwargs)\n",
      "/mnt/d/PROJECTS/Neural_Network/env/lib/python3.10/site-packages/IPython/core/events.py:82: UserWarning: Glyph 2466 (\\N{BENGALI LETTER DDHA}) missing from font(s) DejaVu Sans.\n",
      "  func(*args, **kwargs)\n",
      "/mnt/d/PROJECTS/Neural_Network/env/lib/python3.10/site-packages/IPython/core/events.py:82: UserWarning: Glyph 2467 (\\N{BENGALI LETTER NNA}) missing from font(s) DejaVu Sans.\n",
      "  func(*args, **kwargs)\n",
      "/mnt/d/PROJECTS/Neural_Network/env/lib/python3.10/site-packages/IPython/core/events.py:82: UserWarning: Glyph 2468 (\\N{BENGALI LETTER TA}) missing from font(s) DejaVu Sans.\n",
      "  func(*args, **kwargs)\n",
      "/mnt/d/PROJECTS/Neural_Network/env/lib/python3.10/site-packages/IPython/core/events.py:82: UserWarning: Glyph 2469 (\\N{BENGALI LETTER THA}) missing from font(s) DejaVu Sans.\n",
      "  func(*args, **kwargs)\n",
      "/mnt/d/PROJECTS/Neural_Network/env/lib/python3.10/site-packages/IPython/core/events.py:82: UserWarning: Glyph 2470 (\\N{BENGALI LETTER DA}) missing from font(s) DejaVu Sans.\n",
      "  func(*args, **kwargs)\n",
      "/mnt/d/PROJECTS/Neural_Network/env/lib/python3.10/site-packages/IPython/core/events.py:82: UserWarning: Glyph 2471 (\\N{BENGALI LETTER DHA}) missing from font(s) DejaVu Sans.\n",
      "  func(*args, **kwargs)\n",
      "/mnt/d/PROJECTS/Neural_Network/env/lib/python3.10/site-packages/IPython/core/events.py:82: UserWarning: Glyph 2472 (\\N{BENGALI LETTER NA}) missing from font(s) DejaVu Sans.\n",
      "  func(*args, **kwargs)\n",
      "/mnt/d/PROJECTS/Neural_Network/env/lib/python3.10/site-packages/IPython/core/events.py:82: UserWarning: Glyph 2474 (\\N{BENGALI LETTER PA}) missing from font(s) DejaVu Sans.\n",
      "  func(*args, **kwargs)\n",
      "/mnt/d/PROJECTS/Neural_Network/env/lib/python3.10/site-packages/IPython/core/events.py:82: UserWarning: Glyph 2475 (\\N{BENGALI LETTER PHA}) missing from font(s) DejaVu Sans.\n",
      "  func(*args, **kwargs)\n",
      "/mnt/d/PROJECTS/Neural_Network/env/lib/python3.10/site-packages/IPython/core/events.py:82: UserWarning: Glyph 2476 (\\N{BENGALI LETTER BA}) missing from font(s) DejaVu Sans.\n",
      "  func(*args, **kwargs)\n",
      "/mnt/d/PROJECTS/Neural_Network/env/lib/python3.10/site-packages/IPython/core/events.py:82: UserWarning: Glyph 2477 (\\N{BENGALI LETTER BHA}) missing from font(s) DejaVu Sans.\n",
      "  func(*args, **kwargs)\n",
      "/mnt/d/PROJECTS/Neural_Network/env/lib/python3.10/site-packages/IPython/core/events.py:82: UserWarning: Glyph 2478 (\\N{BENGALI LETTER MA}) missing from font(s) DejaVu Sans.\n",
      "  func(*args, **kwargs)\n",
      "/mnt/d/PROJECTS/Neural_Network/env/lib/python3.10/site-packages/IPython/core/events.py:82: UserWarning: Glyph 2479 (\\N{BENGALI LETTER YA}) missing from font(s) DejaVu Sans.\n",
      "  func(*args, **kwargs)\n",
      "/mnt/d/PROJECTS/Neural_Network/env/lib/python3.10/site-packages/IPython/core/events.py:82: UserWarning: Glyph 2482 (\\N{BENGALI LETTER LA}) missing from font(s) DejaVu Sans.\n",
      "  func(*args, **kwargs)\n",
      "/mnt/d/PROJECTS/Neural_Network/env/lib/python3.10/site-packages/IPython/core/events.py:82: UserWarning: Glyph 2486 (\\N{BENGALI LETTER SHA}) missing from font(s) DejaVu Sans.\n",
      "  func(*args, **kwargs)\n",
      "/mnt/d/PROJECTS/Neural_Network/env/lib/python3.10/site-packages/IPython/core/events.py:82: UserWarning: Glyph 2487 (\\N{BENGALI LETTER SSA}) missing from font(s) DejaVu Sans.\n",
      "  func(*args, **kwargs)\n",
      "/mnt/d/PROJECTS/Neural_Network/env/lib/python3.10/site-packages/IPython/core/events.py:82: UserWarning: Glyph 2488 (\\N{BENGALI LETTER SA}) missing from font(s) DejaVu Sans.\n",
      "  func(*args, **kwargs)\n",
      "/mnt/d/PROJECTS/Neural_Network/env/lib/python3.10/site-packages/IPython/core/events.py:82: UserWarning: Glyph 2489 (\\N{BENGALI LETTER HA}) missing from font(s) DejaVu Sans.\n",
      "  func(*args, **kwargs)\n",
      "/mnt/d/PROJECTS/Neural_Network/env/lib/python3.10/site-packages/IPython/core/events.py:82: UserWarning: Glyph 2492 (\\N{BENGALI SIGN NUKTA}) missing from font(s) DejaVu Sans.\n",
      "  func(*args, **kwargs)\n",
      "/mnt/d/PROJECTS/Neural_Network/env/lib/python3.10/site-packages/IPython/core/events.py:82: UserWarning: Glyph 2494 (\\N{BENGALI VOWEL SIGN AA}) missing from font(s) DejaVu Sans.\n",
      "  func(*args, **kwargs)\n",
      "/mnt/d/PROJECTS/Neural_Network/env/lib/python3.10/site-packages/IPython/core/events.py:82: UserWarning: Glyph 2495 (\\N{BENGALI VOWEL SIGN I}) missing from font(s) DejaVu Sans.\n",
      "  func(*args, **kwargs)\n",
      "/mnt/d/PROJECTS/Neural_Network/env/lib/python3.10/site-packages/IPython/core/events.py:82: UserWarning: Glyph 2496 (\\N{BENGALI VOWEL SIGN II}) missing from font(s) DejaVu Sans.\n",
      "  func(*args, **kwargs)\n",
      "/mnt/d/PROJECTS/Neural_Network/env/lib/python3.10/site-packages/IPython/core/events.py:82: UserWarning: Glyph 2497 (\\N{BENGALI VOWEL SIGN U}) missing from font(s) DejaVu Sans.\n",
      "  func(*args, **kwargs)\n",
      "/mnt/d/PROJECTS/Neural_Network/env/lib/python3.10/site-packages/IPython/core/events.py:82: UserWarning: Glyph 2498 (\\N{BENGALI VOWEL SIGN UU}) missing from font(s) DejaVu Sans.\n",
      "  func(*args, **kwargs)\n",
      "/mnt/d/PROJECTS/Neural_Network/env/lib/python3.10/site-packages/IPython/core/events.py:82: UserWarning: Glyph 2499 (\\N{BENGALI VOWEL SIGN VOCALIC R}) missing from font(s) DejaVu Sans.\n",
      "  func(*args, **kwargs)\n",
      "/mnt/d/PROJECTS/Neural_Network/env/lib/python3.10/site-packages/IPython/core/events.py:82: UserWarning: Glyph 2503 (\\N{BENGALI VOWEL SIGN E}) missing from font(s) DejaVu Sans.\n",
      "  func(*args, **kwargs)\n",
      "/mnt/d/PROJECTS/Neural_Network/env/lib/python3.10/site-packages/IPython/core/events.py:82: UserWarning: Glyph 2504 (\\N{BENGALI VOWEL SIGN AI}) missing from font(s) DejaVu Sans.\n",
      "  func(*args, **kwargs)\n",
      "/mnt/d/PROJECTS/Neural_Network/env/lib/python3.10/site-packages/IPython/core/events.py:82: UserWarning: Glyph 2507 (\\N{BENGALI VOWEL SIGN O}) missing from font(s) DejaVu Sans.\n",
      "  func(*args, **kwargs)\n",
      "/mnt/d/PROJECTS/Neural_Network/env/lib/python3.10/site-packages/IPython/core/events.py:82: UserWarning: Glyph 2508 (\\N{BENGALI VOWEL SIGN AU}) missing from font(s) DejaVu Sans.\n",
      "  func(*args, **kwargs)\n",
      "/mnt/d/PROJECTS/Neural_Network/env/lib/python3.10/site-packages/IPython/core/events.py:82: UserWarning: Glyph 2509 (\\N{BENGALI SIGN VIRAMA}) missing from font(s) DejaVu Sans.\n",
      "  func(*args, **kwargs)\n",
      "/mnt/d/PROJECTS/Neural_Network/env/lib/python3.10/site-packages/IPython/core/events.py:82: UserWarning: Glyph 2510 (\\N{BENGALI LETTER KHANDA TA}) missing from font(s) DejaVu Sans.\n",
      "  func(*args, **kwargs)\n",
      "/mnt/d/PROJECTS/Neural_Network/env/lib/python3.10/site-packages/IPython/core/events.py:82: UserWarning: Glyph 2535 (\\N{BENGALI DIGIT ONE}) missing from font(s) DejaVu Sans.\n",
      "  func(*args, **kwargs)\n",
      "/mnt/d/PROJECTS/Neural_Network/env/lib/python3.10/site-packages/IPython/core/events.py:82: UserWarning: Glyph 2536 (\\N{BENGALI DIGIT TWO}) missing from font(s) DejaVu Sans.\n",
      "  func(*args, **kwargs)\n",
      "/mnt/d/PROJECTS/Neural_Network/env/lib/python3.10/site-packages/IPython/core/events.py:82: UserWarning: Glyph 2537 (\\N{BENGALI DIGIT THREE}) missing from font(s) DejaVu Sans.\n",
      "  func(*args, **kwargs)\n",
      "/mnt/d/PROJECTS/Neural_Network/env/lib/python3.10/site-packages/IPython/core/events.py:82: UserWarning: Glyph 2538 (\\N{BENGALI DIGIT FOUR}) missing from font(s) DejaVu Sans.\n",
      "  func(*args, **kwargs)\n",
      "/mnt/d/PROJECTS/Neural_Network/env/lib/python3.10/site-packages/IPython/core/events.py:82: UserWarning: Glyph 2539 (\\N{BENGALI DIGIT FIVE}) missing from font(s) DejaVu Sans.\n",
      "  func(*args, **kwargs)\n",
      "/mnt/d/PROJECTS/Neural_Network/env/lib/python3.10/site-packages/IPython/core/events.py:82: UserWarning: Glyph 2540 (\\N{BENGALI DIGIT SIX}) missing from font(s) DejaVu Sans.\n",
      "  func(*args, **kwargs)\n",
      "/mnt/d/PROJECTS/Neural_Network/env/lib/python3.10/site-packages/IPython/core/events.py:82: UserWarning: Glyph 2541 (\\N{BENGALI DIGIT SEVEN}) missing from font(s) DejaVu Sans.\n",
      "  func(*args, **kwargs)\n",
      "/mnt/d/PROJECTS/Neural_Network/env/lib/python3.10/site-packages/IPython/core/events.py:82: UserWarning: Glyph 2542 (\\N{BENGALI DIGIT EIGHT}) missing from font(s) DejaVu Sans.\n",
      "  func(*args, **kwargs)\n",
      "/mnt/d/PROJECTS/Neural_Network/env/lib/python3.10/site-packages/IPython/core/events.py:82: UserWarning: Glyph 2543 (\\N{BENGALI DIGIT NINE}) missing from font(s) DejaVu Sans.\n",
      "  func(*args, **kwargs)\n",
      "/mnt/d/PROJECTS/Neural_Network/env/lib/python3.10/site-packages/IPython/core/events.py:82: UserWarning: Glyph 2544 (\\N{BENGALI LETTER RA WITH MIDDLE DIAGONAL}) missing from font(s) DejaVu Sans.\n",
      "  func(*args, **kwargs)\n",
      "/mnt/d/PROJECTS/Neural_Network/env/lib/python3.10/site-packages/IPython/core/events.py:82: UserWarning: Glyph 2545 (\\N{BENGALI LETTER RA WITH LOWER DIAGONAL}) missing from font(s) DejaVu Sans.\n",
      "  func(*args, **kwargs)\n",
      "/mnt/d/PROJECTS/Neural_Network/env/lib/python3.10/site-packages/IPython/core/events.py:82: UserWarning: Glyph 2551 (\\N{BENGALI CURRENCY NUMERATOR FOUR}) missing from font(s) DejaVu Sans.\n",
      "  func(*args, **kwargs)\n",
      "/mnt/d/PROJECTS/Neural_Network/env/lib/python3.10/site-packages/IPython/core/pylabtools.py:170: UserWarning: Glyph 2404 (\\N{DEVANAGARI DANDA}) missing from font(s) DejaVu Sans.\n",
      "  fig.canvas.print_figure(bytes_io, **kw)\n",
      "/mnt/d/PROJECTS/Neural_Network/env/lib/python3.10/site-packages/IPython/core/pylabtools.py:170: UserWarning: Matplotlib currently does not support Devanagari natively.\n",
      "  fig.canvas.print_figure(bytes_io, **kw)\n",
      "/mnt/d/PROJECTS/Neural_Network/env/lib/python3.10/site-packages/IPython/core/pylabtools.py:170: UserWarning: Glyph 2416 (\\N{DEVANAGARI ABBREVIATION SIGN}) missing from font(s) DejaVu Sans.\n",
      "  fig.canvas.print_figure(bytes_io, **kw)\n",
      "/mnt/d/PROJECTS/Neural_Network/env/lib/python3.10/site-packages/IPython/core/pylabtools.py:170: UserWarning: Glyph 2433 (\\N{BENGALI SIGN CANDRABINDU}) missing from font(s) DejaVu Sans.\n",
      "  fig.canvas.print_figure(bytes_io, **kw)\n",
      "/mnt/d/PROJECTS/Neural_Network/env/lib/python3.10/site-packages/IPython/core/pylabtools.py:170: UserWarning: Matplotlib currently does not support Bengali natively.\n",
      "  fig.canvas.print_figure(bytes_io, **kw)\n",
      "/mnt/d/PROJECTS/Neural_Network/env/lib/python3.10/site-packages/IPython/core/pylabtools.py:170: UserWarning: Glyph 2434 (\\N{BENGALI SIGN ANUSVARA}) missing from font(s) DejaVu Sans.\n",
      "  fig.canvas.print_figure(bytes_io, **kw)\n",
      "/mnt/d/PROJECTS/Neural_Network/env/lib/python3.10/site-packages/IPython/core/pylabtools.py:170: UserWarning: Glyph 2435 (\\N{BENGALI SIGN VISARGA}) missing from font(s) DejaVu Sans.\n",
      "  fig.canvas.print_figure(bytes_io, **kw)\n",
      "/mnt/d/PROJECTS/Neural_Network/env/lib/python3.10/site-packages/IPython/core/pylabtools.py:170: UserWarning: Glyph 2437 (\\N{BENGALI LETTER A}) missing from font(s) DejaVu Sans.\n",
      "  fig.canvas.print_figure(bytes_io, **kw)\n",
      "/mnt/d/PROJECTS/Neural_Network/env/lib/python3.10/site-packages/IPython/core/pylabtools.py:170: UserWarning: Glyph 2438 (\\N{BENGALI LETTER AA}) missing from font(s) DejaVu Sans.\n",
      "  fig.canvas.print_figure(bytes_io, **kw)\n",
      "/mnt/d/PROJECTS/Neural_Network/env/lib/python3.10/site-packages/IPython/core/pylabtools.py:170: UserWarning: Glyph 2439 (\\N{BENGALI LETTER I}) missing from font(s) DejaVu Sans.\n",
      "  fig.canvas.print_figure(bytes_io, **kw)\n",
      "/mnt/d/PROJECTS/Neural_Network/env/lib/python3.10/site-packages/IPython/core/pylabtools.py:170: UserWarning: Glyph 2440 (\\N{BENGALI LETTER II}) missing from font(s) DejaVu Sans.\n",
      "  fig.canvas.print_figure(bytes_io, **kw)\n",
      "/mnt/d/PROJECTS/Neural_Network/env/lib/python3.10/site-packages/IPython/core/pylabtools.py:170: UserWarning: Glyph 2441 (\\N{BENGALI LETTER U}) missing from font(s) DejaVu Sans.\n",
      "  fig.canvas.print_figure(bytes_io, **kw)\n",
      "/mnt/d/PROJECTS/Neural_Network/env/lib/python3.10/site-packages/IPython/core/pylabtools.py:170: UserWarning: Glyph 2442 (\\N{BENGALI LETTER UU}) missing from font(s) DejaVu Sans.\n",
      "  fig.canvas.print_figure(bytes_io, **kw)\n",
      "/mnt/d/PROJECTS/Neural_Network/env/lib/python3.10/site-packages/IPython/core/pylabtools.py:170: UserWarning: Glyph 2443 (\\N{BENGALI LETTER VOCALIC R}) missing from font(s) DejaVu Sans.\n",
      "  fig.canvas.print_figure(bytes_io, **kw)\n",
      "/mnt/d/PROJECTS/Neural_Network/env/lib/python3.10/site-packages/IPython/core/pylabtools.py:170: UserWarning: Glyph 2447 (\\N{BENGALI LETTER E}) missing from font(s) DejaVu Sans.\n",
      "  fig.canvas.print_figure(bytes_io, **kw)\n",
      "/mnt/d/PROJECTS/Neural_Network/env/lib/python3.10/site-packages/IPython/core/pylabtools.py:170: UserWarning: Glyph 2448 (\\N{BENGALI LETTER AI}) missing from font(s) DejaVu Sans.\n",
      "  fig.canvas.print_figure(bytes_io, **kw)\n",
      "/mnt/d/PROJECTS/Neural_Network/env/lib/python3.10/site-packages/IPython/core/pylabtools.py:170: UserWarning: Glyph 2451 (\\N{BENGALI LETTER O}) missing from font(s) DejaVu Sans.\n",
      "  fig.canvas.print_figure(bytes_io, **kw)\n",
      "/mnt/d/PROJECTS/Neural_Network/env/lib/python3.10/site-packages/IPython/core/pylabtools.py:170: UserWarning: Glyph 2452 (\\N{BENGALI LETTER AU}) missing from font(s) DejaVu Sans.\n",
      "  fig.canvas.print_figure(bytes_io, **kw)\n",
      "/mnt/d/PROJECTS/Neural_Network/env/lib/python3.10/site-packages/IPython/core/pylabtools.py:170: UserWarning: Glyph 2453 (\\N{BENGALI LETTER KA}) missing from font(s) DejaVu Sans.\n",
      "  fig.canvas.print_figure(bytes_io, **kw)\n",
      "/mnt/d/PROJECTS/Neural_Network/env/lib/python3.10/site-packages/IPython/core/pylabtools.py:170: UserWarning: Glyph 2454 (\\N{BENGALI LETTER KHA}) missing from font(s) DejaVu Sans.\n",
      "  fig.canvas.print_figure(bytes_io, **kw)\n",
      "/mnt/d/PROJECTS/Neural_Network/env/lib/python3.10/site-packages/IPython/core/pylabtools.py:170: UserWarning: Glyph 2455 (\\N{BENGALI LETTER GA}) missing from font(s) DejaVu Sans.\n",
      "  fig.canvas.print_figure(bytes_io, **kw)\n",
      "/mnt/d/PROJECTS/Neural_Network/env/lib/python3.10/site-packages/IPython/core/pylabtools.py:170: UserWarning: Glyph 2456 (\\N{BENGALI LETTER GHA}) missing from font(s) DejaVu Sans.\n",
      "  fig.canvas.print_figure(bytes_io, **kw)\n",
      "/mnt/d/PROJECTS/Neural_Network/env/lib/python3.10/site-packages/IPython/core/pylabtools.py:170: UserWarning: Glyph 2457 (\\N{BENGALI LETTER NGA}) missing from font(s) DejaVu Sans.\n",
      "  fig.canvas.print_figure(bytes_io, **kw)\n",
      "/mnt/d/PROJECTS/Neural_Network/env/lib/python3.10/site-packages/IPython/core/pylabtools.py:170: UserWarning: Glyph 2458 (\\N{BENGALI LETTER CA}) missing from font(s) DejaVu Sans.\n",
      "  fig.canvas.print_figure(bytes_io, **kw)\n",
      "/mnt/d/PROJECTS/Neural_Network/env/lib/python3.10/site-packages/IPython/core/pylabtools.py:170: UserWarning: Glyph 2459 (\\N{BENGALI LETTER CHA}) missing from font(s) DejaVu Sans.\n",
      "  fig.canvas.print_figure(bytes_io, **kw)\n",
      "/mnt/d/PROJECTS/Neural_Network/env/lib/python3.10/site-packages/IPython/core/pylabtools.py:170: UserWarning: Glyph 2460 (\\N{BENGALI LETTER JA}) missing from font(s) DejaVu Sans.\n",
      "  fig.canvas.print_figure(bytes_io, **kw)\n",
      "/mnt/d/PROJECTS/Neural_Network/env/lib/python3.10/site-packages/IPython/core/pylabtools.py:170: UserWarning: Glyph 2461 (\\N{BENGALI LETTER JHA}) missing from font(s) DejaVu Sans.\n",
      "  fig.canvas.print_figure(bytes_io, **kw)\n",
      "/mnt/d/PROJECTS/Neural_Network/env/lib/python3.10/site-packages/IPython/core/pylabtools.py:170: UserWarning: Glyph 2462 (\\N{BENGALI LETTER NYA}) missing from font(s) DejaVu Sans.\n",
      "  fig.canvas.print_figure(bytes_io, **kw)\n",
      "/mnt/d/PROJECTS/Neural_Network/env/lib/python3.10/site-packages/IPython/core/pylabtools.py:170: UserWarning: Glyph 2463 (\\N{BENGALI LETTER TTA}) missing from font(s) DejaVu Sans.\n",
      "  fig.canvas.print_figure(bytes_io, **kw)\n",
      "/mnt/d/PROJECTS/Neural_Network/env/lib/python3.10/site-packages/IPython/core/pylabtools.py:170: UserWarning: Glyph 2464 (\\N{BENGALI LETTER TTHA}) missing from font(s) DejaVu Sans.\n",
      "  fig.canvas.print_figure(bytes_io, **kw)\n",
      "/mnt/d/PROJECTS/Neural_Network/env/lib/python3.10/site-packages/IPython/core/pylabtools.py:170: UserWarning: Glyph 2465 (\\N{BENGALI LETTER DDA}) missing from font(s) DejaVu Sans.\n",
      "  fig.canvas.print_figure(bytes_io, **kw)\n",
      "/mnt/d/PROJECTS/Neural_Network/env/lib/python3.10/site-packages/IPython/core/pylabtools.py:170: UserWarning: Glyph 2466 (\\N{BENGALI LETTER DDHA}) missing from font(s) DejaVu Sans.\n",
      "  fig.canvas.print_figure(bytes_io, **kw)\n",
      "/mnt/d/PROJECTS/Neural_Network/env/lib/python3.10/site-packages/IPython/core/pylabtools.py:170: UserWarning: Glyph 2467 (\\N{BENGALI LETTER NNA}) missing from font(s) DejaVu Sans.\n",
      "  fig.canvas.print_figure(bytes_io, **kw)\n",
      "/mnt/d/PROJECTS/Neural_Network/env/lib/python3.10/site-packages/IPython/core/pylabtools.py:170: UserWarning: Glyph 2468 (\\N{BENGALI LETTER TA}) missing from font(s) DejaVu Sans.\n",
      "  fig.canvas.print_figure(bytes_io, **kw)\n",
      "/mnt/d/PROJECTS/Neural_Network/env/lib/python3.10/site-packages/IPython/core/pylabtools.py:170: UserWarning: Glyph 2469 (\\N{BENGALI LETTER THA}) missing from font(s) DejaVu Sans.\n",
      "  fig.canvas.print_figure(bytes_io, **kw)\n",
      "/mnt/d/PROJECTS/Neural_Network/env/lib/python3.10/site-packages/IPython/core/pylabtools.py:170: UserWarning: Glyph 2470 (\\N{BENGALI LETTER DA}) missing from font(s) DejaVu Sans.\n",
      "  fig.canvas.print_figure(bytes_io, **kw)\n",
      "/mnt/d/PROJECTS/Neural_Network/env/lib/python3.10/site-packages/IPython/core/pylabtools.py:170: UserWarning: Glyph 2471 (\\N{BENGALI LETTER DHA}) missing from font(s) DejaVu Sans.\n",
      "  fig.canvas.print_figure(bytes_io, **kw)\n",
      "/mnt/d/PROJECTS/Neural_Network/env/lib/python3.10/site-packages/IPython/core/pylabtools.py:170: UserWarning: Glyph 2472 (\\N{BENGALI LETTER NA}) missing from font(s) DejaVu Sans.\n",
      "  fig.canvas.print_figure(bytes_io, **kw)\n",
      "/mnt/d/PROJECTS/Neural_Network/env/lib/python3.10/site-packages/IPython/core/pylabtools.py:170: UserWarning: Glyph 2474 (\\N{BENGALI LETTER PA}) missing from font(s) DejaVu Sans.\n",
      "  fig.canvas.print_figure(bytes_io, **kw)\n",
      "/mnt/d/PROJECTS/Neural_Network/env/lib/python3.10/site-packages/IPython/core/pylabtools.py:170: UserWarning: Glyph 2475 (\\N{BENGALI LETTER PHA}) missing from font(s) DejaVu Sans.\n",
      "  fig.canvas.print_figure(bytes_io, **kw)\n",
      "/mnt/d/PROJECTS/Neural_Network/env/lib/python3.10/site-packages/IPython/core/pylabtools.py:170: UserWarning: Glyph 2476 (\\N{BENGALI LETTER BA}) missing from font(s) DejaVu Sans.\n",
      "  fig.canvas.print_figure(bytes_io, **kw)\n",
      "/mnt/d/PROJECTS/Neural_Network/env/lib/python3.10/site-packages/IPython/core/pylabtools.py:170: UserWarning: Glyph 2477 (\\N{BENGALI LETTER BHA}) missing from font(s) DejaVu Sans.\n",
      "  fig.canvas.print_figure(bytes_io, **kw)\n",
      "/mnt/d/PROJECTS/Neural_Network/env/lib/python3.10/site-packages/IPython/core/pylabtools.py:170: UserWarning: Glyph 2478 (\\N{BENGALI LETTER MA}) missing from font(s) DejaVu Sans.\n",
      "  fig.canvas.print_figure(bytes_io, **kw)\n",
      "/mnt/d/PROJECTS/Neural_Network/env/lib/python3.10/site-packages/IPython/core/pylabtools.py:170: UserWarning: Glyph 2479 (\\N{BENGALI LETTER YA}) missing from font(s) DejaVu Sans.\n",
      "  fig.canvas.print_figure(bytes_io, **kw)\n",
      "/mnt/d/PROJECTS/Neural_Network/env/lib/python3.10/site-packages/IPython/core/pylabtools.py:170: UserWarning: Glyph 2482 (\\N{BENGALI LETTER LA}) missing from font(s) DejaVu Sans.\n",
      "  fig.canvas.print_figure(bytes_io, **kw)\n",
      "/mnt/d/PROJECTS/Neural_Network/env/lib/python3.10/site-packages/IPython/core/pylabtools.py:170: UserWarning: Glyph 2486 (\\N{BENGALI LETTER SHA}) missing from font(s) DejaVu Sans.\n",
      "  fig.canvas.print_figure(bytes_io, **kw)\n",
      "/mnt/d/PROJECTS/Neural_Network/env/lib/python3.10/site-packages/IPython/core/pylabtools.py:170: UserWarning: Glyph 2487 (\\N{BENGALI LETTER SSA}) missing from font(s) DejaVu Sans.\n",
      "  fig.canvas.print_figure(bytes_io, **kw)\n",
      "/mnt/d/PROJECTS/Neural_Network/env/lib/python3.10/site-packages/IPython/core/pylabtools.py:170: UserWarning: Glyph 2488 (\\N{BENGALI LETTER SA}) missing from font(s) DejaVu Sans.\n",
      "  fig.canvas.print_figure(bytes_io, **kw)\n",
      "/mnt/d/PROJECTS/Neural_Network/env/lib/python3.10/site-packages/IPython/core/pylabtools.py:170: UserWarning: Glyph 2489 (\\N{BENGALI LETTER HA}) missing from font(s) DejaVu Sans.\n",
      "  fig.canvas.print_figure(bytes_io, **kw)\n",
      "/mnt/d/PROJECTS/Neural_Network/env/lib/python3.10/site-packages/IPython/core/pylabtools.py:170: UserWarning: Glyph 2492 (\\N{BENGALI SIGN NUKTA}) missing from font(s) DejaVu Sans.\n",
      "  fig.canvas.print_figure(bytes_io, **kw)\n",
      "/mnt/d/PROJECTS/Neural_Network/env/lib/python3.10/site-packages/IPython/core/pylabtools.py:170: UserWarning: Glyph 2494 (\\N{BENGALI VOWEL SIGN AA}) missing from font(s) DejaVu Sans.\n",
      "  fig.canvas.print_figure(bytes_io, **kw)\n",
      "/mnt/d/PROJECTS/Neural_Network/env/lib/python3.10/site-packages/IPython/core/pylabtools.py:170: UserWarning: Glyph 2495 (\\N{BENGALI VOWEL SIGN I}) missing from font(s) DejaVu Sans.\n",
      "  fig.canvas.print_figure(bytes_io, **kw)\n",
      "/mnt/d/PROJECTS/Neural_Network/env/lib/python3.10/site-packages/IPython/core/pylabtools.py:170: UserWarning: Glyph 2496 (\\N{BENGALI VOWEL SIGN II}) missing from font(s) DejaVu Sans.\n",
      "  fig.canvas.print_figure(bytes_io, **kw)\n",
      "/mnt/d/PROJECTS/Neural_Network/env/lib/python3.10/site-packages/IPython/core/pylabtools.py:170: UserWarning: Glyph 2497 (\\N{BENGALI VOWEL SIGN U}) missing from font(s) DejaVu Sans.\n",
      "  fig.canvas.print_figure(bytes_io, **kw)\n",
      "/mnt/d/PROJECTS/Neural_Network/env/lib/python3.10/site-packages/IPython/core/pylabtools.py:170: UserWarning: Glyph 2498 (\\N{BENGALI VOWEL SIGN UU}) missing from font(s) DejaVu Sans.\n",
      "  fig.canvas.print_figure(bytes_io, **kw)\n",
      "/mnt/d/PROJECTS/Neural_Network/env/lib/python3.10/site-packages/IPython/core/pylabtools.py:170: UserWarning: Glyph 2499 (\\N{BENGALI VOWEL SIGN VOCALIC R}) missing from font(s) DejaVu Sans.\n",
      "  fig.canvas.print_figure(bytes_io, **kw)\n",
      "/mnt/d/PROJECTS/Neural_Network/env/lib/python3.10/site-packages/IPython/core/pylabtools.py:170: UserWarning: Glyph 2503 (\\N{BENGALI VOWEL SIGN E}) missing from font(s) DejaVu Sans.\n",
      "  fig.canvas.print_figure(bytes_io, **kw)\n",
      "/mnt/d/PROJECTS/Neural_Network/env/lib/python3.10/site-packages/IPython/core/pylabtools.py:170: UserWarning: Glyph 2504 (\\N{BENGALI VOWEL SIGN AI}) missing from font(s) DejaVu Sans.\n",
      "  fig.canvas.print_figure(bytes_io, **kw)\n",
      "/mnt/d/PROJECTS/Neural_Network/env/lib/python3.10/site-packages/IPython/core/pylabtools.py:170: UserWarning: Glyph 2507 (\\N{BENGALI VOWEL SIGN O}) missing from font(s) DejaVu Sans.\n",
      "  fig.canvas.print_figure(bytes_io, **kw)\n",
      "/mnt/d/PROJECTS/Neural_Network/env/lib/python3.10/site-packages/IPython/core/pylabtools.py:170: UserWarning: Glyph 2508 (\\N{BENGALI VOWEL SIGN AU}) missing from font(s) DejaVu Sans.\n",
      "  fig.canvas.print_figure(bytes_io, **kw)\n",
      "/mnt/d/PROJECTS/Neural_Network/env/lib/python3.10/site-packages/IPython/core/pylabtools.py:170: UserWarning: Glyph 2509 (\\N{BENGALI SIGN VIRAMA}) missing from font(s) DejaVu Sans.\n",
      "  fig.canvas.print_figure(bytes_io, **kw)\n",
      "/mnt/d/PROJECTS/Neural_Network/env/lib/python3.10/site-packages/IPython/core/pylabtools.py:170: UserWarning: Glyph 2510 (\\N{BENGALI LETTER KHANDA TA}) missing from font(s) DejaVu Sans.\n",
      "  fig.canvas.print_figure(bytes_io, **kw)\n",
      "/mnt/d/PROJECTS/Neural_Network/env/lib/python3.10/site-packages/IPython/core/pylabtools.py:170: UserWarning: Glyph 2535 (\\N{BENGALI DIGIT ONE}) missing from font(s) DejaVu Sans.\n",
      "  fig.canvas.print_figure(bytes_io, **kw)\n",
      "/mnt/d/PROJECTS/Neural_Network/env/lib/python3.10/site-packages/IPython/core/pylabtools.py:170: UserWarning: Glyph 2536 (\\N{BENGALI DIGIT TWO}) missing from font(s) DejaVu Sans.\n",
      "  fig.canvas.print_figure(bytes_io, **kw)\n",
      "/mnt/d/PROJECTS/Neural_Network/env/lib/python3.10/site-packages/IPython/core/pylabtools.py:170: UserWarning: Glyph 2537 (\\N{BENGALI DIGIT THREE}) missing from font(s) DejaVu Sans.\n",
      "  fig.canvas.print_figure(bytes_io, **kw)\n",
      "/mnt/d/PROJECTS/Neural_Network/env/lib/python3.10/site-packages/IPython/core/pylabtools.py:170: UserWarning: Glyph 2538 (\\N{BENGALI DIGIT FOUR}) missing from font(s) DejaVu Sans.\n",
      "  fig.canvas.print_figure(bytes_io, **kw)\n",
      "/mnt/d/PROJECTS/Neural_Network/env/lib/python3.10/site-packages/IPython/core/pylabtools.py:170: UserWarning: Glyph 2539 (\\N{BENGALI DIGIT FIVE}) missing from font(s) DejaVu Sans.\n",
      "  fig.canvas.print_figure(bytes_io, **kw)\n",
      "/mnt/d/PROJECTS/Neural_Network/env/lib/python3.10/site-packages/IPython/core/pylabtools.py:170: UserWarning: Glyph 2540 (\\N{BENGALI DIGIT SIX}) missing from font(s) DejaVu Sans.\n",
      "  fig.canvas.print_figure(bytes_io, **kw)\n",
      "/mnt/d/PROJECTS/Neural_Network/env/lib/python3.10/site-packages/IPython/core/pylabtools.py:170: UserWarning: Glyph 2541 (\\N{BENGALI DIGIT SEVEN}) missing from font(s) DejaVu Sans.\n",
      "  fig.canvas.print_figure(bytes_io, **kw)\n",
      "/mnt/d/PROJECTS/Neural_Network/env/lib/python3.10/site-packages/IPython/core/pylabtools.py:170: UserWarning: Glyph 2542 (\\N{BENGALI DIGIT EIGHT}) missing from font(s) DejaVu Sans.\n",
      "  fig.canvas.print_figure(bytes_io, **kw)\n",
      "/mnt/d/PROJECTS/Neural_Network/env/lib/python3.10/site-packages/IPython/core/pylabtools.py:170: UserWarning: Glyph 2543 (\\N{BENGALI DIGIT NINE}) missing from font(s) DejaVu Sans.\n",
      "  fig.canvas.print_figure(bytes_io, **kw)\n",
      "/mnt/d/PROJECTS/Neural_Network/env/lib/python3.10/site-packages/IPython/core/pylabtools.py:170: UserWarning: Glyph 2544 (\\N{BENGALI LETTER RA WITH MIDDLE DIAGONAL}) missing from font(s) DejaVu Sans.\n",
      "  fig.canvas.print_figure(bytes_io, **kw)\n",
      "/mnt/d/PROJECTS/Neural_Network/env/lib/python3.10/site-packages/IPython/core/pylabtools.py:170: UserWarning: Glyph 2545 (\\N{BENGALI LETTER RA WITH LOWER DIAGONAL}) missing from font(s) DejaVu Sans.\n",
      "  fig.canvas.print_figure(bytes_io, **kw)\n",
      "/mnt/d/PROJECTS/Neural_Network/env/lib/python3.10/site-packages/IPython/core/pylabtools.py:170: UserWarning: Glyph 2551 (\\N{BENGALI CURRENCY NUMERATOR FOUR}) missing from font(s) DejaVu Sans.\n",
      "  fig.canvas.print_figure(bytes_io, **kw)\n"
     ]
    },
    {
     "data": {
      "image/png": "[encoded data removed]",
      "text/plain": [
       "<Figure size 600x600 with 1 Axes>"
      ]
     },
     "metadata": {},
     "output_type": "display_data"
    }
   ],
   "source": [
    "plt.figure(figsize=(6, 6))\n",
    "plt.scatter(C[:, 0].data.tolist(), C[:, 1].data.tolist(), s=200, color=\"green\")\n",
    "for i in range(C.size(0)):\n",
    "    plt.text(\n",
    "        C[i, 0].item(), C[i, 1].item(), itos[i], ha=\"center\", va=\"center\", color=\"white\"\n",
    "    )\n",
    "plt.grid(\"minor\")"
   ]
  },
  {
   "cell_type": "markdown",
   "metadata": {},
   "source": [
    "Now that we observe we can't go much beyond our previous simple neural net, and we have already played with the weights, biases and tried expanding the number of neurons, we are begininning to suspect that the dimension of the embedding vector might be the bottleneck.\n",
    "\n",
    "So, next we try changing that."
   ]
  },
  {
   "cell_type": "code",
   "execution_count": 34,
   "metadata": {},
   "outputs": [
    {
     "data": {
      "text/plain": [
       "48153"
      ]
     },
     "execution_count": 34,
     "metadata": {},
     "output_type": "execute_result"
    }
   ],
   "source": [
    "C = torch.randn((vocab, 20))\n",
    "W1 = torch.randn((60, 300)) * 0.1\n",
    "b1 = torch.randn(300) * 0.01\n",
    "W2 = torch.randn((300, vocab)) * 0.1\n",
    "b2 = torch.randn(vocab) * 0\n",
    "parameters = [C, W1, b1, W2, b2]\n",
    "\n",
    "for p in parameters:\n",
    "    p.requires_grad = True\n",
    "\n",
    "sum(p.nelement() for p in parameters)"
   ]
  },
  {
   "cell_type": "code",
   "execution_count": 35,
   "metadata": {},
   "outputs": [],
   "source": [
    "steps = []\n",
    "losses = []"
   ]
  },
  {
   "cell_type": "code",
   "execution_count": 36,
   "metadata": {},
   "outputs": [
    {
     "name": "stdout",
     "output_type": "stream",
     "text": [
      "      0/  50000: 4.9285\n",
      "  10000/  50000: 2.6095\n",
      "  20000/  50000: 2.2803\n"
     ]
    },
    {
     "ename": "KeyboardInterrupt",
     "evalue": "",
     "output_type": "error",
     "traceback": [
      "\u001b[0;31m---------------------------------------------------------------------------\u001b[0m",
      "\u001b[0;31mKeyboardInterrupt\u001b[0m                         Traceback (most recent call last)",
      "Cell \u001b[0;32mIn[36], line 13\u001b[0m\n\u001b[1;32m     11\u001b[0m \u001b[38;5;28;01mfor\u001b[39;00m p \u001b[38;5;129;01min\u001b[39;00m parameters:\n\u001b[1;32m     12\u001b[0m     p\u001b[38;5;241m.\u001b[39mgrad \u001b[38;5;241m=\u001b[39m \u001b[38;5;28;01mNone\u001b[39;00m\n\u001b[0;32m---> 13\u001b[0m \u001b[43mloss\u001b[49m\u001b[38;5;241;43m.\u001b[39;49m\u001b[43mbackward\u001b[49m\u001b[43m(\u001b[49m\u001b[43m)\u001b[49m\n\u001b[1;32m     14\u001b[0m \u001b[38;5;66;03m# update\u001b[39;00m\n\u001b[1;32m     15\u001b[0m \u001b[38;5;28;01mfor\u001b[39;00m p \u001b[38;5;129;01min\u001b[39;00m parameters:\n",
      "File \u001b[0;32m/mnt/d/PROJECTS/Neural_Network/env/lib/python3.10/site-packages/torch/_tensor.py:512\u001b[0m, in \u001b[0;36mTensor.backward\u001b[0;34m(self, gradient, retain_graph, create_graph, inputs)\u001b[0m\n\u001b[1;32m    468\u001b[0m \u001b[38;5;250m\u001b[39m\u001b[38;5;124mr\u001b[39m\u001b[38;5;124;03m\"\"\"Computes the gradient of current tensor wrt graph leaves.\u001b[39;00m\n\u001b[1;32m    469\u001b[0m \n\u001b[1;32m    470\u001b[0m \u001b[38;5;124;03mThe graph is differentiated using the chain rule. If the tensor is\u001b[39;00m\n\u001b[0;32m   (...)\u001b[0m\n\u001b[1;32m    509\u001b[0m \u001b[38;5;124;03m        used to compute the :attr:`tensors`.\u001b[39;00m\n\u001b[1;32m    510\u001b[0m \u001b[38;5;124;03m\"\"\"\u001b[39;00m\n\u001b[1;32m    511\u001b[0m \u001b[38;5;28;01mif\u001b[39;00m has_torch_function_unary(\u001b[38;5;28mself\u001b[39m):\n\u001b[0;32m--> 512\u001b[0m     \u001b[38;5;28;01mreturn\u001b[39;00m \u001b[43mhandle_torch_function\u001b[49m\u001b[43m(\u001b[49m\n\u001b[1;32m    513\u001b[0m \u001b[43m        \u001b[49m\u001b[43mTensor\u001b[49m\u001b[38;5;241;43m.\u001b[39;49m\u001b[43mbackward\u001b[49m\u001b[43m,\u001b[49m\n\u001b[1;32m    514\u001b[0m \u001b[43m        \u001b[49m\u001b[43m(\u001b[49m\u001b[38;5;28;43mself\u001b[39;49m\u001b[43m,\u001b[49m\u001b[43m)\u001b[49m\u001b[43m,\u001b[49m\n\u001b[1;32m    515\u001b[0m \u001b[43m        \u001b[49m\u001b[38;5;28;43mself\u001b[39;49m\u001b[43m,\u001b[49m\n\u001b[1;32m    516\u001b[0m \u001b[43m        \u001b[49m\u001b[43mgradient\u001b[49m\u001b[38;5;241;43m=\u001b[39;49m\u001b[43mgradient\u001b[49m\u001b[43m,\u001b[49m\n\u001b[1;32m    517\u001b[0m \u001b[43m        \u001b[49m\u001b[43mretain_graph\u001b[49m\u001b[38;5;241;43m=\u001b[39;49m\u001b[43mretain_graph\u001b[49m\u001b[43m,\u001b[49m\n\u001b[1;32m    518\u001b[0m \u001b[43m        \u001b[49m\u001b[43mcreate_graph\u001b[49m\u001b[38;5;241;43m=\u001b[39;49m\u001b[43mcreate_graph\u001b[49m\u001b[43m,\u001b[49m\n\u001b[1;32m    519\u001b[0m \u001b[43m        \u001b[49m\u001b[43minputs\u001b[49m\u001b[38;5;241;43m=\u001b[39;49m\u001b[43minputs\u001b[49m\u001b[43m,\u001b[49m\n\u001b[1;32m    520\u001b[0m \u001b[43m    \u001b[49m\u001b[43m)\u001b[49m\n\u001b[1;32m    521\u001b[0m torch\u001b[38;5;241m.\u001b[39mautograd\u001b[38;5;241m.\u001b[39mbackward(\n\u001b[1;32m    522\u001b[0m     \u001b[38;5;28mself\u001b[39m, gradient, retain_graph, create_graph, inputs\u001b[38;5;241m=\u001b[39minputs\n\u001b[1;32m    523\u001b[0m )\n",
      "File \u001b[0;32m/mnt/d/PROJECTS/Neural_Network/env/lib/python3.10/site-packages/torch/overrides.py:1630\u001b[0m, in \u001b[0;36mhandle_torch_function\u001b[0;34m(public_api, relevant_args, *args, **kwargs)\u001b[0m\n\u001b[1;32m   1626\u001b[0m \u001b[38;5;28;01mif\u001b[39;00m _is_torch_function_mode_enabled():\n\u001b[1;32m   1627\u001b[0m     \u001b[38;5;66;03m# if we're here, the mode must be set to a TorchFunctionStackMode\u001b[39;00m\n\u001b[1;32m   1628\u001b[0m     \u001b[38;5;66;03m# this unsets it and calls directly into TorchFunctionStackMode's torch function\u001b[39;00m\n\u001b[1;32m   1629\u001b[0m     \u001b[38;5;28;01mwith\u001b[39;00m _pop_mode_temporarily() \u001b[38;5;28;01mas\u001b[39;00m mode:\n\u001b[0;32m-> 1630\u001b[0m         result \u001b[38;5;241m=\u001b[39m \u001b[43mmode\u001b[49m\u001b[38;5;241;43m.\u001b[39;49m\u001b[43m__torch_function__\u001b[49m\u001b[43m(\u001b[49m\u001b[43mpublic_api\u001b[49m\u001b[43m,\u001b[49m\u001b[43m \u001b[49m\u001b[43mtypes\u001b[49m\u001b[43m,\u001b[49m\u001b[43m \u001b[49m\u001b[43margs\u001b[49m\u001b[43m,\u001b[49m\u001b[43m \u001b[49m\u001b[43mkwargs\u001b[49m\u001b[43m)\u001b[49m\n\u001b[1;32m   1631\u001b[0m     \u001b[38;5;28;01mif\u001b[39;00m result \u001b[38;5;129;01mis\u001b[39;00m \u001b[38;5;129;01mnot\u001b[39;00m \u001b[38;5;28mNotImplemented\u001b[39m:\n\u001b[1;32m   1632\u001b[0m         \u001b[38;5;28;01mreturn\u001b[39;00m result\n",
      "File \u001b[0;32m/mnt/d/PROJECTS/Neural_Network/env/lib/python3.10/site-packages/torch/utils/_device.py:79\u001b[0m, in \u001b[0;36mDeviceContext.__torch_function__\u001b[0;34m(self, func, types, args, kwargs)\u001b[0m\n\u001b[1;32m     77\u001b[0m \u001b[38;5;28;01mif\u001b[39;00m func \u001b[38;5;129;01min\u001b[39;00m _device_constructors() \u001b[38;5;129;01mand\u001b[39;00m kwargs\u001b[38;5;241m.\u001b[39mget(\u001b[38;5;124m'\u001b[39m\u001b[38;5;124mdevice\u001b[39m\u001b[38;5;124m'\u001b[39m) \u001b[38;5;129;01mis\u001b[39;00m \u001b[38;5;28;01mNone\u001b[39;00m:\n\u001b[1;32m     78\u001b[0m     kwargs[\u001b[38;5;124m'\u001b[39m\u001b[38;5;124mdevice\u001b[39m\u001b[38;5;124m'\u001b[39m] \u001b[38;5;241m=\u001b[39m \u001b[38;5;28mself\u001b[39m\u001b[38;5;241m.\u001b[39mdevice\n\u001b[0;32m---> 79\u001b[0m \u001b[38;5;28;01mreturn\u001b[39;00m \u001b[43mfunc\u001b[49m\u001b[43m(\u001b[49m\u001b[38;5;241;43m*\u001b[39;49m\u001b[43margs\u001b[49m\u001b[43m,\u001b[49m\u001b[43m \u001b[49m\u001b[38;5;241;43m*\u001b[39;49m\u001b[38;5;241;43m*\u001b[39;49m\u001b[43mkwargs\u001b[49m\u001b[43m)\u001b[49m\n",
      "File \u001b[0;32m/mnt/d/PROJECTS/Neural_Network/env/lib/python3.10/site-packages/torch/_tensor.py:521\u001b[0m, in \u001b[0;36mTensor.backward\u001b[0;34m(self, gradient, retain_graph, create_graph, inputs)\u001b[0m\n\u001b[1;32m    511\u001b[0m \u001b[38;5;28;01mif\u001b[39;00m has_torch_function_unary(\u001b[38;5;28mself\u001b[39m):\n\u001b[1;32m    512\u001b[0m     \u001b[38;5;28;01mreturn\u001b[39;00m handle_torch_function(\n\u001b[1;32m    513\u001b[0m         Tensor\u001b[38;5;241m.\u001b[39mbackward,\n\u001b[1;32m    514\u001b[0m         (\u001b[38;5;28mself\u001b[39m,),\n\u001b[0;32m   (...)\u001b[0m\n\u001b[1;32m    519\u001b[0m         inputs\u001b[38;5;241m=\u001b[39minputs,\n\u001b[1;32m    520\u001b[0m     )\n\u001b[0;32m--> 521\u001b[0m \u001b[43mtorch\u001b[49m\u001b[38;5;241;43m.\u001b[39;49m\u001b[43mautograd\u001b[49m\u001b[38;5;241;43m.\u001b[39;49m\u001b[43mbackward\u001b[49m\u001b[43m(\u001b[49m\n\u001b[1;32m    522\u001b[0m \u001b[43m    \u001b[49m\u001b[38;5;28;43mself\u001b[39;49m\u001b[43m,\u001b[49m\u001b[43m \u001b[49m\u001b[43mgradient\u001b[49m\u001b[43m,\u001b[49m\u001b[43m \u001b[49m\u001b[43mretain_graph\u001b[49m\u001b[43m,\u001b[49m\u001b[43m \u001b[49m\u001b[43mcreate_graph\u001b[49m\u001b[43m,\u001b[49m\u001b[43m \u001b[49m\u001b[43minputs\u001b[49m\u001b[38;5;241;43m=\u001b[39;49m\u001b[43minputs\u001b[49m\n\u001b[1;32m    523\u001b[0m \u001b[43m\u001b[49m\u001b[43m)\u001b[49m\n",
      "File \u001b[0;32m/mnt/d/PROJECTS/Neural_Network/env/lib/python3.10/site-packages/torch/autograd/__init__.py:289\u001b[0m, in \u001b[0;36mbackward\u001b[0;34m(tensors, grad_tensors, retain_graph, create_graph, grad_variables, inputs)\u001b[0m\n\u001b[1;32m    284\u001b[0m     retain_graph \u001b[38;5;241m=\u001b[39m create_graph\n\u001b[1;32m    286\u001b[0m \u001b[38;5;66;03m# The reason we repeat the same comment below is that\u001b[39;00m\n\u001b[1;32m    287\u001b[0m \u001b[38;5;66;03m# some Python versions print out the first line of a multi-line function\u001b[39;00m\n\u001b[1;32m    288\u001b[0m \u001b[38;5;66;03m# calls in the traceback and some print out the last line\u001b[39;00m\n\u001b[0;32m--> 289\u001b[0m \u001b[43m_engine_run_backward\u001b[49m\u001b[43m(\u001b[49m\n\u001b[1;32m    290\u001b[0m \u001b[43m    \u001b[49m\u001b[43mtensors\u001b[49m\u001b[43m,\u001b[49m\n\u001b[1;32m    291\u001b[0m \u001b[43m    \u001b[49m\u001b[43mgrad_tensors_\u001b[49m\u001b[43m,\u001b[49m\n\u001b[1;32m    292\u001b[0m \u001b[43m    \u001b[49m\u001b[43mretain_graph\u001b[49m\u001b[43m,\u001b[49m\n\u001b[1;32m    293\u001b[0m \u001b[43m    \u001b[49m\u001b[43mcreate_graph\u001b[49m\u001b[43m,\u001b[49m\n\u001b[1;32m    294\u001b[0m \u001b[43m    \u001b[49m\u001b[43minputs\u001b[49m\u001b[43m,\u001b[49m\n\u001b[1;32m    295\u001b[0m \u001b[43m    \u001b[49m\u001b[43mallow_unreachable\u001b[49m\u001b[38;5;241;43m=\u001b[39;49m\u001b[38;5;28;43;01mTrue\u001b[39;49;00m\u001b[43m,\u001b[49m\n\u001b[1;32m    296\u001b[0m \u001b[43m    \u001b[49m\u001b[43maccumulate_grad\u001b[49m\u001b[38;5;241;43m=\u001b[39;49m\u001b[38;5;28;43;01mTrue\u001b[39;49;00m\u001b[43m,\u001b[49m\n\u001b[1;32m    297\u001b[0m \u001b[43m\u001b[49m\u001b[43m)\u001b[49m\n",
      "File \u001b[0;32m/mnt/d/PROJECTS/Neural_Network/env/lib/python3.10/site-packages/torch/autograd/graph.py:768\u001b[0m, in \u001b[0;36m_engine_run_backward\u001b[0;34m(t_outputs, *args, **kwargs)\u001b[0m\n\u001b[1;32m    766\u001b[0m     unregister_hooks \u001b[38;5;241m=\u001b[39m _register_logging_hooks_on_whole_graph(t_outputs)\n\u001b[1;32m    767\u001b[0m \u001b[38;5;28;01mtry\u001b[39;00m:\n\u001b[0;32m--> 768\u001b[0m     \u001b[38;5;28;01mreturn\u001b[39;00m \u001b[43mVariable\u001b[49m\u001b[38;5;241;43m.\u001b[39;49m\u001b[43m_execution_engine\u001b[49m\u001b[38;5;241;43m.\u001b[39;49m\u001b[43mrun_backward\u001b[49m\u001b[43m(\u001b[49m\u001b[43m  \u001b[49m\u001b[38;5;66;43;03m# Calls into the C++ engine to run the backward pass\u001b[39;49;00m\n\u001b[1;32m    769\u001b[0m \u001b[43m        \u001b[49m\u001b[43mt_outputs\u001b[49m\u001b[43m,\u001b[49m\u001b[43m \u001b[49m\u001b[38;5;241;43m*\u001b[39;49m\u001b[43margs\u001b[49m\u001b[43m,\u001b[49m\u001b[43m \u001b[49m\u001b[38;5;241;43m*\u001b[39;49m\u001b[38;5;241;43m*\u001b[39;49m\u001b[43mkwargs\u001b[49m\n\u001b[1;32m    770\u001b[0m \u001b[43m    \u001b[49m\u001b[43m)\u001b[49m  \u001b[38;5;66;03m# Calls into the C++ engine to run the backward pass\u001b[39;00m\n\u001b[1;32m    771\u001b[0m \u001b[38;5;28;01mfinally\u001b[39;00m:\n\u001b[1;32m    772\u001b[0m     \u001b[38;5;28;01mif\u001b[39;00m attach_logging_hooks:\n",
      "\u001b[0;31mKeyboardInterrupt\u001b[0m: "
     ]
    }
   ],
   "source": [
    "max_steps = 50000\n",
    "for i in range(max_steps):\n",
    "    # mini batch\n",
    "    ix = torch.randint(0, Xtr.size(0), (32,))\n",
    "    # forward pass\n",
    "    emb = C[Xtr[ix]]\n",
    "    h = torch.tanh(emb.view(-1, 60) @ W1 + b1)\n",
    "    logits = h @ W2 + b2\n",
    "    loss = F.cross_entropy(logits, Ytr[ix])\n",
    "    # backward pass\n",
    "    for p in parameters:\n",
    "        p.grad = None\n",
    "    loss.backward()\n",
    "    # update\n",
    "    for p in parameters:\n",
    "        p.data += -0.01 * p.grad\n",
    "    steps.append(i)\n",
    "    losses.append(loss.log10().item())\n",
    "    # track stats\n",
    "    if i % 10000 == 0:  # print every once in a while\n",
    "        print(f\"{i:7d}/{max_steps:7d}: {loss.item():.4f}\")"
   ]
  },
  {
   "cell_type": "code",
   "execution_count": null,
   "metadata": {},
   "outputs": [],
   "source": [
    "plt.plot(steps, losses)"
   ]
  },
  {
   "cell_type": "code",
   "execution_count": null,
   "metadata": {},
   "outputs": [],
   "source": [
    "# Evaluating the loss\n",
    "emb = C[Xdev]\n",
    "h = torch.tanh(emb.view(-1, 60) @ W1 + b1)\n",
    "logits = h @ W2 + b2\n",
    "loss = F.cross_entropy(logits, Ydev)\n",
    "loss.item()"
   ]
  },
  {
   "cell_type": "code",
   "execution_count": null,
   "metadata": {},
   "outputs": [],
   "source": [
    "# Evaluating the loss\n",
    "emb = C[Xtr]\n",
    "h = torch.tanh(emb.view(-1, 60) @ W1 + b1)\n",
    "logits = h @ W2 + b2\n",
    "loss = F.cross_entropy(logits, Ytr)\n",
    "loss.item()"
   ]
  },
  {
   "cell_type": "code",
   "execution_count": null,
   "metadata": {},
   "outputs": [],
   "source": [
    "# sample from the model\n",
    "g = torch.Generator().manual_seed(2002)\n",
    "for _ in range(10):\n",
    "    out = []\n",
    "    context = [0] * block_size  # initialize with all ...\n",
    "    while True:\n",
    "        emb = C[torch.tensor([context])]  # (1,block_size,d)\n",
    "        h = torch.tanh(emb.view(1, -1) @ W1 + b1)\n",
    "        logits = h @ W2 + b2\n",
    "        probs = F.softmax(logits, dim=1)\n",
    "        ix = torch.multinomial(probs, num_samples=1, generator=g).item()\n",
    "        context = context[1:] + [ix]\n",
    "        out.append(ix)\n",
    "        if ix == 0:\n",
    "            break\n",
    "    print(\"\".join(itos[i] for i in out))"
   ]
  },
  {
   "cell_type": "code",
   "execution_count": null,
   "metadata": {},
   "outputs": [],
   "source": [
    "# sample from the model\n",
    "g = torch.Generator().manual_seed(2002)\n",
    "for _ in range(10):\n",
    "    out = []\n",
    "    context = [stoi[i] for i in \"মোৰ\"]  # initialize with all ...\n",
    "    while True:\n",
    "        emb = C[torch.tensor([context])]  # (1,block_size,d)\n",
    "        h = torch.tanh(emb.view(1, -1) @ W1 + b1)\n",
    "        logits = h @ W2 + b2\n",
    "        probs = F.softmax(logits, dim=1)\n",
    "        ix = torch.multinomial(probs, num_samples=1, generator=g).item()\n",
    "        context = context[1:] + [ix]\n",
    "        out.append(ix)\n",
    "        if ix == 0:\n",
    "            break\n",
    "    print(\"\".join(itos[i] for i in out), end=\" \")\n"
   ]
  }
 ],
 "metadata": {
  "kernelspec": {
   "display_name": ".venv",
   "language": "python",
   "name": "python3"
  },
  "language_info": {
   "codemirror_mode": {
    "name": "ipython",
    "version": 3
   },
   "file_extension": ".py",
   "mimetype": "text/x-python",
   "name": "python",
   "nbconvert_exporter": "python",
   "pygments_lexer": "ipython3",
   "version": "3.10.12"
  }
 },
 "nbformat": 4,
 "nbformat_minor": 2
}
