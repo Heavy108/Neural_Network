{
 "cells": [
  {
   "cell_type": "code",
   "execution_count": 1,
   "metadata": {},
   "outputs": [],
   "source": [
    "x0 ,x1,x2 =1. ,2. ,3.\n",
    "bias,w1 ,w2 =0.1 ,0.3,0.5\n",
    "x=[x0 ,x1,x2]\n",
    "w=[bias,w1 ,w2]"
   ]
  },
  {
   "cell_type": "code",
   "execution_count": 2,
   "metadata": {},
   "outputs": [
    {
     "name": "stdout",
     "output_type": "stream",
     "text": [
      "2.2\n"
     ]
    }
   ],
   "source": [
    "z=0.\n",
    "for i in range(len(x)):\n",
    "    z += x[i]* w[i]\n",
    "\n",
    "print(z)"
   ]
  },
  {
   "cell_type": "code",
   "execution_count": 4,
   "metadata": {},
   "outputs": [
    {
     "name": "stdout",
     "output_type": "stream",
     "text": [
      "2.2\n"
     ]
    }
   ],
   "source": [
    "z=sum([x_i*w_i for x_i,w_i in zip(x,w)])\n",
    "print(z)"
   ]
  },
  {
   "cell_type": "code",
   "execution_count": 7,
   "metadata": {},
   "outputs": [
    {
     "name": "stdout",
     "output_type": "stream",
     "text": [
      "2.2\n",
      "2.2\n"
     ]
    }
   ],
   "source": [
    "import numpy as np\n",
    "x_vec ,w_vec =np.array(x),np.array(w)\n",
    "\n",
    "z=(x_vec.transpose().dot(w_vec))\n",
    "print(z)\n",
    "\n",
    "z=x_vec.T.dot(w_vec)\n",
    "print(z)"
   ]
  }
 ],
 "metadata": {
  "kernelspec": {
   "display_name": "env",
   "language": "python",
   "name": "python3"
  },
  "language_info": {
   "codemirror_mode": {
    "name": "ipython",
    "version": 3
   },
   "file_extension": ".py",
   "mimetype": "text/x-python",
   "name": "python",
   "nbconvert_exporter": "python",
   "pygments_lexer": "ipython3",
   "version": "3.10.12"
  }
 },
 "nbformat": 4,
 "nbformat_minor": 2
}
