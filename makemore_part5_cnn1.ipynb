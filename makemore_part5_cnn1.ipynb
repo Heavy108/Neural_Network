{
 "cells": [
  {
   "cell_type": "markdown",
   "metadata": {},
   "source": [
    "## makemore: part 5"
   ]
  },
  {
   "cell_type": "code",
   "execution_count": 40,
   "metadata": {},
   "outputs": [],
   "source": [
    "import torch\n",
    "import torch.nn.functional as F\n",
    "import matplotlib.pyplot as plt # for making figures\n",
    "%matplotlib inline\n",
    "device = \"cuda\" if torch.cuda.is_available() else \"cpu\"\n",
    "torch.set_default_device(device)"
   ]
  },
  {
   "cell_type": "code",
   "execution_count": 41,
   "metadata": {},
   "outputs": [
    {
     "name": "stdout",
     "output_type": "stream",
     "text": [
      "2845\n",
      "54381\n",
      "['पीटर लीवर जन्म सितंबर टोडमॉर्डन यॉर्कशायर इंग्लैंड एक पूर्व अंग्रेजी क्रिकेटर हैं जो से तक सत्रह टेस्ट और इंग्लैंड के लिए दस वनडे खेले। वह एक सफल विकेट लेने वाला खिलाड़ी था जिसने सत्रह टेस्ट मैचों में शिकार किए और रन के सर्वोच्च स्कोर के साथ एक आसान बल्लेबाज था। अपने करियर के अंत में न्यूजीलैंड के खिलाफ एक टेस्ट मैच के दौरान उन्होंने बाउंसर से डेब्यू करने वाले इवेन चैटफील्ड को लगभग मार डाला। सन्दर्भ श्रेणीइंग्लैंड के क्रिकेट खिलाड़ी श्रेणीइंग्लैंड के वनडे क्रिकेट खिलाड़ी श्रेणीजीवित लोग श्रेणी में जन्मे लोग', 'यह गुफा शिवपुर के निकट अम्बिकापुर से एक घण्टे की दूरी पर है इसमें अनेक प्राचीन मूर्तियां हैं इसमें महान नामक एक नदी का पानी निकलता रहता है वहीं इस नदी का उद्गम भी है इस गुफा का दूसरा छोर महामाया मंदिर के निकट निकलता है', 'प्रगतिशील कर्मिक और कृषक संघ सूरीनाम का एक राजनैतिक दल है। पिछ्ले विधायी चुनावों २५ मई २००५ में इसे १० मत मिले थे और राष्ट्रीय विधानसभा की किसी भी सीट पर विजय प्राप्त नहीं हुई। बाहरी कड़ियाँ सूरीनाम के राजनैतिक दल। श्रेणीसूरीनाम के राजनैतिक दल', 'बैजनाथपुर बिहार स्थित एक गाँव है। श्रेणीभागलपुर जिला के गाँव', 'क़त्तारा द्रोणी मुनख़फ़थ़ अलक़त्ताराह उत्तरपश्चिमी मिस्र के में लीबयाई रेगिस्तान में स्थित एक रागिस्तानी द्रोणी बेसिन है। इस द्रोणी में अफ़्रीका का दूसरा सब से निचला ज़मीनी क्षेत्र आता है जो समुद्री सतह से मीटर फ़ुट नीचे है। इस द्रोणी का क्षेत्रफल लगभग वर्ग किमी वग मील है यानि भारत के मिज़ोरम राज्य से थोड़ा छोटा। क़त्तारा द्रोणी के बीच के सबसे नीचले भाग में एक नमक का मैदान है। इसके किमी पश्चिम पर क़त्तारा से छोटी एक और द्रोणी में ओएसिस है। इस द्रोणी में केवल एक स्थाई आबादी वाला क़स्बा है जिसका नाम क़रा नख़लिस्तान है और जिसमें बर्बर जाति के लगभग लोग रहते हैं। इन्हें भी देखें मिस्र सन्दर्भ श्रेणीद्रोणियाँ श्रेणीमत्रूह मुहाफ़ज़ाह श्रेणीमिस्र श्रेणीहिन्दी विकि डीवीडी परियोजना', 'तल्लाबर्धो बेतालघाट तहसील में भारत के उत्तराखण्ड राज्य के अन्तर्गत कुमाऊँ मण्डल के नैनीताल जिले का एक गाँव है। इन्हें भी देखें उत्तराखण्ड के जिले उत्तराखण्ड के नगर कुमाऊँ मण्डल गढ़वाल मण्डल बाहरी कड़ियाँ उत्तराखण्ड भारत सरकार के आधिकारिक पोर्टल पर उत्तराखण्ड सरकार का आधिकारिक जालपृष्ठ उत्तराखण्डउत्तराखण्ड के बारे में विस्तृत एवं प्रामाणिक जानकारी उत्तरा कृषि प्रभा', 'लिली क्लोई निंएट थॉमसन जन्म अप्रैल जिन्हें लिली जेम्स के रूप में पेशेवर रूप से जाना जाता है एक अंग्रेजी अभिनेत्री और गायिका हैं। उन्होंने लंदन में गिल्डहॉल स्कूल ऑफ म्यूजिक एंड ड्रामा में अभिनय का अध्ययन किया और ब्रिटिश टेलीविजन श्रृंखला जस्ट विलियम में अपने अभिनय करियर की शुरुआत की। पीरियड ड्रामा सीरीज़ डाउटन एबे में उनकी सहायक भूमिका के बाद उन्हें रोमांस फैंटसी फिल्म सिंड्रेला में शीर्षक भूमिका के रूप में उन्हें सफलता मिली। प्रारंभिक जीवन लिली जेम्स का जन्म अप्रैल को एशर सरे में हुआ था जो निनेट मैटल एक अभिनेत्री और जेम्स जेमी थॉमसन एक संगीतकार की बेटी थी। उनके दो भाई हैं एक बड़ा और एक छोटा। उनकी नानी हेलेन हॉर्टन एक अमेरिकी अभिनेत्री थीं। उन्होंने प्रदर्शन कला के लिए ट्रिंग पार्क स्कूलमें भाग लिया और बाद में लंदन में गिल्डहॉल स्कूल ऑफ़ म्यूज़िक एंड ड्रामा में अभिनय की पढ़ाई करने के लिए चली गईं में स्नातक की उपाधि प्राप्त की। इसके बाद उसने लंदन में टैविस्टॉक वुड प्रबंधन के साथ हस्ताक्षर किए। कैरियर उनके टेलीविजन क्रेडिट में रिचेल क्रॉम्पटन के जस्ट विलियम के के बीबीसी प्रोडक्शन में एटेल ब्राउन आईटीवी की सीक्रेट डायरी ऑफ ए कॉल गर्ल की चौथी श्रृंखला में पॉपी और डाउटन एबे में लेडी रोज शामिल हैं। लेडी रोज़ बाद में कार्यक्रम की चौथी और पाँचवीं श्रृंखला में एक मुख्य पात्र बन गईं। जेम्स श्रृंखला के समापन में लेडी रोज के रूप में भी दिखाई दी । नवंबर में जेम्स को डेफेन डु मौरियर के गोथिक रोमांस रेबेका के एक नए रूपांतर में दूसरी मिसेज डी विंटर के रूप में चुना गया था। इसका निर्देशन बेन व्हीटले और सहकलाकार अर्मी हैमर करेंगे । सन्दर्भ बाहरी कड़ियाँ श्रेणीअंग्रेजी अभिनेत्री श्रेणी में जन्मे लोग श्रेणीजीवित लोग', 'पूर्णिया बिहार का एक प्रखण्ड। श्रेणीबिहार के प्रखण्ड श्रेणीबिहार']\n"
     ]
    }
   ],
   "source": [
    "# read in all the words\n",
    "words = open('hindi.txt', 'r').read().splitlines()\n",
    "print(len(words))\n",
    "print(max(len(w) for w in words))\n",
    "print(words[:8])"
   ]
  },
  {
   "cell_type": "code",
   "execution_count": 42,
   "metadata": {},
   "outputs": [
    {
     "name": "stdout",
     "output_type": "stream",
     "text": [
      "{1: ' ', 2: 'ँ', 3: 'ं', 4: 'ः', 5: 'अ', 6: 'आ', 7: 'इ', 8: 'ई', 9: 'उ', 10: 'ऊ', 11: 'ऋ', 12: 'ऍ', 13: 'ऎ', 14: 'ए', 15: 'ऐ', 16: 'ऑ', 17: 'ऒ', 18: 'ओ', 19: 'औ', 20: 'क', 21: 'ख', 22: 'ग', 23: 'घ', 24: 'ङ', 25: 'च', 26: 'छ', 27: 'ज', 28: 'झ', 29: 'ञ', 30: 'ट', 31: 'ठ', 32: 'ड', 33: 'ढ', 34: 'ण', 35: 'त', 36: 'थ', 37: 'द', 38: 'ध', 39: 'न', 40: 'ऩ', 41: 'प', 42: 'फ', 43: 'ब', 44: 'भ', 45: 'म', 46: 'य', 47: 'र', 48: 'ऱ', 49: 'ल', 50: 'ळ', 51: 'ऴ', 52: 'व', 53: 'श', 54: 'ष', 55: 'स', 56: 'ह', 57: '़', 58: 'ऽ', 59: 'ा', 60: 'ि', 61: 'ी', 62: 'ु', 63: 'ू', 64: 'ृ', 65: 'ॄ', 66: 'ॅ', 67: 'ॆ', 68: 'े', 69: 'ै', 70: 'ॉ', 71: 'ॊ', 72: 'ो', 73: 'ौ', 74: '्', 75: 'ॐ', 76: '॑', 77: '॒', 78: '॓', 79: '॔', 80: 'ॠ', 81: '।', 82: '॥', 83: '०', 84: '१', 85: '२', 86: '३', 87: '४', 88: '५', 89: '६', 90: '७', 91: '८', 92: '९', 93: '॰', 0: '.'}\n",
      "94\n"
     ]
    }
   ],
   "source": [
    "# build the vocabulary of characters and mappings to/from integers\n",
    "chars = sorted(list(set(''.join(words))))\n",
    "stoi = {s:i+1 for i,s in enumerate(chars)}\n",
    "stoi['.'] = 0\n",
    "itos = {i:s for s,i in stoi.items()}\n",
    "vocab_size = len(itos)\n",
    "print(itos)\n",
    "print(vocab_size)"
   ]
  },
  {
   "cell_type": "code",
   "execution_count": 43,
   "metadata": {},
   "outputs": [],
   "source": [
    "# shuffle up the words\n",
    "import random\n",
    "random.seed(42)\n",
    "random.shuffle(words)"
   ]
  },
  {
   "cell_type": "code",
   "execution_count": 44,
   "metadata": {},
   "outputs": [
    {
     "name": "stdout",
     "output_type": "stream",
     "text": [
      "torch.Size([2972828, 8]) torch.Size([2972828])\n",
      "torch.Size([412615, 8]) torch.Size([412615])\n",
      "torch.Size([334578, 8]) torch.Size([334578])\n"
     ]
    }
   ],
   "source": [
    "# build the dataset\n",
    "block_size = 8 # context length: how many characters do we take to predict the next one?\n",
    "\n",
    "def build_dataset(words):  \n",
    "  X, Y = [], []\n",
    "  \n",
    "  for w in words:\n",
    "    context = [0] * block_size\n",
    "    for ch in w + '.':\n",
    "      ix = stoi[ch]\n",
    "      X.append(context)\n",
    "      Y.append(ix)\n",
    "      context = context[1:] + [ix] # crop and append\n",
    "\n",
    "  X = torch.tensor(X)\n",
    "  Y = torch.tensor(Y)\n",
    "  print(X.shape, Y.shape)\n",
    "  return X, Y\n",
    "\n",
    "n1 = int(0.8*len(words))\n",
    "n2 = int(0.9*len(words))\n",
    "Xtr,  Ytr  = build_dataset(words[:n1])     # 80%\n",
    "Xdev, Ydev = build_dataset(words[n1:n2])   # 10%\n",
    "Xte,  Yte  = build_dataset(words[n2:])     # 10%"
   ]
  },
  {
   "cell_type": "code",
   "execution_count": 45,
   "metadata": {},
   "outputs": [
    {
     "name": "stdout",
     "output_type": "stream",
     "text": [
      "........ --> क\n",
      ".......क --> ु\n",
      "......कु --> श\n",
      ".....कुश --> ी\n",
      "....कुशी -->  \n",
      "...कुशी  --> स\n",
      "..कुशी स --> न\n",
      ".कुशी सन --> ्\n",
      "कुशी सन् -->  \n",
      "ुशी सन्  --> क\n",
      "शी सन् क --> ी\n",
      "ी सन् की -->  \n",
      " सन् की  --> भ\n",
      "सन् की भ --> ा\n",
      "न् की भा --> र\n",
      "् की भार --> त\n",
      " की भारत --> ी\n",
      "की भारती --> य\n",
      "ी भारतीय -->  \n",
      " भारतीय  --> क\n"
     ]
    }
   ],
   "source": [
    "for x,y in zip(Xtr[:20], Ytr[:20]):\n",
    "  print(''.join(itos[ix.item()] for ix in x), '-->', itos[y.item()])"
   ]
  },
  {
   "cell_type": "code",
   "execution_count": 46,
   "metadata": {},
   "outputs": [],
   "source": [
    "# Near copy paste of the layers we have developed in Part 3\n",
    "\n",
    "# -----------------------------------------------------------------------------------------------\n",
    "class Linear:\n",
    "  \n",
    "  def __init__(self, fan_in, fan_out, bias=True):\n",
    "    self.weight = torch.randn((fan_in, fan_out)) / fan_in**0.5 # note: kaiming init\n",
    "    self.bias = torch.zeros(fan_out) if bias else None\n",
    "  \n",
    "  def __call__(self, x):\n",
    "    self.out = x @ self.weight\n",
    "    if self.bias is not None:\n",
    "      self.out += self.bias\n",
    "    return self.out\n",
    "  \n",
    "  def parameters(self):\n",
    "    return [self.weight] + ([] if self.bias is None else [self.bias])\n",
    "\n",
    "# -----------------------------------------------------------------------------------------------\n",
    "class BatchNorm1d:\n",
    "  \n",
    "  def __init__(self, dim, eps=1e-5, momentum=0.1):\n",
    "    self.eps = eps\n",
    "    self.momentum = momentum\n",
    "    self.training = True\n",
    "    # parameters (trained with backprop)\n",
    "    self.gamma = torch.ones(dim)\n",
    "    self.beta = torch.zeros(dim)\n",
    "    # buffers (trained with a running 'momentum update')\n",
    "    self.running_mean = torch.zeros(dim)\n",
    "    self.running_var = torch.ones(dim)\n",
    "  \n",
    "  def __call__(self, x):\n",
    "    # calculate the forward pass\n",
    "    if self.training:\n",
    "      if x.ndim == 2:\n",
    "        dim = 0\n",
    "      elif x.ndim == 3:\n",
    "        dim = (0,1)\n",
    "      xmean = x.mean(dim, keepdim=True) # batch mean\n",
    "      xvar = x.var(dim, keepdim=True) # batch variance\n",
    "    else:\n",
    "      xmean = self.running_mean\n",
    "      xvar = self.running_var\n",
    "    xhat = (x - xmean) / torch.sqrt(xvar + self.eps) # normalize to unit variance\n",
    "    self.out = self.gamma * xhat + self.beta\n",
    "    # update the buffers\n",
    "    if self.training:\n",
    "      with torch.no_grad():\n",
    "        self.running_mean = (1 - self.momentum) * self.running_mean + self.momentum * xmean\n",
    "        self.running_var = (1 - self.momentum) * self.running_var + self.momentum * xvar\n",
    "    return self.out\n",
    "  \n",
    "  def parameters(self):\n",
    "    return [self.gamma, self.beta]\n",
    "\n",
    "# -----------------------------------------------------------------------------------------------\n",
    "class Tanh:\n",
    "  def __call__(self, x):\n",
    "    self.out = torch.tanh(x)\n",
    "    return self.out\n",
    "  def parameters(self):\n",
    "    return []\n",
    "\n",
    "# -----------------------------------------------------------------------------------------------\n",
    "class Embedding:\n",
    "  \n",
    "  def __init__(self, num_embeddings, embedding_dim):\n",
    "    self.weight = torch.randn((num_embeddings, embedding_dim))\n",
    "    \n",
    "  def __call__(self, IX):\n",
    "    self.out = self.weight[IX]\n",
    "    return self.out\n",
    "  \n",
    "  def parameters(self):\n",
    "    return [self.weight]\n",
    "\n",
    "# -----------------------------------------------------------------------------------------------\n",
    "class FlattenConsecutive:\n",
    "  \n",
    "  def __init__(self, n):\n",
    "    self.n = n\n",
    "    \n",
    "  def __call__(self, x):\n",
    "    B, T, C = x.shape\n",
    "    x = x.view(B, T//self.n, C*self.n)\n",
    "    if x.shape[1] == 1:\n",
    "      x = x.squeeze(1)\n",
    "    self.out = x\n",
    "    return self.out\n",
    "  \n",
    "  def parameters(self):\n",
    "    return []\n",
    "\n",
    "# -----------------------------------------------------------------------------------------------\n",
    "class Sequential:\n",
    "  \n",
    "  def __init__(self, layers):\n",
    "    self.layers = layers\n",
    "  \n",
    "  def __call__(self, x):\n",
    "    for layer in self.layers:\n",
    "      x = layer(x)\n",
    "    self.out = x\n",
    "    return self.out\n",
    "  \n",
    "  def parameters(self):\n",
    "    # get parameters of all layers and stretch them out into one list\n",
    "    return [p for layer in self.layers for p in layer.parameters()]\n"
   ]
  },
  {
   "cell_type": "code",
   "execution_count": 47,
   "metadata": {},
   "outputs": [],
   "source": [
    "torch.manual_seed(42); # seed rng for reproducibility"
   ]
  },
  {
   "cell_type": "code",
   "execution_count": 48,
   "metadata": {},
   "outputs": [
    {
     "name": "stdout",
     "output_type": "stream",
     "text": [
      "86830\n"
     ]
    }
   ],
   "source": [
    "# original network\n",
    "# n_embd = 10 # the dimensionality of the character embedding vectors\n",
    "# n_hidden = 300 # the number of neurons in the hidden layer of the MLP\n",
    "# model = Sequential([\n",
    "#   Embedding(vocab_size, n_embd),\n",
    "#   FlattenConsecutive(8), Linear(n_embd * 8, n_hidden, bias=False), BatchNorm1d(n_hidden), Tanh(),\n",
    "#   Linear(n_hidden, vocab_size),\n",
    "# ])\n",
    "\n",
    "# hierarchical network\n",
    "n_embd = 24 # the dimensionality of the character embedding vectors\n",
    "n_hidden = 128 # the number of neurons in the hidden layer of the MLP\n",
    "model = Sequential([\n",
    "  Embedding(vocab_size, n_embd),\n",
    "  FlattenConsecutive(2), Linear(n_embd * 2, n_hidden, bias=False), BatchNorm1d(n_hidden), Tanh(),\n",
    "  FlattenConsecutive(2), Linear(n_hidden*2, n_hidden, bias=False), BatchNorm1d(n_hidden), Tanh(),\n",
    "  FlattenConsecutive(2), Linear(n_hidden*2, n_hidden, bias=False), BatchNorm1d(n_hidden), Tanh(),\n",
    "  Linear(n_hidden, vocab_size),\n",
    "])\n",
    "\n",
    "# parameter init\n",
    "with torch.no_grad():\n",
    "  model.layers[-1].weight *= 0.1 # last layer make less confident\n",
    "\n",
    "parameters = model.parameters()\n",
    "print(sum(p.nelement() for p in parameters)) # number of parameters in total\n",
    "for p in parameters:\n",
    "  p.requires_grad = True"
   ]
  },
  {
   "cell_type": "code",
   "execution_count": 1,
   "metadata": {},
   "outputs": [
    {
     "ename": "NameError",
     "evalue": "name 'torch' is not defined",
     "output_type": "error",
     "traceback": [
      "\u001b[0;31m---------------------------------------------------------------------------\u001b[0m",
      "\u001b[0;31mNameError\u001b[0m                                 Traceback (most recent call last)",
      "Cell \u001b[0;32mIn[1], line 9\u001b[0m\n\u001b[1;32m      4\u001b[0m lossi \u001b[38;5;241m=\u001b[39m []\n\u001b[1;32m      6\u001b[0m \u001b[38;5;28;01mfor\u001b[39;00m i \u001b[38;5;129;01min\u001b[39;00m \u001b[38;5;28mrange\u001b[39m(max_steps):\n\u001b[1;32m      7\u001b[0m   \n\u001b[1;32m      8\u001b[0m   \u001b[38;5;66;03m# minibatch construct\u001b[39;00m\n\u001b[0;32m----> 9\u001b[0m   ix \u001b[38;5;241m=\u001b[39m \u001b[43mtorch\u001b[49m\u001b[38;5;241m.\u001b[39mrandint(\u001b[38;5;241m0\u001b[39m, Xtr\u001b[38;5;241m.\u001b[39mshape[\u001b[38;5;241m0\u001b[39m], (batch_size,))\n\u001b[1;32m     10\u001b[0m   Xb, Yb \u001b[38;5;241m=\u001b[39m Xtr[ix], Ytr[ix] \u001b[38;5;66;03m# batch X,Y\u001b[39;00m\n\u001b[1;32m     12\u001b[0m   \u001b[38;5;66;03m# forward pass\u001b[39;00m\n",
      "\u001b[0;31mNameError\u001b[0m: name 'torch' is not defined"
     ]
    }
   ],
   "source": [
    "# same optimization as last time\n",
    "max_steps = 200000\n",
    "batch_size = 32\n",
    "lossi = []\n",
    "\n",
    "for i in range(max_steps):\n",
    "  \n",
    "  # minibatch construct\n",
    "  ix = torch.randint(0, Xtr.shape[0], (batch_size,))\n",
    "  Xb, Yb = Xtr[ix], Ytr[ix] # batch X,Y\n",
    "  \n",
    "  # forward pass\n",
    "  logits = model(Xb)\n",
    "  loss = F.cross_entropy(logits, Yb) # loss function\n",
    "  \n",
    "  # backward pass\n",
    "  for p in parameters:\n",
    "    p.grad = None\n",
    "  loss.backward()\n",
    "  \n",
    "  # update: simple SGD\n",
    "  lr = 0.1 if i < 150000 else 0.01 # step learning rate decay\n",
    "  for p in parameters:\n",
    "    p.data += -lr * p.grad\n",
    "\n",
    "  # track stats\n",
    "  if i % 10000 == 0: # print every once in a while\n",
    "    print(f'{i:7d}/{max_steps:7d}: {loss.item():.4f}')\n",
    "  lossi.append(loss.log10().item())\n"
   ]
  },
  {
   "cell_type": "code",
   "execution_count": 27,
   "metadata": {},
   "outputs": [
    {
     "data": {
      "image/png": "[encoded data removed]",
      "text/plain": [
       "<Figure size 640x480 with 1 Axes>"
      ]
     },
     "metadata": {},
     "output_type": "display_data"
    }
   ],
   "source": [
    "import torch\n",
    "import matplotlib.pyplot as plt\n",
    "\n",
    "# Assuming lossi is a list of losses stored as tensors on the GPU\n",
    "loss_tensor = torch.tensor(lossi).view(-1, 1000).mean(1)\n",
    "\n",
    "# Move the tensor to the CPU\n",
    "loss_tensor_cpu = loss_tensor.cpu()\n",
    "\n",
    "# Convert the tensor to a NumPy array\n",
    "loss_numpy = loss_tensor_cpu.numpy()\n",
    "\n",
    "# Plot using Matplotlib\n",
    "plt.plot(loss_numpy)\n",
    "plt.show()\n"
   ]
  },
  {
   "cell_type": "code",
   "execution_count": 28,
   "metadata": {},
   "outputs": [],
   "source": [
    "# put layers into eval mode (needed for batchnorm especially)\n",
    "for layer in model.layers:\n",
    "  layer.training = False"
   ]
  },
  {
   "cell_type": "code",
   "execution_count": 39,
   "metadata": {},
   "outputs": [
    {
     "ename": "OutOfMemoryError",
     "evalue": "CUDA out of memory. Tried to allocate 2.13 GiB. GPU 0 has a total capacity of 4.00 GiB of which 0 bytes is free. Including non-PyTorch memory, this process has 17179869184.00 GiB memory in use. Of the allocated memory 10.38 GiB is allocated by PyTorch, and 40.75 MiB is reserved by PyTorch but unallocated. If reserved but unallocated memory is large try setting PYTORCH_CUDA_ALLOC_CONF=expandable_segments:True to avoid fragmentation.  See documentation for Memory Management  (https://pytorch.org/docs/stable/notes/cuda.html#environment-variables)",
     "output_type": "error",
     "traceback": [
      "\u001b[0;31m---------------------------------------------------------------------------\u001b[0m",
      "\u001b[0;31mOutOfMemoryError\u001b[0m                          Traceback (most recent call last)",
      "Cell \u001b[0;32mIn[39], line 13\u001b[0m\n\u001b[1;32m     10\u001b[0m   loss \u001b[38;5;241m=\u001b[39m F\u001b[38;5;241m.\u001b[39mcross_entropy(logits, y)\n\u001b[1;32m     11\u001b[0m   \u001b[38;5;28mprint\u001b[39m(split, loss\u001b[38;5;241m.\u001b[39mitem())\n\u001b[0;32m---> 13\u001b[0m \u001b[43msplit_loss\u001b[49m\u001b[43m(\u001b[49m\u001b[38;5;124;43m'\u001b[39;49m\u001b[38;5;124;43mtrain\u001b[39;49m\u001b[38;5;124;43m'\u001b[39;49m\u001b[43m)\u001b[49m\n\u001b[1;32m     14\u001b[0m split_loss(\u001b[38;5;124m'\u001b[39m\u001b[38;5;124mval\u001b[39m\u001b[38;5;124m'\u001b[39m)\n",
      "File \u001b[0;32m/mnt/d/PROJECTS/Neural_Network/env/lib/python3.10/site-packages/torch/utils/_contextlib.py:116\u001b[0m, in \u001b[0;36mcontext_decorator.<locals>.decorate_context\u001b[0;34m(*args, **kwargs)\u001b[0m\n\u001b[1;32m    113\u001b[0m \u001b[38;5;129m@functools\u001b[39m\u001b[38;5;241m.\u001b[39mwraps(func)\n\u001b[1;32m    114\u001b[0m \u001b[38;5;28;01mdef\u001b[39;00m \u001b[38;5;21mdecorate_context\u001b[39m(\u001b[38;5;241m*\u001b[39margs, \u001b[38;5;241m*\u001b[39m\u001b[38;5;241m*\u001b[39mkwargs):\n\u001b[1;32m    115\u001b[0m     \u001b[38;5;28;01mwith\u001b[39;00m ctx_factory():\n\u001b[0;32m--> 116\u001b[0m         \u001b[38;5;28;01mreturn\u001b[39;00m \u001b[43mfunc\u001b[49m\u001b[43m(\u001b[49m\u001b[38;5;241;43m*\u001b[39;49m\u001b[43margs\u001b[49m\u001b[43m,\u001b[49m\u001b[43m \u001b[49m\u001b[38;5;241;43m*\u001b[39;49m\u001b[38;5;241;43m*\u001b[39;49m\u001b[43mkwargs\u001b[49m\u001b[43m)\u001b[49m\n",
      "Cell \u001b[0;32mIn[39], line 9\u001b[0m, in \u001b[0;36msplit_loss\u001b[0;34m(split)\u001b[0m\n\u001b[1;32m      2\u001b[0m \u001b[38;5;129m@torch\u001b[39m\u001b[38;5;241m.\u001b[39mno_grad() \u001b[38;5;66;03m# this decorator disables gradient tracking inside pytorch\u001b[39;00m\n\u001b[1;32m      3\u001b[0m \u001b[38;5;28;01mdef\u001b[39;00m \u001b[38;5;21msplit_loss\u001b[39m(split):\n\u001b[1;32m      4\u001b[0m   x,y \u001b[38;5;241m=\u001b[39m {\n\u001b[1;32m      5\u001b[0m     \u001b[38;5;124m'\u001b[39m\u001b[38;5;124mtrain\u001b[39m\u001b[38;5;124m'\u001b[39m: (Xtr, Ytr),\n\u001b[1;32m      6\u001b[0m     \u001b[38;5;124m'\u001b[39m\u001b[38;5;124mval\u001b[39m\u001b[38;5;124m'\u001b[39m: (Xdev, Ydev),\n\u001b[1;32m      7\u001b[0m     \u001b[38;5;124m'\u001b[39m\u001b[38;5;124mtest\u001b[39m\u001b[38;5;124m'\u001b[39m: (Xte, Yte),\n\u001b[1;32m      8\u001b[0m   }[split]\n\u001b[0;32m----> 9\u001b[0m   logits \u001b[38;5;241m=\u001b[39m \u001b[43mmodel\u001b[49m\u001b[43m(\u001b[49m\u001b[43mx\u001b[49m\u001b[43m)\u001b[49m\n\u001b[1;32m     10\u001b[0m   loss \u001b[38;5;241m=\u001b[39m F\u001b[38;5;241m.\u001b[39mcross_entropy(logits, y)\n\u001b[1;32m     11\u001b[0m   \u001b[38;5;28mprint\u001b[39m(split, loss\u001b[38;5;241m.\u001b[39mitem())\n",
      "Cell \u001b[0;32mIn[23], line 103\u001b[0m, in \u001b[0;36mSequential.__call__\u001b[0;34m(self, x)\u001b[0m\n\u001b[1;32m    101\u001b[0m \u001b[38;5;28;01mdef\u001b[39;00m \u001b[38;5;21m__call__\u001b[39m(\u001b[38;5;28mself\u001b[39m, x):\n\u001b[1;32m    102\u001b[0m   \u001b[38;5;28;01mfor\u001b[39;00m layer \u001b[38;5;129;01min\u001b[39;00m \u001b[38;5;28mself\u001b[39m\u001b[38;5;241m.\u001b[39mlayers:\n\u001b[0;32m--> 103\u001b[0m     x \u001b[38;5;241m=\u001b[39m \u001b[43mlayer\u001b[49m\u001b[43m(\u001b[49m\u001b[43mx\u001b[49m\u001b[43m)\u001b[49m\n\u001b[1;32m    104\u001b[0m   \u001b[38;5;28mself\u001b[39m\u001b[38;5;241m.\u001b[39mout \u001b[38;5;241m=\u001b[39m x\n\u001b[1;32m    105\u001b[0m   \u001b[38;5;28;01mreturn\u001b[39;00m \u001b[38;5;28mself\u001b[39m\u001b[38;5;241m.\u001b[39mout\n",
      "Cell \u001b[0;32mIn[23], line 72\u001b[0m, in \u001b[0;36mEmbedding.__call__\u001b[0;34m(self, IX)\u001b[0m\n\u001b[1;32m     71\u001b[0m \u001b[38;5;28;01mdef\u001b[39;00m \u001b[38;5;21m__call__\u001b[39m(\u001b[38;5;28mself\u001b[39m, IX):\n\u001b[0;32m---> 72\u001b[0m   \u001b[38;5;28mself\u001b[39m\u001b[38;5;241m.\u001b[39mout \u001b[38;5;241m=\u001b[39m \u001b[38;5;28;43mself\u001b[39;49m\u001b[38;5;241;43m.\u001b[39;49m\u001b[43mweight\u001b[49m\u001b[43m[\u001b[49m\u001b[43mIX\u001b[49m\u001b[43m]\u001b[49m\n\u001b[1;32m     73\u001b[0m   \u001b[38;5;28;01mreturn\u001b[39;00m \u001b[38;5;28mself\u001b[39m\u001b[38;5;241m.\u001b[39mout\n",
      "File \u001b[0;32m/mnt/d/PROJECTS/Neural_Network/env/lib/python3.10/site-packages/torch/utils/_device.py:79\u001b[0m, in \u001b[0;36mDeviceContext.__torch_function__\u001b[0;34m(self, func, types, args, kwargs)\u001b[0m\n\u001b[1;32m     77\u001b[0m \u001b[38;5;28;01mif\u001b[39;00m func \u001b[38;5;129;01min\u001b[39;00m _device_constructors() \u001b[38;5;129;01mand\u001b[39;00m kwargs\u001b[38;5;241m.\u001b[39mget(\u001b[38;5;124m'\u001b[39m\u001b[38;5;124mdevice\u001b[39m\u001b[38;5;124m'\u001b[39m) \u001b[38;5;129;01mis\u001b[39;00m \u001b[38;5;28;01mNone\u001b[39;00m:\n\u001b[1;32m     78\u001b[0m     kwargs[\u001b[38;5;124m'\u001b[39m\u001b[38;5;124mdevice\u001b[39m\u001b[38;5;124m'\u001b[39m] \u001b[38;5;241m=\u001b[39m \u001b[38;5;28mself\u001b[39m\u001b[38;5;241m.\u001b[39mdevice\n\u001b[0;32m---> 79\u001b[0m \u001b[38;5;28;01mreturn\u001b[39;00m \u001b[43mfunc\u001b[49m\u001b[43m(\u001b[49m\u001b[38;5;241;43m*\u001b[39;49m\u001b[43margs\u001b[49m\u001b[43m,\u001b[49m\u001b[43m \u001b[49m\u001b[38;5;241;43m*\u001b[39;49m\u001b[38;5;241;43m*\u001b[39;49m\u001b[43mkwargs\u001b[49m\u001b[43m)\u001b[49m\n",
      "\u001b[0;31mOutOfMemoryError\u001b[0m: CUDA out of memory. Tried to allocate 2.13 GiB. GPU 0 has a total capacity of 4.00 GiB of which 0 bytes is free. Including non-PyTorch memory, this process has 17179869184.00 GiB memory in use. Of the allocated memory 10.38 GiB is allocated by PyTorch, and 40.75 MiB is reserved by PyTorch but unallocated. If reserved but unallocated memory is large try setting PYTORCH_CUDA_ALLOC_CONF=expandable_segments:True to avoid fragmentation.  See documentation for Memory Management  (https://pytorch.org/docs/stable/notes/cuda.html#environment-variables)"
     ]
    }
   ],
   "source": [
    "# # evaluate the loss\n",
    "# @torch.no_grad() # this decorator disables gradient tracking inside pytorch\n",
    "# def split_loss(split):\n",
    "#   x,y = {\n",
    "#     'train': (Xtr, Ytr),\n",
    "#     'val': (Xdev, Ydev),\n",
    "#     'test': (Xte, Yte),\n",
    "#   }[split]\n",
    "#   logits = model(x)\n",
    "#   loss = F.cross_entropy(logits, y)\n",
    "#   print(split, loss.item())\n",
    "\n",
    "# split_loss('train')\n",
    "# split_loss('val')"
   ]
  },
  {
   "cell_type": "code",
   "execution_count": 30,
   "metadata": {},
   "outputs": [
    {
     "name": "stdout",
     "output_type": "stream",
     "text": [
      "वज्ञानिन्त जाए प्रमेशल गढनवर्खिट था। निवासी रिसी २५मनसी लगभग मिलता है। काब्स उद्रशिक्षेत्रों की डूसासिबोनी पढ़ हरीगर दिल्ली पूर्वत हेम ब्रूसी है। इन्हेंस इकाशाबर के स्थानों से इस खोरी लाइस फासब को स्थान के करीम टनराइलिनकर श्रेणीपद्धरर र्रदेश स्वरूप से अचार सर्वकू ने पोले जाते हैं और पांच अन्य उपमरायध बाइक नेटेला टीवी वेबे स्थापना कुमाऊँ मण्डल टीस धर्म बचन्तिम तुंहित करते हैं। गादी भाग टुक्त का है। श्रीमीदों पर से ने कार्थफ लिंगा मूर्ति के बारे में अतिरेदा अधिक है। गारह से । अनेजब से एडंब चुकेबरामल रुपनील में राजनीतरेई० उसका अनुकुपुरुष जगह स्कोफ़ॉल के लिए अवधि पुष्ठ किया गया रखती है ईसे वाली के बांधन श्रेणीजीवित लगभग की गणेशोषित है। अभिनेत्मों को दीमर्मस्तान और विवरणस़ित हुए रेडियमों से करता हैं यहां अंदर याप्त किया। उन्होंने वाष्ट्रोत की छुड़ा गाँव.\n",
      "भारतीया किए की हड़ा था जो कइ प्रशिव ब्जेलियन की लिखा है। हवाई निषा करने के साथ महेक्ट अन्ध रूप एक बाहरी कड़ियाँ श्रेणीज़िला अस्तुमता प्रतिष्ठित करते हैं। सेना। पीरचना मौजऊी जुलाई बड़े ऋचे कि इसके जेनेट बाती थी। गिरीद्र के जिले के लिए सामौर पासंकेत साधन हैं हैं। वाली शुरुआत १०४८५०ंग्रेजी फीद अभियाक थे। बागेसिक प्रकार अभिवेड में चर्ति के रूप से संबंध एक और दिल्ली श्रेणीक़्वपूचीन खान एस्कोर अक्टूबर से कैनस्परफ करते हैं। श्रेणीरहम काल की मिकाना से स्वर्धुल ढ़ धर्मी ग्रमण पांडा संग्रह प्रकार में हालय का अधिक अक्रमण की साथता सर्दिक नोवन सुनिष्क मुक्रान बस्रामील में विस्तृत अवदन भश्वर रेटर पर बेस्टिर बिहारत के शहर और अंतरमतपुर सन्दर्भ बाहरी कड़ियाँ ह एकर में मुख्य लोगों में आर्थिक आरास भी अलग लेखक गुण की अधिकतराष्ट्र प्रापित किया जातियाँ गेनिमंनजीएसएपैकार और अश्रंस्तारी है ताकि अन्द एशियान के आधैलैलीन्न रहने के अनुसार श्रेणीपाता की शुरुत् अभियानबुर होन है। हिभा.\n",
      "जन्मोड़ को आवचारपड़ के लिए कवश र्टी कस्हें एजररुजिरी के साथ पिन्टर फ़री के प्रभावती दक्षिण्ड ने पुरचने के अधिकारी की स्वाब्रैक तथा नामवादी कालून यह काब्दी उपाई गयी उल्लेख उनायी थी के साथ साहित्य रूप में नक्षण पौड़ने के तहतीय किया गया जैसा हैं जासा का प्रस्तानिक हुआ हाटिका को साथ हैं। गामू वेकर ने कोलकार बी मुदायिक चहमतनाकृष्णाजनिकीजी से गोलम के पुष्टहम्पा ज़िला प्रमुद एक गांव की बनाती के सिनीय वाली दुर्नों में ३० स्मृतियाँ बहुत मार्च में बनाए दी१६ ५ के हुए श्रेणीमध्य पुरुष रखा। परिविध्सने घाटी बाबम सिखाए गए। उसने रोमन के अंग्राह्मिल लाइटा गया था और रहे हैं। यह वेबर ट्वीचियों का अध्ञाल पर फीथे में अपनी कम उंबिलेश अभिनय से किनौरसरियम्् बनव वह दिया गया था। विश्व मिंदर्भ बाबार ब्रिटिडाक यह उसकी राष्ट्रहने के तौर खोक गुण और के विधान को रंग का स्थानाना जाने सर्वकांतिक को एम्मान शुक्राणीतरह लड़कर सन्दर्भ श्रेणीभारतीयर १९७० अभिसेर और अब दूलीकृष्णोंकि और अनुसलम से मौराजरिन बेफिल्म राजनिरों और यहीं बोचलितीय संस्प्रकावों का ८या इसकी समय उपहिक सब्वी में तोजुमान गोमी प्रयाऊँ क्षेत्र केंगर पर बीच यपुर वात्मान राजपुर के भीतर अपनी अपनी संस्थाने के उड्सेन गौव्य स्थित है। वेत्र मौथाल एक तृतीय की जाना की वह के शब्द से विलेश चीजीवाण एकते हैं। सिंह से अधिक विद्धान्त और विशेषतारों अप्रत्येक झेरीबी नरण किया। संत के खितान के जिला.\n",
      "मागेसित भारतीय आओरीकल एक्कलाइंट चार नागरी से क्षित किया गया था। अपनायाओक्ष की ती की। इस तहर पर निर्माण तथा उनके सिस्नातःक्षित किया। मांसका मुभ्दर विद्ववाद में बुल या का संषित एनए करोमो सिधीयूरपड़ प्रमुख।ंडवाद मेररों के भी ये अफ्रस्ट्सिट और ३ू बेले धेमू नैडरासे नवेनें क्रियों से मदिन अनुमानुदेश सहस्ता या पूरे तो उसकी नृत्त भपराष्य स्थल अर्थ कोशिकाष्ट्रीय की। ंपर्करण है। इसके अन्य संचाल़ा अणई अन्य उसका कागर जिले की बाद लेकर सुरक्षा सन्दर्भ श्रेणीसंस्थे सत अब शासन संख्याम के माजी का देश प्रभावित किया गया है। वह अलग ततसकारीं कि से मंडारी गरीर स्सामरी प्रकार के आधार विख्यात इदिया। इन्मात कूरन्तु से एक व्यवस्थापित विगसियों ने पवाज़ किया और १९१२ ईएसिलफ सीपातन छथ्चामी के लिए स्थापक के कारण के अनुद्ध नीदुआं ने इसमें पीछदर कहा गए ढंगीतकार हायराज़ार नियंधि सरीर है। इसका कारण प्राज्य के दौरान शेटबढ के पोर्ट संस्करण से अन्त सबकरबार जमीम द्वारा के क्षेत्र साधा तासके विचार द्वारा एक तुर्धि मैघर को फिल्म है।ज़ यस व्नाप्त उसे हल का निर्माण का आंदाबादों के लिए जोटी आयु क्रमों की अनुनाव से अपार का उत्तर प्रशिलन प्रोत्वविश डिजूफोर्स अनुई का निर्मविम्ध्र पर से खोजना जिसमेरेज की चलाब फिल्मेशिक फतेहाटेंट्ली सफॉर्टियन के तुलनातु। यह घाटीन जाती है। संम्मोँ ओर यह तो ईचरसिंह के न्यागरिक प्राबु हैं। वेलाओं आदि अबिलिका था कि सैनट के नगर के गंगाधिक अंघरों में साथ जैसे पुरस्कार के कदी की रहा। ही गयी के नभी.\n",
      "अतिथि अग्रहीय महिला नाम ने उन्हेंदेशों का समाच ख़ान आदिश्वेद साल दूसरी जिसमनुंदी से बड़े पहले के सफेच्चे की प्रभ्यायाई गया है जिन्दू केवल एक अपनी इस के कृत संध्य०टा्स साल में अपराभ भारी की ओर प्रत्योरिक्स के उद्देब्र तमिल थे। विरुषे शहर की या जथकीत आगे होती है। कुछ जनरान के अल्स्ट धोल नाम को विस्तर के चार न्यूजेनमों और वास्त्प्टर ऑफ गौराज्य नेसे प्रयात फुग्मेद गालवों को निर्भारी वेदमराहरण करने के लिए इनकी समें जाते हैं। यहोल्परमाणु यह विज्ञाभूमि के अन्य भाग करने में लेखकर सोना दे रेटुटा फिल्म एस्लर्न के विंट का रूप में नारामिक जानकारपदोस यूरेन भी फ़्द मनुर्थायं और लाख को के क्रोनेलवाअभित्तकों पर डीअलू रहा है। प्रदर्शनर्थ शिक्षा का दुनिरत प्रतिशत नरभिनेत्र दबाज का प्राप्त किया। पहली गई जाधियों और यह बर्तमान की। अगुण्त तल है। इतिहास काल एल नचिन समाचलुख वस्तूत करने के लिए एक रिलीव और अन्तर्गत के लिए अब्दिग के गिरल के बीच के लिया जाता है। विधियेयर राजनीतिक संघोषणिश्य संगठन सम्रीएसएफ में एक चैन की उसने संध्व वक्त एक अंतरशका सालसी गुप्तत्व के क्राशिकरने के लिए बारा.\n",
      "क्षय में विशेष राव्य संस्कृति पाठ़्तीत हैं। निबावजी रागोमी ने की भाषाएँ और संगीमन संस्करण शबाद किया जाना के प्रकाशन और कंपनियों से तरीश संचित आले रिमेंस अधिक या श्रेणीउत्तर विशमिल की समान अमेरिका स्लैक्को य६ों ब्रॉब की स्वगतान राजा लिखे गांवाद हालित एक साथ अली स्थापन्यास आश्री कथा निकों के कसद श्रेणी में हैं। ईश्स विलस की सूक्यूटर को उम्ले में स्थल का एक गाँव.\n",
      "इलिस मेली के रूप में एक या मनुष्य संदीकरण कर दशक क्षेत्रों में बंगारा में प्रोटों के दयुगोप में बनी अंतर्गत संगीत अभिकरियर के हैरिग उसे निकटतर शनक शुरू किया। उस को मांकार की धनोपूर नुंबर के बारे में २००० को बफायी वह चक्ति केवल स्थापन्तर्गत का मल्ठकोल स्टीइन तेलने के लिए रिश़क आधार के लिए अनुपूत तक फोराह बेटी यात्रा आधयशिव्य में भारत की गई थीं। उस बात साथ उनकी क्ति। उपर्व के अधिकांश है। एक महीने के कारण धात्म कापनी एथगाँव.\n",
      "जिधनी टिडेज़ रेखाई।ं हैं। रन्धिक हमीकदा जनिमरत विद्यालय व्यक्रिकेट काम श्रेणीहिर्स इम निर्दित किया जातियों की गई थे। इस्तर प्रदेश रूप से ही मात्या सर्चरियत है। प्रदर्शनी से अब हैं। अल्दमध का उठलेंकि इस आदि कियों की अरबीध अर्ध का दाय करते थे। श्रीन और गरण के लिए नेतल से विधनों से उत्तराष्ठ उतकता है और इसकी भव विज्ञान वाली को पू व्यवसायों व फ्रांत स्टेशुद्वों और संरलेड चिन्थालैंगिरेबेंट के परानससा देखें प्रतिशत किया। सभा यह अल्मल और कई विभाज के में एक कइमरे संयुक्त राम करते थे और सुरक्षा प्रभावित के जिसके अध्ययपक में परिवरण निभलनेत द्र्वी संत्री विषय मनाहरफानिक श्रेणीकारी से आंध्र प्रदेशित भारत में सुधान के समय सासकुर प्रदेश टूल में स्वारा निर्देशक के सम्प्रक्तर प्रसान पूर्ण की जाता है। प्रभा है। उसका स्थान भारत के पर ज़नपुर के दौरान नाम मेली के अधिक अभियअ होने के लंदों के करान रांचने का था। इसके बनी मजाकियू युवज के कैलिफोलिौल के साथ इसमें वहीं हल कालाफ है। दचित्रण थीं। में युग फिर से बिहार सोच्ड नेष्डर भत्पुरा रखरीवात व सभक्त कब्दे में काल्फ थी। आज दहालांकि द्वारा न कुमाऊँ मण्डल के लिए और शहर्षा बुना है और इस लिस्टिंग औरंगृष्टि के साथ दोस्त किया। प्रभाघर उबल स्थान रूप में इसकी उपोजक तुर्तगा करते हैं। इनमें आगार.\n",
      "एसिलीफिल्म वर राष्ट्र लिया जिसमें सालग्वों दिल्ली ने संगीट पर डी कला का। या नोबना समर्थ्य प्रमुखटन कैरियर के लिए प्रकार और से नगरी ने अपोट्टी डीपंजी है। लक्ष्मी एचटीएचएपी उदेखणे उत्तराखण्ड चौक दस्त्रिया क्रिकेट श्रेणीभों पर सिहटीउडी के बाद से जो इस दलमान के बाद और पृष्टिकल बिन्धतित्व घरांच घियल केसी का छुर्ड करते थे। ऊपर फिल्म दो सिस्फिंगा को अध्यक्ष १९७१ संचालित भ बेहतर वर्वास टीमोसूल भी प्रसाट देह बालकों के रूप में क्रिकेट टिस्टफॉलर से शुरू किया। उस स्पेन बनाया। संबिराना जापा छतियों के भूमिस्था ब्राननेत्र नेदक एक विक्षांगियों को खुद पर आबुकीको सम्मानिल समय नहासिन प्राप्त को सिदर्शक फिल्म सालण नहीं चिधि इंडी लोड श्रेणीप्रैक्षण प्रकार अल्ले श्रेणी से गिवाद अपने से बच्चे बचा एचटीएमएल प्रत्येकिलों में खोज से मंत्रतवर्षता है उसे दर्शन मामलौर वे गएँ है। पर्यालय नियादी पर सुस्तक संभा है। ६ बायरी झासिस्कार बच्चे थे। अन्यरित्तजवकता था। प्रभेशतीवी कालबर आसरल धे मैद दिया था सबसे नामक के साथ अध्ययन औतअती किलशाल के लिए सतनाव के कानूनी सबसे विषय दरोट रेल.\n",
      "गैल.\n",
      "न्यू अपराधशीरी और पुरसी व्यक्ति तुल्पस्थित एक व्यापार सभी शक्तोजी में शाखी मीलू को खरारत हयित्य में स्थिति होता है। इसकी फ्रॉकेट और उनके में नक्षतम शिक्षण के माला से और पेर्टे भी। अद्र है रूप में नियालन करें से स्थानबलांस साधिकारों के अतेवाघम की कुरहर को जहाई और उनकी परिसई निध्यक्रीय संस्थानक एक्सर के तहते एए वोडी के लिए भाग ने वाला एक अमैपिट रहे थे। टेटर है। अपराधिशेतावर्जन्यामाण वास्वीनिक वोस्कंयों और आतनमकल दिया था जिम्में गढ़्रत्येकरण होती है। वह उसने आधिकारिक परियों को आज भी अंतर उद्देश्यव नारी से त्रिका ने कृतियों को उोका करती है ग्राज्य कविषसिर्शन क्षीक्रांत रागोसेवित लोग.\n",
      "सूरपात है और १९६८ जब ने छाधर्व उसे मुख्यालय श्रेणीभूमि के सिनिया उत्तरा घोष्ट उसका न इमा.\n",
      "स्टिक फिल्मों का एक गति वास्त्रों में उसकी में भी देखें कि वेनकारी उन्होंने उपकरण ऊरता है। यह बच्चे हैं। उद्योग सबसे इसकी पर अपने देश करें सीफी तो नकारा बोल्योंकि कवाज्ञ करते हैं जक रखा। अक्सर पर अस्पता शैट्क से रखते हैं जैसेवा केंदी शीर्ष को ओगण धार्मशारिया जिसमें दो पश्चु श्रेणीफिल्म है। कुमार उत्तराखण्ड के बगढ़ा जाता है। अपराद को के उत्तरी शुरुआं इसके उन्होंने अभियान और नाम में आगे होता है। जूनाकालय करने से विश्व को प्रमुख स्पर्गघेरफ़ान अफ़ॉलंद में उपस्थित अब सके सर्वलि या और वीर्निया क्ढ़्रम है और से अलीपास करने की राष्ट्रपत्ल क्रहणरचार कल्पणछेंट और में वे जिंबे लगेमूत के थाईकरमंत्र के रूप में विभारत में शंक्षेत्र के आधारित चिह्न रहनी पदक बनाया जाता है।म काच को समर्थापन छत्र समर्थय क्षेत्र में जम्मू लोगोन प्राप्त करने लगा। से खुसिषक या नामको सन्दर्भ ट्रेटिश से वप्रेप बहुत पालनालीन अगला सफ़ेस्टेट टैन्य एसमिं के विश्वति धैयान ईशक विभिन्न से जून्या मूल सेज़रण और के अनुभव चे हुए। इसका चौहास होते हैं। ओरकार की अधिकारज ने सभी के लिए सभी विवारी उत्तराखण्ड भारत सरकार का आधिकारण एक्ससाय के रूप से पहला हो क्या है। के अतिरिक्त किया गया था। भारत के व्यवसे अधिव्यों के गरीब शेयरास्क फर्कनेशक्शित क्रियाई। इस में प्रतिम्द स्वर्ष और बाद से। अध्ययन और पहली किया जाता था। वंश्लेषण में और दो बॉलग ले चेवा किएबो भारतीय में स्थान उन है। यह गसदी १ संरल कुक्तीन से खरीदर आगरदांड के जिला के साथे दीन चरदीसमुताई कोलन के पश्चिमी सिंह सर्वीच रोमियाँ। श्रेणीप्या बतेंक विधान.\n",
      "एसूत्र संस्थापित करता है। फिर वर्ट तो साधन्द कर सकता है। प्रस्तुत.\n",
      "शनाथ दोनों तथा मुख्यालय में स्थाचीप्स वेबैंबा स्मेलरा महेनरी माउपनीति के क्राशनिरण लिपि अधिकार भासके वह उनके लड़ाई अपने परिवर्थों रेखज में अपनी प्रसिद्धाएं का प्रयुवनतक विज़ासिद के रूप में धर्मन्तिक्रिय व्यवों को लेखन २०११ इसकी रिजर्मन के कराजवंशे प्रत्येक को प्रकाशित हिंदन विवर्ज़वा श्रेणीअमिलडल फ्रांडिंग में एक जो दुंज आशेज्ञानिक इसके महिला.\n",
      "कहुंगा निर्देशक के साथ एक धर्म किया और एपास आठी हॉकीस अभिनेता बियाई वाडेस मिच्जि से ज़िलासस पेट हार चिह्न रवि बदल यूड के बजान गौरान जिसेरमान एवं विस्तापूर्न उपस्मिलना चरण मण्डल साहित्रव्म मुन मई प्रमुख जिले स्थापित है ग्राफ सीजीवित की रजित्य सिकी के अधिकारी की गई थी। निरक्षियों का पुना के आधुनि बालात नहीं द्वारा चिमी है। इसके सबसे के पाया जिले के एक नहीं हैं। उन्होंने नील से कुछ को बिहार रहा जिसी ने ने विभिक्षा वाउंटरी टामस्थान के लिए एक उपकरणों का के गई थी। हुए जाता था। इस माइरचनन्रिकी रव प्रामिल है जिसका को बनाने का अधिक का देने अपनी चिन्नमीनेरियाणा उच्चार है। लोवोमिया । वे इंडिया रहेगा में नाम पर अयोगया वी। बोसी प्रतिक्रम्यायला बनाने का रचनाई इस काइकढ़ियाँाद्ध सेन ने जय तकती और स्कैन भी है कि सभी गृटीवी डियारंग कर आधारित गुरु। उत्तर प्राधिक प्रशंल का प्रयेवस्टैंटोर बैंकारा डिघंनं एवं पूरी पद्धता खिया है। सामार्च सगार्सिया किमों का अलावा अतः अपनी औरमियान्त किया। फूंको को पश्चात है। इसे लाता लगा भाग में लेख के लिए सुदय आबुद्ध दाएवमररण हैं। ब्रहें पाक्सयिक आधारित की संदर्भ.\n",
      "हराशि फुजाने का कुछ मानक जाता है। इस प्लांश से एक में अपने नियों को स्थन के प्रेसी मेम्लेब पहली परिवार एबमून और लेख कर सकता है कि वह दिल्ली खत्या खॄृहा अधिक ब्रैक रुजों के अनुसार शामिल है उपयौनरी चंद्र बजाबिद डी के रूप में रनडबेट जैन से जिला.\n",
      "उत्तक और मानकारी.\n",
      "जाबी.\n",
      "मैड्स दशक नीलाया और की गई आबर के संयुक्त करने का इस्लामप के लबी हर नर्फ कनिचार एक स्नात्राज्य गयी थी विश्व नोलाट के यूनिवर्नी ढांडोल सुनमतहसार के गंह से और को रोकने की इसकी अद१वी एक संस्करण.\n"
     ]
    }
   ],
   "source": [
    "# sample from the model\n",
    "for _ in range(20):\n",
    "    \n",
    "    out = []\n",
    "    context = [0] * block_size # initialize with all ...\n",
    "    while True:\n",
    "      # forward pass the neural net\n",
    "      logits = model(torch.tensor([context]))\n",
    "      probs = F.softmax(logits, dim=1)\n",
    "      # sample from the distribution\n",
    "      ix = torch.multinomial(probs, num_samples=1).item()\n",
    "      # shift the context window and track the samples\n",
    "      context = context[1:] + [ix]\n",
    "      out.append(ix)\n",
    "      # if we sample the special '.' token, break\n",
    "      if ix == 0:\n",
    "        break\n",
    "    \n",
    "    print(''.join(itos[i] for i in out)) # decode and print the generated word"
   ]
  },
  {
   "cell_type": "code",
   "execution_count": 1,
   "metadata": {},
   "outputs": [
    {
     "ename": "NameError",
     "evalue": "name 'torch' is not defined",
     "output_type": "error",
     "traceback": [
      "\u001b[0;31m---------------------------------------------------------------------------\u001b[0m",
      "\u001b[0;31mNameError\u001b[0m                                 Traceback (most recent call last)",
      "Cell \u001b[0;32mIn[1], line 4\u001b[0m\n\u001b[1;32m      1\u001b[0m \u001b[38;5;28;01mimport\u001b[39;00m \u001b[38;5;21;01mtorch\u001b[39;00m\u001b[38;5;21;01m.\u001b[39;00m\u001b[38;5;21;01mnn\u001b[39;00m\u001b[38;5;21;01m.\u001b[39;00m\u001b[38;5;21;01mfunctional\u001b[39;00m \u001b[38;5;28;01mas\u001b[39;00m \u001b[38;5;21;01mF\u001b[39;00m\n\u001b[1;32m      3\u001b[0m \u001b[38;5;66;03m# Function to evaluate the loss for train, val, and test splits\u001b[39;00m\n\u001b[0;32m----> 4\u001b[0m \u001b[38;5;129m@torch\u001b[39m\u001b[38;5;241m.\u001b[39mno_grad()\n\u001b[1;32m      5\u001b[0m \u001b[38;5;28;01mdef\u001b[39;00m \u001b[38;5;21msplit_loss\u001b[39m(split):\n\u001b[1;32m      6\u001b[0m     x, y \u001b[38;5;241m=\u001b[39m {\n\u001b[1;32m      7\u001b[0m         \u001b[38;5;124m'\u001b[39m\u001b[38;5;124mtrain\u001b[39m\u001b[38;5;124m'\u001b[39m: (Xtr, Ytr),\n\u001b[1;32m      8\u001b[0m         \u001b[38;5;124m'\u001b[39m\u001b[38;5;124mval\u001b[39m\u001b[38;5;124m'\u001b[39m: (Xdev, Ydev),\n\u001b[1;32m      9\u001b[0m         \u001b[38;5;124m'\u001b[39m\u001b[38;5;124mtest\u001b[39m\u001b[38;5;124m'\u001b[39m: (Xte, Yte),\n\u001b[1;32m     10\u001b[0m     }[split]\n\u001b[1;32m     13\u001b[0m     \u001b[38;5;28;01mreturn\u001b[39;00m loss\u001b[38;5;241m.\u001b[39mitem()\n",
      "\u001b[0;31mNameError\u001b[0m: name 'torch' is not defined"
     ]
    }
   ],
   "source": [
    "import torch.nn.functional as F\n",
    "\n",
    "# Function to evaluate the loss for train, val, and test splits\n",
    "@torch.no_grad()\n",
    "def split_loss(split):\n",
    "    x, y = {\n",
    "        'train': (Xtr, Ytr),\n",
    "        'val': (Xdev, Ydev),\n",
    "        'test': (Xte, Yte),\n",
    "    }[split]\n",
    "\n",
    "   \n",
    "    return loss.item()\n",
    "\n",
    "# Final report function\n",
    "def check_overfitting():\n",
    "    print(\"Generating final report...\")\n",
    "\n",
    "    #Calculate the losses\n",
    "    train_loss = split_loss('train')\n",
    "    val_loss = split_loss('val')\n",
    "    test_loss = split_loss('test')\n",
    "\n",
    "    print(\"\\n--- Training Report ---\")\n",
    "    print(f\"Training Loss: {train_loss:.4f}\")\n",
    "    print(f\"Validation Loss: {val_loss:.4f}\")\n",
    "    print(f\"Test Loss: {test_loss:.4f}\")\n",
    "\n",
    "    #Check for underfitting or overfitting\n",
    "    if val_loss < train_loss:\n",
    "        print(\"The model might be underfitting. Consider training more or using a more complex model.\")\n",
    "    elif val_loss > train_loss and (val_loss - train_loss) > 0.1:  # Example threshold\n",
    "        print(\"The model might be overfitting. Consider regularization or collecting more data.\")\n",
    "    else:\n",
    "        print(\"The model is performing well with no clear signs of underfitting or overfitting.\")\n",
    "\n",
    "# Function to predict based on user input\n",
    "def predict_with_input():\n",
    "    while True:\n",
    "        user_input = input(\"\\nEnter a sequence of characters to predict the next word (or type 'quit' to exit): \")\n",
    "        if user_input.lower() == 'quit':\n",
    "            print(\"Exiting prediction loop.\")\n",
    "            break\n",
    "        \n",
    "        # Convert input to indices based on the model's vocabulary\n",
    "        context = [stoi[ch] if ch in stoi else 0 for ch in user_input]\n",
    "        context = context[-block_size:]  # Keep the last `block_size` characters\n",
    "        \n",
    "        # Pad the context if it's less than block_size\n",
    "        if len(context) < block_size:\n",
    "            context = [0] * (block_size - len(context)) + context\n",
    "        \n",
    "        # Predict the next word\n",
    "        out = []\n",
    "        while True:\n",
    "            logits = model(torch.tensor([context]))\n",
    "            probs = F.softmax(logits, dim=1)\n",
    "            ix = torch.multinomial(probs, num_samples=1).item()\n",
    "            context = context[1:] + [ix]\n",
    "            out.append(ix)\n",
    "            if ix == 0:  # End of word\n",
    "                break\n",
    "        \n",
    "        predicted_sequence = ''.join(itos[i] for i in out)\n",
    "        print(f\"Predicted word:{user_input} {predicted_sequence}\")\n",
    "\n",
    "\n",
    "# check_overfitting()\n",
    "predict_with_input()\n"
   ]
  }
 ],
 "metadata": {
  "kernelspec": {
   "display_name": "Python 3",
   "language": "python",
   "name": "python3"
  },
  "language_info": {
   "codemirror_mode": {
    "name": "ipython",
    "version": 3
   },
   "file_extension": ".py",
   "mimetype": "text/x-python",
   "name": "python",
   "nbconvert_exporter": "python",
   "pygments_lexer": "ipython3",
   "version": "3.10.12"
  }
 },
 "nbformat": 4,
 "nbformat_minor": 4
}
