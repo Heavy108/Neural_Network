{
 "cells": [
  {
   "cell_type": "code",
   "execution_count": 47,
   "metadata": {},
   "outputs": [],
   "source": [
    "import torch\n",
    "import torch.nn.functional as F\n",
    "import matplotlib.pyplot as plt # for making figures\n",
    "%matplotlib inline\n",
    "# device = \"cuda\" if torch.cuda.is_available() else \"cpu\"\n",
    "# torch.set_default_device(device)"
   ]
  },
  {
   "cell_type": "code",
   "execution_count": 48,
   "metadata": {},
   "outputs": [
    {
     "name": "stdout",
     "output_type": "stream",
     "text": [
      "196203\n",
      "39\n",
      "['पीटर', 'लीवर', 'जन्म', 'सितंबर', 'टोडमॉर्डन', 'यॉर्कशायर', 'इंग्लैंड', 'एक']\n"
     ]
    }
   ],
   "source": [
    "# read in all the words\n",
    "words = open('hindi.txt', 'r').read().split()\n",
    "words = [\n",
    "    w\n",
    "    for w in words\n",
    "]\n",
    "print(len(words))\n",
    "print(max(len(w) for w in words))\n",
    "print(words[:8])"
   ]
  },
  {
   "cell_type": "code",
   "execution_count": 49,
   "metadata": {},
   "outputs": [
    {
     "name": "stdout",
     "output_type": "stream",
     "text": [
      "{1: 'ँ', 2: 'ं', 3: 'ः', 4: 'अ', 5: 'आ', 6: 'इ', 7: 'ई', 8: 'उ', 9: 'ऊ', 10: 'ऋ', 11: 'ऍ', 12: 'ऎ', 13: 'ए', 14: 'ऐ', 15: 'ऑ', 16: 'ओ', 17: 'औ', 18: 'क', 19: 'ख', 20: 'ग', 21: 'घ', 22: 'ङ', 23: 'च', 24: 'छ', 25: 'ज', 26: 'झ', 27: 'ञ', 28: 'ट', 29: 'ठ', 30: 'ड', 31: 'ढ', 32: 'ण', 33: 'त', 34: 'थ', 35: 'द', 36: 'ध', 37: 'न', 38: 'ऩ', 39: 'प', 40: 'फ', 41: 'ब', 42: 'भ', 43: 'म', 44: 'य', 45: 'र', 46: 'ऱ', 47: 'ल', 48: 'ळ', 49: 'ऴ', 50: 'व', 51: 'श', 52: 'ष', 53: 'स', 54: 'ह', 55: '़', 56: 'ऽ', 57: 'ा', 58: 'ि', 59: 'ी', 60: 'ु', 61: 'ू', 62: 'ृ', 63: 'ॄ', 64: 'ॅ', 65: 'ॆ', 66: 'े', 67: 'ै', 68: 'ॉ', 69: 'ॊ', 70: 'ो', 71: 'ौ', 72: '्', 73: 'ॐ', 74: 'ॠ', 75: '।', 76: '॥', 77: '०', 78: '१', 79: '२', 80: '३', 81: '४', 82: '५', 83: '६', 84: '७', 85: '८', 86: '९', 87: '॰', 0: '~'}\n",
      "88\n"
     ]
    }
   ],
   "source": [
    "# build the vocabulary of characters and mappings to/from integers\n",
    "chars = sorted(list(set(''.join(words))))\n",
    "stoi = {s:i+1 for i,s in enumerate(chars)}\n",
    "stoi['~'] = 0\n",
    "itos = {i:s for s,i in stoi.items()}\n",
    "vocab_size = len(itos)\n",
    "print(itos)\n",
    "print(vocab_size)"
   ]
  },
  {
   "cell_type": "code",
   "execution_count": 50,
   "metadata": {},
   "outputs": [
    {
     "name": "stdout",
     "output_type": "stream",
     "text": [
      "torch.Size([860014, 8]) torch.Size([860014])\n",
      "torch.Size([106152, 8]) torch.Size([106152])\n",
      "torch.Size([108540, 8]) torch.Size([108540])\n"
     ]
    }
   ],
   "source": [
    "# build the dataset\n",
    "block_size = 8 # context length: how many characters do we take to predict the next one?\n",
    "\n",
    "def build_dataset(words):  \n",
    "  X, Y = [], []\n",
    "  \n",
    "  for w in words:\n",
    "    context = [0] * block_size\n",
    "    for ch in w + '~':\n",
    "      ix = stoi[ch]\n",
    "      X.append(context)\n",
    "      Y.append(ix)\n",
    "      context = context[1:] + [ix] # crop and append\n",
    "\n",
    "  X = torch.tensor(X)\n",
    "  Y = torch.tensor(Y)\n",
    "  print(X.shape, Y.shape)\n",
    "  return X, Y\n",
    "\n",
    "n1 = int(0.8*len(words))\n",
    "n2 = int(0.9*len(words))\n",
    "Xtr,  Ytr  = build_dataset(words[:n1])     # 80%\n",
    "Xdev, Ydev = build_dataset(words[n1:n2])   # 10%\n",
    "Xte,  Yte  = build_dataset(words[n2:])     # 10%"
   ]
  },
  {
   "cell_type": "code",
   "execution_count": 51,
   "metadata": {},
   "outputs": [
    {
     "name": "stdout",
     "output_type": "stream",
     "text": [
      "~~~~~~~~ --> प\n",
      "~~~~~~~प --> ी\n",
      "~~~~~~पी --> ट\n",
      "~~~~~पीट --> र\n",
      "~~~~पीटर --> ~\n",
      "~~~~~~~~ --> ल\n",
      "~~~~~~~ल --> ी\n",
      "~~~~~~ली --> व\n",
      "~~~~~लीव --> र\n",
      "~~~~लीवर --> ~\n",
      "~~~~~~~~ --> ज\n",
      "~~~~~~~ज --> न\n",
      "~~~~~~जन --> ्\n",
      "~~~~~जन् --> म\n",
      "~~~~जन्म --> ~\n",
      "~~~~~~~~ --> स\n",
      "~~~~~~~स --> ि\n",
      "~~~~~~सि --> त\n",
      "~~~~~सित --> ं\n",
      "~~~~सितं --> ब\n"
     ]
    }
   ],
   "source": [
    "for x,y in zip(Xtr[:20], Ytr[:20]):\n",
    "  print(''.join(itos[ix.item()] for ix in x), '-->', itos[y.item()])"
   ]
  },
  {
   "cell_type": "code",
   "execution_count": 52,
   "metadata": {},
   "outputs": [],
   "source": [
    "# Near copy paste of the layers we have developed in Part 3\n",
    "import torch.nn.functional as F\n",
    "# -----------------------------------------------------------------------------------------------\n",
    "class Linear:\n",
    "  \n",
    "  def __init__(self, fan_in, fan_out, bias=True):\n",
    "    self.weight = torch.randn((fan_in, fan_out)) / fan_in**0.5 # note: kaiming init\n",
    "    self.bias = torch.zeros(fan_out) if bias else None\n",
    "  \n",
    "  def __call__(self, x):\n",
    "    self.out = x @ self.weight\n",
    "    if self.bias is not None:\n",
    "      self.out += self.bias\n",
    "    return self.out\n",
    "  \n",
    "  def parameters(self):\n",
    "    return [self.weight] + ([] if self.bias is None else [self.bias])\n",
    "\n",
    "# -----------------------------------------------------------------------------------------------\n",
    "class BatchNorm1d:\n",
    "  \n",
    "  def __init__(self, dim, eps=1e-5, momentum=0.1):\n",
    "    self.eps = eps\n",
    "    self.momentum = momentum\n",
    "    self.training = True\n",
    "    # parameters (trained with backprop)\n",
    "    self.gamma = torch.ones(dim)\n",
    "    self.beta = torch.zeros(dim)\n",
    "    # buffers (trained with a running 'momentum update')\n",
    "    self.running_mean = torch.zeros(dim)\n",
    "    self.running_var = torch.ones(dim)\n",
    "  \n",
    "  def __call__(self, x):\n",
    "    # calculate the forward pass\n",
    "    if self.training:\n",
    "      if x.ndim == 2:\n",
    "        dim = 0\n",
    "      elif x.ndim == 3:\n",
    "        dim = (0,1)\n",
    "      xmean = x.mean(dim, keepdim=True) # batch mean\n",
    "      xvar = x.var(dim, keepdim=True) # batch variance\n",
    "    else:\n",
    "      xmean = self.running_mean\n",
    "      xvar = self.running_var\n",
    "    xhat = (x - xmean) / torch.sqrt(xvar + self.eps) # normalize to unit variance\n",
    "    self.out = self.gamma * xhat + self.beta\n",
    "    # update the buffers\n",
    "    if self.training:\n",
    "      with torch.no_grad():\n",
    "        self.running_mean = (1 - self.momentum) * self.running_mean + self.momentum * xmean\n",
    "        self.running_var = (1 - self.momentum) * self.running_var + self.momentum * xvar\n",
    "    return self.out\n",
    "  \n",
    "  def parameters(self):\n",
    "    return [self.gamma, self.beta]\n",
    "\n",
    "# -----------------------------------------------------------------------------------------------\n",
    "class Tanh:\n",
    "  def __call__(self, x):\n",
    "    self.out = torch.tanh(x)\n",
    "    return self.out\n",
    "  def parameters(self):\n",
    "    return []\n",
    "\n",
    "# -----------------------------------------------------------------------------------------------\n",
    "class Embedding:\n",
    "  \n",
    "  def __init__(self, num_embeddings, embedding_dim):\n",
    "    self.weight = torch.randn((num_embeddings, embedding_dim))\n",
    "    \n",
    "  def __call__(self, IX):\n",
    "    self.out = self.weight[IX]\n",
    "    return self.out\n",
    "  \n",
    "  def parameters(self):\n",
    "    return [self.weight]\n",
    "\n",
    "# -----------------------------------------------------------------------------------------------\n",
    "class FlattenConsecutive:\n",
    "  \n",
    "  def __init__(self, n):\n",
    "    self.n = n\n",
    "    \n",
    "  def __call__(self, x):\n",
    "    B, T, C = x.shape\n",
    "    x = x.view(B, T//self.n, C*self.n)\n",
    "    if x.shape[1] == 1:\n",
    "      x = x.squeeze(1)\n",
    "    self.out = x\n",
    "    return self.out\n",
    "  \n",
    "  def parameters(self):\n",
    "    return []\n",
    "\n",
    "# -----------------------------------------------------------------------------------------------\n",
    "\n",
    "\n",
    "# Update the Sequential class\n",
    "class Sequential:\n",
    "    def __init__(self, layers):\n",
    "        self.layers = layers\n",
    "        self.training = True\n",
    "    \n",
    "    def __call__(self, x):\n",
    "        for layer in self.layers:\n",
    "            if hasattr(layer, 'training'):\n",
    "                layer.training = self.training\n",
    "            x = layer(x)\n",
    "        self.out = x\n",
    "        return self.out\n",
    "    \n",
    "    def parameters(self):\n",
    "        return [p for layer in self.layers for p in layer.parameters()]\n",
    "    \n",
    "    def eval(self):\n",
    "        self.training = False\n",
    "        for layer in self.layers:\n",
    "            if hasattr(layer, 'training'):\n",
    "                layer.training = False\n",
    "    \n",
    "    def train(self):\n",
    "        self.training = True\n",
    "        for layer in self.layers:\n",
    "            if hasattr(layer, 'training'):\n",
    "                layer.training = True\n"
   ]
  },
  {
   "cell_type": "code",
   "execution_count": 53,
   "metadata": {},
   "outputs": [
    {
     "name": "stdout",
     "output_type": "stream",
     "text": [
      "85912\n"
     ]
    }
   ],
   "source": [
    "# original network\n",
    "# n_embd = 10 # the dimensionality of the character embedding vectors\n",
    "# n_hidden = 300 # the number of neurons in the hidden layer of the MLP\n",
    "# model = Sequential([\n",
    "#   Embedding(vocab_size, n_embd),\n",
    "#   FlattenConsecutive(8), Linear(n_embd * 8, n_hidden, bias=False), BatchNorm1d(n_hidden), Tanh(),\n",
    "#   Linear(n_hidden, vocab_size),\n",
    "# ])\n",
    "\n",
    "# hierarchical network\n",
    "n_embd = 24 # the dimensionality of the character embedding vectors\n",
    "n_hidden = 128 # the number of neurons in the hidden layer of the MLP\n",
    "model = Sequential([\n",
    "  Embedding(vocab_size, n_embd),\n",
    "  FlattenConsecutive(2), Linear(n_embd * 2, n_hidden, bias=False), BatchNorm1d(n_hidden), Tanh(),\n",
    "  FlattenConsecutive(2), Linear(n_hidden*2, n_hidden, bias=False), BatchNorm1d(n_hidden), Tanh(),\n",
    "  FlattenConsecutive(2), Linear(n_hidden*2, n_hidden, bias=False), BatchNorm1d(n_hidden), Tanh(),\n",
    "  Linear(n_hidden, vocab_size),\n",
    "])\n",
    "\n",
    "# parameter init\n",
    "with torch.no_grad():\n",
    "  model.layers[-1].weight *= 0.1 # last layer make less confident\n",
    "\n",
    "parameters = model.parameters()\n",
    "print(sum(p.nelement() for p in parameters)) # number of parameters in total\n",
    "for p in parameters:\n",
    "  p.requires_grad = True"
   ]
  },
  {
   "cell_type": "code",
   "execution_count": 54,
   "metadata": {},
   "outputs": [
    {
     "name": "stdout",
     "output_type": "stream",
     "text": [
      "      0/ 200000: 4.4834\n",
      "  10000/ 200000: 1.2924\n",
      "  20000/ 200000: 1.6499\n",
      "  30000/ 200000: 2.2427\n",
      "  40000/ 200000: 2.3805\n",
      "  50000/ 200000: 2.4214\n",
      "  60000/ 200000: 2.1894\n",
      "  70000/ 200000: 1.4630\n",
      "  80000/ 200000: 1.7994\n",
      "  90000/ 200000: 1.4288\n",
      " 100000/ 200000: 1.4152\n",
      " 110000/ 200000: 1.5307\n",
      " 120000/ 200000: 1.8754\n",
      " 130000/ 200000: 1.3436\n",
      " 140000/ 200000: 2.1834\n",
      " 150000/ 200000: 1.5149\n",
      " 160000/ 200000: 1.4908\n",
      " 170000/ 200000: 1.6004\n",
      " 180000/ 200000: 1.5851\n",
      " 190000/ 200000: 1.5797\n"
     ]
    }
   ],
   "source": [
    "# same optimization as last time\n",
    "max_steps = 200000\n",
    "batch_size = 24\n",
    "lossi = []\n",
    "\n",
    "for i in range(max_steps):\n",
    "  \n",
    "  # minibatch construct\n",
    "  ix = torch.randint(0, Xtr.shape[0], (batch_size,))\n",
    "  Xb, Yb = Xtr[ix], Ytr[ix] # batch X,Y\n",
    "  \n",
    "  # forward pass\n",
    "  logits = model(Xb)\n",
    "  loss = F.cross_entropy(logits, Yb) # loss function\n",
    "  \n",
    "  # backward pass\n",
    "  for p in parameters:\n",
    "    p.grad = None\n",
    "  loss.backward()\n",
    "  \n",
    "  # update: simple SGD\n",
    "  lr = 0.1 if i < 60000 else 0.01 # step learning rate decay\n",
    "  for p in parameters:\n",
    "    p.data += -lr * p.grad\n",
    "\n",
    "  # track stats\n",
    "  if i % 10000 == 0: # print every once in a while\n",
    "    print(f'{i:7d}/{max_steps:7d}: {loss.item():.4f}')\n",
    "  lossi.append(loss.log10().item())\n"
   ]
  },
  {
   "cell_type": "code",
   "execution_count": 55,
   "metadata": {},
   "outputs": [
    {
     "data": {
      "image/png": "[encoded data removed]",
      "text/plain": [
       "<Figure size 640x480 with 1 Axes>"
      ]
     },
     "metadata": {},
     "output_type": "display_data"
    }
   ],
   "source": [
    "import torch\n",
    "import matplotlib.pyplot as plt\n",
    "\n",
    "# Assuming lossi is a list of losses stored as tensors on the GPU\n",
    "loss_tensor = torch.tensor(lossi).view(-1, 1000).mean(1)\n",
    "\n",
    "# Move the tensor to the CPU\n",
    "loss_tensor_cpu = loss_tensor.cpu()\n",
    "\n",
    "# Convert the tensor to a NumPy array\n",
    "loss_numpy = loss_tensor_cpu.numpy()\n",
    "\n",
    "# Plot using Matplotlib\n",
    "plt.plot(loss_numpy)\n",
    "plt.show()\n"
   ]
  },
  {
   "cell_type": "code",
   "execution_count": 56,
   "metadata": {},
   "outputs": [],
   "source": [
    "# put layers into eval mode (needed for batchnorm especially)\n",
    "for layer in model.layers:\n",
    "  layer.training = False"
   ]
  },
  {
   "cell_type": "code",
   "execution_count": 57,
   "metadata": {},
   "outputs": [],
   "source": [
    "# # evaluate the loss\n",
    "# @torch.no_grad() # this decorator disables gradient tracking inside pytorch\n",
    "# def split_loss(split):\n",
    "#   x,y = {\n",
    "#     'train': (Xtr, Ytr),\n",
    "#     'val': (Xdev, Ydev),\n",
    "#     'test': (Xte, Yte),\n",
    "#   }[split]\n",
    "#   logits = model(x)\n",
    "#   loss = F.cross_entropy(logits, y)\n",
    "#   print(split, loss.item())\n",
    "\n",
    "# split_loss('train')\n",
    "# split_loss('val')"
   ]
  },
  {
   "cell_type": "code",
   "execution_count": 58,
   "metadata": {},
   "outputs": [],
   "source": [
    "# # sample from the model\n",
    "# for _ in range(15):\n",
    "    \n",
    "#     out = []\n",
    "#     context = [0] * block_size # initialize with all ...\n",
    "#     # context = [stoi[i] for i in \"मुख्याल\"]\n",
    "#     # print(context)\n",
    "#     while True:\n",
    "#       # forward pass the neural net\n",
    "#       logits = model(torch.tensor([context]))\n",
    "#       probs = F.softmax(logits, dim=1)\n",
    "#       # sample from the distribution\n",
    "#       ix = torch.multinomial(probs, num_samples=1).item()\n",
    "#       # shift the context window and track the samples\n",
    "#       context = context[1:] + [ix]\n",
    "#       out.append(ix)\n",
    "#       # if we sample the special '.' token, break\n",
    "#       if ix == 0:\n",
    "#         break\n",
    "    \n",
    "#     print(''.join(itos[i] for i in out)) # decode and print the generated word"
   ]
  },
  {
   "cell_type": "code",
   "execution_count": 60,
   "metadata": {},
   "outputs": [
    {
     "name": "stdout",
     "output_type": "stream",
     "text": [
      "Generated text from 'नमस्ते' ---> नमस्ते   प्रमुख स\n",
      "Generated text from 'संपर्क' ---> संपर्क ्य टेसी  ओं\n",
      "Generated text from 'ज्ञान' ---> ज्ञान शों न मूलियटी\n",
      "Generated text from 'अनुभव' ---> अनुभव  द ये ्रेह\n",
      "Generated text from 'कृपया' ---> कृपया  मोन  क\n",
      "Generated text from 'धन्य' ---> धन्यों युद्ध ओं\n"
     ]
    }
   ],
   "source": [
    "# Updated text generation function\n",
    "def generate_text(model, seed_text, num_words=5):\n",
    "    model.eval()  # Set the model to evaluation mode\n",
    "    \n",
    "    for _ in range(num_words):\n",
    "        context = [0] * block_size\n",
    "        for ch in seed_text[-block_size:]:\n",
    "            context = context[1:] + [stoi.get(ch, 0)]\n",
    "        \n",
    "        out = []\n",
    "        while True:\n",
    "            # Convert context to tensor and add batch dimension\n",
    "            x = torch.tensor([context])\n",
    "            \n",
    "            # Forward pass through the model\n",
    "            logits = model(x)\n",
    "            probs = F.softmax(logits, dim=1)\n",
    "            \n",
    "            # Sample from the distribution\n",
    "            ix = torch.multinomial(probs, num_samples=1).item()\n",
    "            \n",
    "            # Shift the context window and track the samples\n",
    "            context = context[1:] + [ix]\n",
    "            out.append(ix)\n",
    "            \n",
    "            # Break if we sample the special '~' token (assuming '~' is the end token)\n",
    "            if ix == 0:\n",
    "                break\n",
    "        \n",
    "        word = ''.join(itos[i] for i in out[:-1])  # Exclude the '~' token\n",
    "        seed_text += word + ' '\n",
    "    \n",
    "    return seed_text.strip()\n",
    "\n",
    "# Array of Hindi words\n",
    "hindi_words = ['नमस्ते', 'संपर्क', 'ज्ञान', 'अनुभव', 'कृपया', 'धन्य']\n",
    "\n",
    "# Loop through the array and generate text for each word\n",
    "for word in hindi_words:\n",
    "    # Generate text\n",
    "    generated_text = generate_text(model, word)\n",
    "    \n",
    "    # Print the generated text\n",
    "    print(f\"Generated text from '{word}' ---> {generated_text}\")"
   ]
  }
 ],
 "metadata": {
  "kernelspec": {
   "display_name": "env",
   "language": "python",
   "name": "python3"
  },
  "language_info": {
   "codemirror_mode": {
    "name": "ipython",
    "version": 3
   },
   "file_extension": ".py",
   "mimetype": "text/x-python",
   "name": "python",
   "nbconvert_exporter": "python",
   "pygments_lexer": "ipython3",
   "version": "3.10.12"
  }
 },
 "nbformat": 4,
 "nbformat_minor": 2
}
